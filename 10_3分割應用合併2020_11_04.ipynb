{
  "nbformat": 4,
  "nbformat_minor": 0,
  "metadata": {
    "colab": {
      "name": "10.3分割應用合併2020/11/04.ipynb",
      "provenance": [],
      "collapsed_sections": [],
      "authorship_tag": "ABX9TyO2xyPaGAmnc4mekKnkprKr",
      "include_colab_link": true
    },
    "kernelspec": {
      "name": "python3",
      "display_name": "Python 3"
    }
  },
  "cells": [
    {
      "cell_type": "markdown",
      "metadata": {
        "id": "view-in-github",
        "colab_type": "text"
      },
      "source": [
        "<a href=\"https://colab.research.google.com/github/4060E009/AI_and_security/blob/master/10_3%E5%88%86%E5%89%B2%E6%87%89%E7%94%A8%E5%90%88%E4%BD%B52020_11_04.ipynb\" target=\"_parent\"><img src=\"https://colab.research.google.com/assets/colab-badge.svg\" alt=\"Open In Colab\"/></a>"
      ]
    },
    {
      "cell_type": "markdown",
      "metadata": {
        "id": "XSBOPNVdXaQr"
      },
      "source": [
        "https://nbviewer.jupyter.org/github/LearnXu/pydata-notebook/blob/master/Chapter-10/10.3%20Apply%EF%BC%9AGeneral%20split-apply-combine%EF%BC%88%E5%BA%94%E7%94%A8%EF%BC%9A%E9%80%9A%E5%B8%B8%E7%9A%84%E5%88%86%E5%89%B2-%E5%BA%94%E7%94%A8-%E5%90%88%E5%B9%B6%EF%BC%89.ipynb"
      ]
    },
    {
      "cell_type": "markdown",
      "metadata": {
        "id": "zZHTM7-OT5xw"
      },
      "source": [
        "# **General split-apply-combine**"
      ]
    },
    {
      "cell_type": "markdown",
      "metadata": {
        "id": "lpcBWfhSUNu4"
      },
      "source": [
        "**general-purpose: 可以理解為通用，泛用。**\n",
        "\n",
        "例子：在計算機軟件中，通用編程語言(General-purpose programming language )**指被設計為各種應用領域服務的編程語言。通常通用編程語言不含有為特定應用領域設計的結構。**\n",
        "\n",
        "**相對而言，特定域編程語言就是為某一個特定的領域或應用軟件設計的編程語言。比如說，LaTeX就是專門為排版文獻而設計的語言。**\n",
        "\n",
        "最通用的GroupBy(分組)**方法是apply，這也是本節的主題。如下圖所示，apply會把對象分為多個部分，然後將函數應用到每一個部分上，然後把所有的部分都合並起來**\n",
        "\n",
        "\n",
        "\n",
        "**返回之前提到的tipping數據集，假設我們想要根據不同組（group），選擇前5個tip_pct值最大的。首先，寫一個函數，函數的功能為在特定的列，選出有最大值的行**"
      ]
    },
    {
      "cell_type": "code",
      "metadata": {
        "id": "SIsb4hKxT4rb"
      },
      "source": [
        "import numpy as np\n",
        "import pandas as pd"
      ],
      "execution_count": 3,
      "outputs": []
    },
    {
      "cell_type": "code",
      "metadata": {
        "id": "iIqKjGE3UseT",
        "outputId": "2956f859-9029-4df2-86ae-d92cbabdc5a3",
        "colab": {
          "base_uri": "https://localhost:8080/"
        }
      },
      "source": [
        "!wget https://raw.githubusercontent.com/wesm/pydata-book/2nd-edition/examples/tips.csv"
      ],
      "execution_count": 4,
      "outputs": [
        {
          "output_type": "stream",
          "text": [
            "--2020-11-07 11:47:52--  https://raw.githubusercontent.com/wesm/pydata-book/2nd-edition/examples/tips.csv\n",
            "Resolving raw.githubusercontent.com (raw.githubusercontent.com)... 151.101.0.133, 151.101.64.133, 151.101.128.133, ...\n",
            "Connecting to raw.githubusercontent.com (raw.githubusercontent.com)|151.101.0.133|:443... connected.\n",
            "HTTP request sent, awaiting response... 200 OK\n",
            "Length: 6545 (6.4K) [text/plain]\n",
            "Saving to: ‘tips.csv’\n",
            "\n",
            "tips.csv            100%[===================>]   6.39K  --.-KB/s    in 0s      \n",
            "\n",
            "2020-11-07 11:47:53 (67.5 MB/s) - ‘tips.csv’ saved [6545/6545]\n",
            "\n"
          ],
          "name": "stdout"
        }
      ]
    },
    {
      "cell_type": "code",
      "metadata": {
        "id": "N-cyW7eYUzko"
      },
      "source": [
        "tips = pd.read_csv('tips.csv')"
      ],
      "execution_count": 5,
      "outputs": []
    },
    {
      "cell_type": "code",
      "metadata": {
        "id": "JhHe1sCOUwxn"
      },
      "source": [
        "# Add tip percentage of total bill\n",
        "tips['tip_pct'] = tips['tip'] / tips['total_bill']"
      ],
      "execution_count": 6,
      "outputs": []
    },
    {
      "cell_type": "code",
      "metadata": {
        "id": "zKecDr5MU7EX",
        "outputId": "fb89783d-1c03-457c-bdbe-b9b7349c6427",
        "colab": {
          "base_uri": "https://localhost:8080/",
          "height": 204
        }
      },
      "source": [
        "tips.head()"
      ],
      "execution_count": 7,
      "outputs": [
        {
          "output_type": "execute_result",
          "data": {
            "text/html": [
              "<div>\n",
              "<style scoped>\n",
              "    .dataframe tbody tr th:only-of-type {\n",
              "        vertical-align: middle;\n",
              "    }\n",
              "\n",
              "    .dataframe tbody tr th {\n",
              "        vertical-align: top;\n",
              "    }\n",
              "\n",
              "    .dataframe thead th {\n",
              "        text-align: right;\n",
              "    }\n",
              "</style>\n",
              "<table border=\"1\" class=\"dataframe\">\n",
              "  <thead>\n",
              "    <tr style=\"text-align: right;\">\n",
              "      <th></th>\n",
              "      <th>total_bill</th>\n",
              "      <th>tip</th>\n",
              "      <th>smoker</th>\n",
              "      <th>day</th>\n",
              "      <th>time</th>\n",
              "      <th>size</th>\n",
              "      <th>tip_pct</th>\n",
              "    </tr>\n",
              "  </thead>\n",
              "  <tbody>\n",
              "    <tr>\n",
              "      <th>0</th>\n",
              "      <td>16.99</td>\n",
              "      <td>1.01</td>\n",
              "      <td>No</td>\n",
              "      <td>Sun</td>\n",
              "      <td>Dinner</td>\n",
              "      <td>2</td>\n",
              "      <td>0.059447</td>\n",
              "    </tr>\n",
              "    <tr>\n",
              "      <th>1</th>\n",
              "      <td>10.34</td>\n",
              "      <td>1.66</td>\n",
              "      <td>No</td>\n",
              "      <td>Sun</td>\n",
              "      <td>Dinner</td>\n",
              "      <td>3</td>\n",
              "      <td>0.160542</td>\n",
              "    </tr>\n",
              "    <tr>\n",
              "      <th>2</th>\n",
              "      <td>21.01</td>\n",
              "      <td>3.50</td>\n",
              "      <td>No</td>\n",
              "      <td>Sun</td>\n",
              "      <td>Dinner</td>\n",
              "      <td>3</td>\n",
              "      <td>0.166587</td>\n",
              "    </tr>\n",
              "    <tr>\n",
              "      <th>3</th>\n",
              "      <td>23.68</td>\n",
              "      <td>3.31</td>\n",
              "      <td>No</td>\n",
              "      <td>Sun</td>\n",
              "      <td>Dinner</td>\n",
              "      <td>2</td>\n",
              "      <td>0.139780</td>\n",
              "    </tr>\n",
              "    <tr>\n",
              "      <th>4</th>\n",
              "      <td>24.59</td>\n",
              "      <td>3.61</td>\n",
              "      <td>No</td>\n",
              "      <td>Sun</td>\n",
              "      <td>Dinner</td>\n",
              "      <td>4</td>\n",
              "      <td>0.146808</td>\n",
              "    </tr>\n",
              "  </tbody>\n",
              "</table>\n",
              "</div>"
            ],
            "text/plain": [
              "   total_bill   tip smoker  day    time  size   tip_pct\n",
              "0       16.99  1.01     No  Sun  Dinner     2  0.059447\n",
              "1       10.34  1.66     No  Sun  Dinner     3  0.160542\n",
              "2       21.01  3.50     No  Sun  Dinner     3  0.166587\n",
              "3       23.68  3.31     No  Sun  Dinner     2  0.139780\n",
              "4       24.59  3.61     No  Sun  Dinner     4  0.146808"
            ]
          },
          "metadata": {
            "tags": []
          },
          "execution_count": 7
        }
      ]
    },
    {
      "cell_type": "code",
      "metadata": {
        "id": "_4EsV-ILU-wv"
      },
      "source": [
        "def top(df, n=5, column='tip_pct'):\n",
        "    return df.sort_values(by=column)[-n:]"
      ],
      "execution_count": 8,
      "outputs": []
    },
    {
      "cell_type": "code",
      "metadata": {
        "id": "fCmyyNj4VBDO",
        "outputId": "1c9e6593-50d3-4a63-f733-16fe6a1b0c8a",
        "colab": {
          "base_uri": "https://localhost:8080/",
          "height": 235
        }
      },
      "source": [
        "top(tips, n=6)"
      ],
      "execution_count": 9,
      "outputs": [
        {
          "output_type": "execute_result",
          "data": {
            "text/html": [
              "<div>\n",
              "<style scoped>\n",
              "    .dataframe tbody tr th:only-of-type {\n",
              "        vertical-align: middle;\n",
              "    }\n",
              "\n",
              "    .dataframe tbody tr th {\n",
              "        vertical-align: top;\n",
              "    }\n",
              "\n",
              "    .dataframe thead th {\n",
              "        text-align: right;\n",
              "    }\n",
              "</style>\n",
              "<table border=\"1\" class=\"dataframe\">\n",
              "  <thead>\n",
              "    <tr style=\"text-align: right;\">\n",
              "      <th></th>\n",
              "      <th>total_bill</th>\n",
              "      <th>tip</th>\n",
              "      <th>smoker</th>\n",
              "      <th>day</th>\n",
              "      <th>time</th>\n",
              "      <th>size</th>\n",
              "      <th>tip_pct</th>\n",
              "    </tr>\n",
              "  </thead>\n",
              "  <tbody>\n",
              "    <tr>\n",
              "      <th>109</th>\n",
              "      <td>14.31</td>\n",
              "      <td>4.00</td>\n",
              "      <td>Yes</td>\n",
              "      <td>Sat</td>\n",
              "      <td>Dinner</td>\n",
              "      <td>2</td>\n",
              "      <td>0.279525</td>\n",
              "    </tr>\n",
              "    <tr>\n",
              "      <th>183</th>\n",
              "      <td>23.17</td>\n",
              "      <td>6.50</td>\n",
              "      <td>Yes</td>\n",
              "      <td>Sun</td>\n",
              "      <td>Dinner</td>\n",
              "      <td>4</td>\n",
              "      <td>0.280535</td>\n",
              "    </tr>\n",
              "    <tr>\n",
              "      <th>232</th>\n",
              "      <td>11.61</td>\n",
              "      <td>3.39</td>\n",
              "      <td>No</td>\n",
              "      <td>Sat</td>\n",
              "      <td>Dinner</td>\n",
              "      <td>2</td>\n",
              "      <td>0.291990</td>\n",
              "    </tr>\n",
              "    <tr>\n",
              "      <th>67</th>\n",
              "      <td>3.07</td>\n",
              "      <td>1.00</td>\n",
              "      <td>Yes</td>\n",
              "      <td>Sat</td>\n",
              "      <td>Dinner</td>\n",
              "      <td>1</td>\n",
              "      <td>0.325733</td>\n",
              "    </tr>\n",
              "    <tr>\n",
              "      <th>178</th>\n",
              "      <td>9.60</td>\n",
              "      <td>4.00</td>\n",
              "      <td>Yes</td>\n",
              "      <td>Sun</td>\n",
              "      <td>Dinner</td>\n",
              "      <td>2</td>\n",
              "      <td>0.416667</td>\n",
              "    </tr>\n",
              "    <tr>\n",
              "      <th>172</th>\n",
              "      <td>7.25</td>\n",
              "      <td>5.15</td>\n",
              "      <td>Yes</td>\n",
              "      <td>Sun</td>\n",
              "      <td>Dinner</td>\n",
              "      <td>2</td>\n",
              "      <td>0.710345</td>\n",
              "    </tr>\n",
              "  </tbody>\n",
              "</table>\n",
              "</div>"
            ],
            "text/plain": [
              "     total_bill   tip smoker  day    time  size   tip_pct\n",
              "109       14.31  4.00    Yes  Sat  Dinner     2  0.279525\n",
              "183       23.17  6.50    Yes  Sun  Dinner     4  0.280535\n",
              "232       11.61  3.39     No  Sat  Dinner     2  0.291990\n",
              "67         3.07  1.00    Yes  Sat  Dinner     1  0.325733\n",
              "178        9.60  4.00    Yes  Sun  Dinner     2  0.416667\n",
              "172        7.25  5.15    Yes  Sun  Dinner     2  0.710345"
            ]
          },
          "metadata": {
            "tags": []
          },
          "execution_count": 9
        }
      ]
    },
    {
      "cell_type": "markdown",
      "metadata": {
        "id": "aiEF_6UTVB0Y"
      },
      "source": [
        "**現在，如果我們按smoker分組，然後用apply來使用這個函數，我們能得到下面的結果**"
      ]
    },
    {
      "cell_type": "code",
      "metadata": {
        "id": "BeaKey3yVHb2",
        "outputId": "3f22073b-b9ad-484e-f500-5438601efae1",
        "colab": {
          "base_uri": "https://localhost:8080/",
          "height": 390
        }
      },
      "source": [
        "tips.groupby('smoker').apply(top)"
      ],
      "execution_count": 10,
      "outputs": [
        {
          "output_type": "execute_result",
          "data": {
            "text/html": [
              "<div>\n",
              "<style scoped>\n",
              "    .dataframe tbody tr th:only-of-type {\n",
              "        vertical-align: middle;\n",
              "    }\n",
              "\n",
              "    .dataframe tbody tr th {\n",
              "        vertical-align: top;\n",
              "    }\n",
              "\n",
              "    .dataframe thead th {\n",
              "        text-align: right;\n",
              "    }\n",
              "</style>\n",
              "<table border=\"1\" class=\"dataframe\">\n",
              "  <thead>\n",
              "    <tr style=\"text-align: right;\">\n",
              "      <th></th>\n",
              "      <th></th>\n",
              "      <th>total_bill</th>\n",
              "      <th>tip</th>\n",
              "      <th>smoker</th>\n",
              "      <th>day</th>\n",
              "      <th>time</th>\n",
              "      <th>size</th>\n",
              "      <th>tip_pct</th>\n",
              "    </tr>\n",
              "    <tr>\n",
              "      <th>smoker</th>\n",
              "      <th></th>\n",
              "      <th></th>\n",
              "      <th></th>\n",
              "      <th></th>\n",
              "      <th></th>\n",
              "      <th></th>\n",
              "      <th></th>\n",
              "      <th></th>\n",
              "    </tr>\n",
              "  </thead>\n",
              "  <tbody>\n",
              "    <tr>\n",
              "      <th rowspan=\"5\" valign=\"top\">No</th>\n",
              "      <th>88</th>\n",
              "      <td>24.71</td>\n",
              "      <td>5.85</td>\n",
              "      <td>No</td>\n",
              "      <td>Thur</td>\n",
              "      <td>Lunch</td>\n",
              "      <td>2</td>\n",
              "      <td>0.236746</td>\n",
              "    </tr>\n",
              "    <tr>\n",
              "      <th>185</th>\n",
              "      <td>20.69</td>\n",
              "      <td>5.00</td>\n",
              "      <td>No</td>\n",
              "      <td>Sun</td>\n",
              "      <td>Dinner</td>\n",
              "      <td>5</td>\n",
              "      <td>0.241663</td>\n",
              "    </tr>\n",
              "    <tr>\n",
              "      <th>51</th>\n",
              "      <td>10.29</td>\n",
              "      <td>2.60</td>\n",
              "      <td>No</td>\n",
              "      <td>Sun</td>\n",
              "      <td>Dinner</td>\n",
              "      <td>2</td>\n",
              "      <td>0.252672</td>\n",
              "    </tr>\n",
              "    <tr>\n",
              "      <th>149</th>\n",
              "      <td>7.51</td>\n",
              "      <td>2.00</td>\n",
              "      <td>No</td>\n",
              "      <td>Thur</td>\n",
              "      <td>Lunch</td>\n",
              "      <td>2</td>\n",
              "      <td>0.266312</td>\n",
              "    </tr>\n",
              "    <tr>\n",
              "      <th>232</th>\n",
              "      <td>11.61</td>\n",
              "      <td>3.39</td>\n",
              "      <td>No</td>\n",
              "      <td>Sat</td>\n",
              "      <td>Dinner</td>\n",
              "      <td>2</td>\n",
              "      <td>0.291990</td>\n",
              "    </tr>\n",
              "    <tr>\n",
              "      <th rowspan=\"5\" valign=\"top\">Yes</th>\n",
              "      <th>109</th>\n",
              "      <td>14.31</td>\n",
              "      <td>4.00</td>\n",
              "      <td>Yes</td>\n",
              "      <td>Sat</td>\n",
              "      <td>Dinner</td>\n",
              "      <td>2</td>\n",
              "      <td>0.279525</td>\n",
              "    </tr>\n",
              "    <tr>\n",
              "      <th>183</th>\n",
              "      <td>23.17</td>\n",
              "      <td>6.50</td>\n",
              "      <td>Yes</td>\n",
              "      <td>Sun</td>\n",
              "      <td>Dinner</td>\n",
              "      <td>4</td>\n",
              "      <td>0.280535</td>\n",
              "    </tr>\n",
              "    <tr>\n",
              "      <th>67</th>\n",
              "      <td>3.07</td>\n",
              "      <td>1.00</td>\n",
              "      <td>Yes</td>\n",
              "      <td>Sat</td>\n",
              "      <td>Dinner</td>\n",
              "      <td>1</td>\n",
              "      <td>0.325733</td>\n",
              "    </tr>\n",
              "    <tr>\n",
              "      <th>178</th>\n",
              "      <td>9.60</td>\n",
              "      <td>4.00</td>\n",
              "      <td>Yes</td>\n",
              "      <td>Sun</td>\n",
              "      <td>Dinner</td>\n",
              "      <td>2</td>\n",
              "      <td>0.416667</td>\n",
              "    </tr>\n",
              "    <tr>\n",
              "      <th>172</th>\n",
              "      <td>7.25</td>\n",
              "      <td>5.15</td>\n",
              "      <td>Yes</td>\n",
              "      <td>Sun</td>\n",
              "      <td>Dinner</td>\n",
              "      <td>2</td>\n",
              "      <td>0.710345</td>\n",
              "    </tr>\n",
              "  </tbody>\n",
              "</table>\n",
              "</div>"
            ],
            "text/plain": [
              "            total_bill   tip smoker   day    time  size   tip_pct\n",
              "smoker                                                           \n",
              "No     88        24.71  5.85     No  Thur   Lunch     2  0.236746\n",
              "       185       20.69  5.00     No   Sun  Dinner     5  0.241663\n",
              "       51        10.29  2.60     No   Sun  Dinner     2  0.252672\n",
              "       149        7.51  2.00     No  Thur   Lunch     2  0.266312\n",
              "       232       11.61  3.39     No   Sat  Dinner     2  0.291990\n",
              "Yes    109       14.31  4.00    Yes   Sat  Dinner     2  0.279525\n",
              "       183       23.17  6.50    Yes   Sun  Dinner     4  0.280535\n",
              "       67         3.07  1.00    Yes   Sat  Dinner     1  0.325733\n",
              "       178        9.60  4.00    Yes   Sun  Dinner     2  0.416667\n",
              "       172        7.25  5.15    Yes   Sun  Dinner     2  0.710345"
            ]
          },
          "metadata": {
            "tags": []
          },
          "execution_count": 10
        }
      ]
    },
    {
      "cell_type": "markdown",
      "metadata": {
        "id": "mau470rTVLDn"
      },
      "source": [
        "**如果傳遞一個函數給apply，可以在函數之後，設定其他一些參數**"
      ]
    },
    {
      "cell_type": "code",
      "metadata": {
        "id": "ELMAFoTzVOiu",
        "outputId": "c3466496-1257-45d2-85c6-153b2f8885d9",
        "colab": {
          "base_uri": "https://localhost:8080/",
          "height": 328
        }
      },
      "source": [
        "tips.groupby(['smoker', 'day']).apply(top, n=1, column='total_bill')"
      ],
      "execution_count": 11,
      "outputs": [
        {
          "output_type": "execute_result",
          "data": {
            "text/html": [
              "<div>\n",
              "<style scoped>\n",
              "    .dataframe tbody tr th:only-of-type {\n",
              "        vertical-align: middle;\n",
              "    }\n",
              "\n",
              "    .dataframe tbody tr th {\n",
              "        vertical-align: top;\n",
              "    }\n",
              "\n",
              "    .dataframe thead th {\n",
              "        text-align: right;\n",
              "    }\n",
              "</style>\n",
              "<table border=\"1\" class=\"dataframe\">\n",
              "  <thead>\n",
              "    <tr style=\"text-align: right;\">\n",
              "      <th></th>\n",
              "      <th></th>\n",
              "      <th></th>\n",
              "      <th>total_bill</th>\n",
              "      <th>tip</th>\n",
              "      <th>smoker</th>\n",
              "      <th>day</th>\n",
              "      <th>time</th>\n",
              "      <th>size</th>\n",
              "      <th>tip_pct</th>\n",
              "    </tr>\n",
              "    <tr>\n",
              "      <th>smoker</th>\n",
              "      <th>day</th>\n",
              "      <th></th>\n",
              "      <th></th>\n",
              "      <th></th>\n",
              "      <th></th>\n",
              "      <th></th>\n",
              "      <th></th>\n",
              "      <th></th>\n",
              "      <th></th>\n",
              "    </tr>\n",
              "  </thead>\n",
              "  <tbody>\n",
              "    <tr>\n",
              "      <th rowspan=\"4\" valign=\"top\">No</th>\n",
              "      <th>Fri</th>\n",
              "      <th>94</th>\n",
              "      <td>22.75</td>\n",
              "      <td>3.25</td>\n",
              "      <td>No</td>\n",
              "      <td>Fri</td>\n",
              "      <td>Dinner</td>\n",
              "      <td>2</td>\n",
              "      <td>0.142857</td>\n",
              "    </tr>\n",
              "    <tr>\n",
              "      <th>Sat</th>\n",
              "      <th>212</th>\n",
              "      <td>48.33</td>\n",
              "      <td>9.00</td>\n",
              "      <td>No</td>\n",
              "      <td>Sat</td>\n",
              "      <td>Dinner</td>\n",
              "      <td>4</td>\n",
              "      <td>0.186220</td>\n",
              "    </tr>\n",
              "    <tr>\n",
              "      <th>Sun</th>\n",
              "      <th>156</th>\n",
              "      <td>48.17</td>\n",
              "      <td>5.00</td>\n",
              "      <td>No</td>\n",
              "      <td>Sun</td>\n",
              "      <td>Dinner</td>\n",
              "      <td>6</td>\n",
              "      <td>0.103799</td>\n",
              "    </tr>\n",
              "    <tr>\n",
              "      <th>Thur</th>\n",
              "      <th>142</th>\n",
              "      <td>41.19</td>\n",
              "      <td>5.00</td>\n",
              "      <td>No</td>\n",
              "      <td>Thur</td>\n",
              "      <td>Lunch</td>\n",
              "      <td>5</td>\n",
              "      <td>0.121389</td>\n",
              "    </tr>\n",
              "    <tr>\n",
              "      <th rowspan=\"4\" valign=\"top\">Yes</th>\n",
              "      <th>Fri</th>\n",
              "      <th>95</th>\n",
              "      <td>40.17</td>\n",
              "      <td>4.73</td>\n",
              "      <td>Yes</td>\n",
              "      <td>Fri</td>\n",
              "      <td>Dinner</td>\n",
              "      <td>4</td>\n",
              "      <td>0.117750</td>\n",
              "    </tr>\n",
              "    <tr>\n",
              "      <th>Sat</th>\n",
              "      <th>170</th>\n",
              "      <td>50.81</td>\n",
              "      <td>10.00</td>\n",
              "      <td>Yes</td>\n",
              "      <td>Sat</td>\n",
              "      <td>Dinner</td>\n",
              "      <td>3</td>\n",
              "      <td>0.196812</td>\n",
              "    </tr>\n",
              "    <tr>\n",
              "      <th>Sun</th>\n",
              "      <th>182</th>\n",
              "      <td>45.35</td>\n",
              "      <td>3.50</td>\n",
              "      <td>Yes</td>\n",
              "      <td>Sun</td>\n",
              "      <td>Dinner</td>\n",
              "      <td>3</td>\n",
              "      <td>0.077178</td>\n",
              "    </tr>\n",
              "    <tr>\n",
              "      <th>Thur</th>\n",
              "      <th>197</th>\n",
              "      <td>43.11</td>\n",
              "      <td>5.00</td>\n",
              "      <td>Yes</td>\n",
              "      <td>Thur</td>\n",
              "      <td>Lunch</td>\n",
              "      <td>4</td>\n",
              "      <td>0.115982</td>\n",
              "    </tr>\n",
              "  </tbody>\n",
              "</table>\n",
              "</div>"
            ],
            "text/plain": [
              "                 total_bill    tip smoker   day    time  size   tip_pct\n",
              "smoker day                                                             \n",
              "No     Fri  94        22.75   3.25     No   Fri  Dinner     2  0.142857\n",
              "       Sat  212       48.33   9.00     No   Sat  Dinner     4  0.186220\n",
              "       Sun  156       48.17   5.00     No   Sun  Dinner     6  0.103799\n",
              "       Thur 142       41.19   5.00     No  Thur   Lunch     5  0.121389\n",
              "Yes    Fri  95        40.17   4.73    Yes   Fri  Dinner     4  0.117750\n",
              "       Sat  170       50.81  10.00    Yes   Sat  Dinner     3  0.196812\n",
              "       Sun  182       45.35   3.50    Yes   Sun  Dinner     3  0.077178\n",
              "       Thur 197       43.11   5.00    Yes  Thur   Lunch     4  0.115982"
            ]
          },
          "metadata": {
            "tags": []
          },
          "execution_count": 11
        }
      ]
    },
    {
      "cell_type": "markdown",
      "metadata": {
        "id": "bS_VV8NSVQ2u"
      },
      "source": [
        "**試一試在GroupBy對象上調用describe**"
      ]
    },
    {
      "cell_type": "code",
      "metadata": {
        "id": "tlx9gvU1VURX"
      },
      "source": [
        "result = tips.groupby('smoker')['tip_pct'].describe()"
      ],
      "execution_count": 12,
      "outputs": []
    },
    {
      "cell_type": "code",
      "metadata": {
        "id": "C-35FN9gVWXP",
        "outputId": "36f3f6c1-2e7b-4f24-df9d-d7e2150d4038",
        "colab": {
          "base_uri": "https://localhost:8080/",
          "height": 142
        }
      },
      "source": [
        "result"
      ],
      "execution_count": 13,
      "outputs": [
        {
          "output_type": "execute_result",
          "data": {
            "text/html": [
              "<div>\n",
              "<style scoped>\n",
              "    .dataframe tbody tr th:only-of-type {\n",
              "        vertical-align: middle;\n",
              "    }\n",
              "\n",
              "    .dataframe tbody tr th {\n",
              "        vertical-align: top;\n",
              "    }\n",
              "\n",
              "    .dataframe thead th {\n",
              "        text-align: right;\n",
              "    }\n",
              "</style>\n",
              "<table border=\"1\" class=\"dataframe\">\n",
              "  <thead>\n",
              "    <tr style=\"text-align: right;\">\n",
              "      <th></th>\n",
              "      <th>count</th>\n",
              "      <th>mean</th>\n",
              "      <th>std</th>\n",
              "      <th>min</th>\n",
              "      <th>25%</th>\n",
              "      <th>50%</th>\n",
              "      <th>75%</th>\n",
              "      <th>max</th>\n",
              "    </tr>\n",
              "    <tr>\n",
              "      <th>smoker</th>\n",
              "      <th></th>\n",
              "      <th></th>\n",
              "      <th></th>\n",
              "      <th></th>\n",
              "      <th></th>\n",
              "      <th></th>\n",
              "      <th></th>\n",
              "      <th></th>\n",
              "    </tr>\n",
              "  </thead>\n",
              "  <tbody>\n",
              "    <tr>\n",
              "      <th>No</th>\n",
              "      <td>151.0</td>\n",
              "      <td>0.159328</td>\n",
              "      <td>0.039910</td>\n",
              "      <td>0.056797</td>\n",
              "      <td>0.136906</td>\n",
              "      <td>0.155625</td>\n",
              "      <td>0.185014</td>\n",
              "      <td>0.291990</td>\n",
              "    </tr>\n",
              "    <tr>\n",
              "      <th>Yes</th>\n",
              "      <td>93.0</td>\n",
              "      <td>0.163196</td>\n",
              "      <td>0.085119</td>\n",
              "      <td>0.035638</td>\n",
              "      <td>0.106771</td>\n",
              "      <td>0.153846</td>\n",
              "      <td>0.195059</td>\n",
              "      <td>0.710345</td>\n",
              "    </tr>\n",
              "  </tbody>\n",
              "</table>\n",
              "</div>"
            ],
            "text/plain": [
              "        count      mean       std  ...       50%       75%       max\n",
              "smoker                             ...                              \n",
              "No      151.0  0.159328  0.039910  ...  0.155625  0.185014  0.291990\n",
              "Yes      93.0  0.163196  0.085119  ...  0.153846  0.195059  0.710345\n",
              "\n",
              "[2 rows x 8 columns]"
            ]
          },
          "metadata": {
            "tags": []
          },
          "execution_count": 13
        }
      ]
    },
    {
      "cell_type": "code",
      "metadata": {
        "id": "symyZQHqVa9H",
        "outputId": "3d311e58-e456-48cd-fb97-183ea83f9f25",
        "colab": {
          "base_uri": "https://localhost:8080/"
        }
      },
      "source": [
        "result.unstack('smoker')"
      ],
      "execution_count": 14,
      "outputs": [
        {
          "output_type": "execute_result",
          "data": {
            "text/plain": [
              "       smoker\n",
              "count  No        151.000000\n",
              "       Yes        93.000000\n",
              "mean   No          0.159328\n",
              "       Yes         0.163196\n",
              "std    No          0.039910\n",
              "       Yes         0.085119\n",
              "min    No          0.056797\n",
              "       Yes         0.035638\n",
              "25%    No          0.136906\n",
              "       Yes         0.106771\n",
              "50%    No          0.155625\n",
              "       Yes         0.153846\n",
              "75%    No          0.185014\n",
              "       Yes         0.195059\n",
              "max    No          0.291990\n",
              "       Yes         0.710345\n",
              "dtype: float64"
            ]
          },
          "metadata": {
            "tags": []
          },
          "execution_count": 14
        }
      ]
    },
    {
      "cell_type": "markdown",
      "metadata": {
        "id": "xlntsxwuVb8W"
      },
      "source": [
        "**在GroupBy內部，當我們想要調用一個像describe這樣的函數的時候，其實相當於下面的寫法：**\n",
        "\n",
        "**f = lambda x: x.describe()**\n",
        "\n",
        "**grouped.apply(f)**\n"
      ]
    },
    {
      "cell_type": "markdown",
      "metadata": {
        "id": "KhyfxyF5Vnf2"
      },
      "source": [
        "# **Suppressing the Group Keys**"
      ]
    },
    {
      "cell_type": "markdown",
      "metadata": {
        "id": "sBxgHWNaVxTe"
      },
      "source": [
        "**我們可以在groupby函數中設置group_keys=False來關閉這個功能**"
      ]
    },
    {
      "cell_type": "code",
      "metadata": {
        "id": "HX5A0J5zVpYu",
        "outputId": "2efff991-f160-48cc-db46-ea3d6100a6f9",
        "colab": {
          "base_uri": "https://localhost:8080/",
          "height": 359
        }
      },
      "source": [
        "tips.groupby('smoker', group_keys=False).apply(top)"
      ],
      "execution_count": 15,
      "outputs": [
        {
          "output_type": "execute_result",
          "data": {
            "text/html": [
              "<div>\n",
              "<style scoped>\n",
              "    .dataframe tbody tr th:only-of-type {\n",
              "        vertical-align: middle;\n",
              "    }\n",
              "\n",
              "    .dataframe tbody tr th {\n",
              "        vertical-align: top;\n",
              "    }\n",
              "\n",
              "    .dataframe thead th {\n",
              "        text-align: right;\n",
              "    }\n",
              "</style>\n",
              "<table border=\"1\" class=\"dataframe\">\n",
              "  <thead>\n",
              "    <tr style=\"text-align: right;\">\n",
              "      <th></th>\n",
              "      <th>total_bill</th>\n",
              "      <th>tip</th>\n",
              "      <th>smoker</th>\n",
              "      <th>day</th>\n",
              "      <th>time</th>\n",
              "      <th>size</th>\n",
              "      <th>tip_pct</th>\n",
              "    </tr>\n",
              "  </thead>\n",
              "  <tbody>\n",
              "    <tr>\n",
              "      <th>88</th>\n",
              "      <td>24.71</td>\n",
              "      <td>5.85</td>\n",
              "      <td>No</td>\n",
              "      <td>Thur</td>\n",
              "      <td>Lunch</td>\n",
              "      <td>2</td>\n",
              "      <td>0.236746</td>\n",
              "    </tr>\n",
              "    <tr>\n",
              "      <th>185</th>\n",
              "      <td>20.69</td>\n",
              "      <td>5.00</td>\n",
              "      <td>No</td>\n",
              "      <td>Sun</td>\n",
              "      <td>Dinner</td>\n",
              "      <td>5</td>\n",
              "      <td>0.241663</td>\n",
              "    </tr>\n",
              "    <tr>\n",
              "      <th>51</th>\n",
              "      <td>10.29</td>\n",
              "      <td>2.60</td>\n",
              "      <td>No</td>\n",
              "      <td>Sun</td>\n",
              "      <td>Dinner</td>\n",
              "      <td>2</td>\n",
              "      <td>0.252672</td>\n",
              "    </tr>\n",
              "    <tr>\n",
              "      <th>149</th>\n",
              "      <td>7.51</td>\n",
              "      <td>2.00</td>\n",
              "      <td>No</td>\n",
              "      <td>Thur</td>\n",
              "      <td>Lunch</td>\n",
              "      <td>2</td>\n",
              "      <td>0.266312</td>\n",
              "    </tr>\n",
              "    <tr>\n",
              "      <th>232</th>\n",
              "      <td>11.61</td>\n",
              "      <td>3.39</td>\n",
              "      <td>No</td>\n",
              "      <td>Sat</td>\n",
              "      <td>Dinner</td>\n",
              "      <td>2</td>\n",
              "      <td>0.291990</td>\n",
              "    </tr>\n",
              "    <tr>\n",
              "      <th>109</th>\n",
              "      <td>14.31</td>\n",
              "      <td>4.00</td>\n",
              "      <td>Yes</td>\n",
              "      <td>Sat</td>\n",
              "      <td>Dinner</td>\n",
              "      <td>2</td>\n",
              "      <td>0.279525</td>\n",
              "    </tr>\n",
              "    <tr>\n",
              "      <th>183</th>\n",
              "      <td>23.17</td>\n",
              "      <td>6.50</td>\n",
              "      <td>Yes</td>\n",
              "      <td>Sun</td>\n",
              "      <td>Dinner</td>\n",
              "      <td>4</td>\n",
              "      <td>0.280535</td>\n",
              "    </tr>\n",
              "    <tr>\n",
              "      <th>67</th>\n",
              "      <td>3.07</td>\n",
              "      <td>1.00</td>\n",
              "      <td>Yes</td>\n",
              "      <td>Sat</td>\n",
              "      <td>Dinner</td>\n",
              "      <td>1</td>\n",
              "      <td>0.325733</td>\n",
              "    </tr>\n",
              "    <tr>\n",
              "      <th>178</th>\n",
              "      <td>9.60</td>\n",
              "      <td>4.00</td>\n",
              "      <td>Yes</td>\n",
              "      <td>Sun</td>\n",
              "      <td>Dinner</td>\n",
              "      <td>2</td>\n",
              "      <td>0.416667</td>\n",
              "    </tr>\n",
              "    <tr>\n",
              "      <th>172</th>\n",
              "      <td>7.25</td>\n",
              "      <td>5.15</td>\n",
              "      <td>Yes</td>\n",
              "      <td>Sun</td>\n",
              "      <td>Dinner</td>\n",
              "      <td>2</td>\n",
              "      <td>0.710345</td>\n",
              "    </tr>\n",
              "  </tbody>\n",
              "</table>\n",
              "</div>"
            ],
            "text/plain": [
              "     total_bill   tip smoker   day    time  size   tip_pct\n",
              "88        24.71  5.85     No  Thur   Lunch     2  0.236746\n",
              "185       20.69  5.00     No   Sun  Dinner     5  0.241663\n",
              "51        10.29  2.60     No   Sun  Dinner     2  0.252672\n",
              "149        7.51  2.00     No  Thur   Lunch     2  0.266312\n",
              "232       11.61  3.39     No   Sat  Dinner     2  0.291990\n",
              "109       14.31  4.00    Yes   Sat  Dinner     2  0.279525\n",
              "183       23.17  6.50    Yes   Sun  Dinner     4  0.280535\n",
              "67         3.07  1.00    Yes   Sat  Dinner     1  0.325733\n",
              "178        9.60  4.00    Yes   Sun  Dinner     2  0.416667\n",
              "172        7.25  5.15    Yes   Sun  Dinner     2  0.710345"
            ]
          },
          "metadata": {
            "tags": []
          },
          "execution_count": 15
        }
      ]
    },
    {
      "cell_type": "markdown",
      "metadata": {
        "id": "zZ6ezdemV1SP"
      },
      "source": [
        "# **Quantile and Bucket Analysis**"
      ]
    },
    {
      "cell_type": "markdown",
      "metadata": {
        "id": "3lulS3NfWHmS"
      },
      "source": [
        "**把函數通過groupby整合起來，可以在做桶分析或分位數分析的時候更方便。假設一個簡單的隨機數據集和一個等長的桶類型（bucket categorization），使用cut**"
      ]
    },
    {
      "cell_type": "code",
      "metadata": {
        "id": "az0X0JyLW990",
        "outputId": "ff3f786c-3806-4512-ea49-9a89ff22078a",
        "colab": {
          "base_uri": "https://localhost:8080/",
          "height": 204
        }
      },
      "source": [
        "frame = pd.DataFrame({'data1': np.random.randn(1000),\n",
        "                       'data2': np.random.randn(1000)})\n",
        "frame.head()"
      ],
      "execution_count": 16,
      "outputs": [
        {
          "output_type": "execute_result",
          "data": {
            "text/html": [
              "<div>\n",
              "<style scoped>\n",
              "    .dataframe tbody tr th:only-of-type {\n",
              "        vertical-align: middle;\n",
              "    }\n",
              "\n",
              "    .dataframe tbody tr th {\n",
              "        vertical-align: top;\n",
              "    }\n",
              "\n",
              "    .dataframe thead th {\n",
              "        text-align: right;\n",
              "    }\n",
              "</style>\n",
              "<table border=\"1\" class=\"dataframe\">\n",
              "  <thead>\n",
              "    <tr style=\"text-align: right;\">\n",
              "      <th></th>\n",
              "      <th>data1</th>\n",
              "      <th>data2</th>\n",
              "    </tr>\n",
              "  </thead>\n",
              "  <tbody>\n",
              "    <tr>\n",
              "      <th>0</th>\n",
              "      <td>-0.431798</td>\n",
              "      <td>-1.131884</td>\n",
              "    </tr>\n",
              "    <tr>\n",
              "      <th>1</th>\n",
              "      <td>-0.173481</td>\n",
              "      <td>-0.609419</td>\n",
              "    </tr>\n",
              "    <tr>\n",
              "      <th>2</th>\n",
              "      <td>0.792998</td>\n",
              "      <td>-0.190936</td>\n",
              "    </tr>\n",
              "    <tr>\n",
              "      <th>3</th>\n",
              "      <td>-1.727124</td>\n",
              "      <td>-0.736443</td>\n",
              "    </tr>\n",
              "    <tr>\n",
              "      <th>4</th>\n",
              "      <td>-1.432412</td>\n",
              "      <td>1.117179</td>\n",
              "    </tr>\n",
              "  </tbody>\n",
              "</table>\n",
              "</div>"
            ],
            "text/plain": [
              "      data1     data2\n",
              "0 -0.431798 -1.131884\n",
              "1 -0.173481 -0.609419\n",
              "2  0.792998 -0.190936\n",
              "3 -1.727124 -0.736443\n",
              "4 -1.432412  1.117179"
            ]
          },
          "metadata": {
            "tags": []
          },
          "execution_count": 16
        }
      ]
    },
    {
      "cell_type": "code",
      "metadata": {
        "id": "qbpk_kd8XClS",
        "outputId": "79c02cf1-f874-4df2-85a7-48c44376f829",
        "colab": {
          "base_uri": "https://localhost:8080/"
        }
      },
      "source": [
        "quartiles = pd.cut(frame.data1, 4)\n",
        "quartiles[:10]"
      ],
      "execution_count": 17,
      "outputs": [
        {
          "output_type": "execute_result",
          "data": {
            "text/plain": [
              "0     (-1.361, 0.184]\n",
              "1     (-1.361, 0.184]\n",
              "2      (0.184, 1.728]\n",
              "3    (-2.912, -1.361]\n",
              "4    (-2.912, -1.361]\n",
              "5     (-1.361, 0.184]\n",
              "6     (-1.361, 0.184]\n",
              "7     (-1.361, 0.184]\n",
              "8      (1.728, 3.273]\n",
              "9     (-1.361, 0.184]\n",
              "Name: data1, dtype: category\n",
              "Categories (4, interval[float64]): [(-2.912, -1.361] < (-1.361, 0.184] < (0.184, 1.728] <\n",
              "                                    (1.728, 3.273]]"
            ]
          },
          "metadata": {
            "tags": []
          },
          "execution_count": 17
        }
      ]
    },
    {
      "cell_type": "markdown",
      "metadata": {
        "id": "eT4NJx4GXIYZ"
      },
      "source": [
        "**cut返回的Categorical object（類別對象）能直接傳入groupby。所以我們可以在data2列上計算很多統計值**"
      ]
    },
    {
      "cell_type": "code",
      "metadata": {
        "id": "97VlnXiLXKLQ"
      },
      "source": [
        "def get_stats(group):\n",
        "    return {'min': group.min(), 'max': group.max(),\n",
        "            'count': group.count(), 'mean': group.mean()}\n"
      ],
      "execution_count": 18,
      "outputs": []
    },
    {
      "cell_type": "code",
      "metadata": {
        "id": "1fdvDu2UXNlH"
      },
      "source": [
        "grouped = frame.data2.groupby(quartiles)"
      ],
      "execution_count": 19,
      "outputs": []
    },
    {
      "cell_type": "code",
      "metadata": {
        "id": "nbMJFK-1XPpf",
        "outputId": "d9712afe-fdbe-454b-c4a7-d0b0707411eb",
        "colab": {
          "base_uri": "https://localhost:8080/",
          "height": 204
        }
      },
      "source": [
        "grouped.apply(get_stats).unstack()"
      ],
      "execution_count": 20,
      "outputs": [
        {
          "output_type": "execute_result",
          "data": {
            "text/html": [
              "<div>\n",
              "<style scoped>\n",
              "    .dataframe tbody tr th:only-of-type {\n",
              "        vertical-align: middle;\n",
              "    }\n",
              "\n",
              "    .dataframe tbody tr th {\n",
              "        vertical-align: top;\n",
              "    }\n",
              "\n",
              "    .dataframe thead th {\n",
              "        text-align: right;\n",
              "    }\n",
              "</style>\n",
              "<table border=\"1\" class=\"dataframe\">\n",
              "  <thead>\n",
              "    <tr style=\"text-align: right;\">\n",
              "      <th></th>\n",
              "      <th>min</th>\n",
              "      <th>max</th>\n",
              "      <th>count</th>\n",
              "      <th>mean</th>\n",
              "    </tr>\n",
              "    <tr>\n",
              "      <th>data1</th>\n",
              "      <th></th>\n",
              "      <th></th>\n",
              "      <th></th>\n",
              "      <th></th>\n",
              "    </tr>\n",
              "  </thead>\n",
              "  <tbody>\n",
              "    <tr>\n",
              "      <th>(-2.912, -1.361]</th>\n",
              "      <td>-2.758308</td>\n",
              "      <td>2.100513</td>\n",
              "      <td>75.0</td>\n",
              "      <td>-0.066076</td>\n",
              "    </tr>\n",
              "    <tr>\n",
              "      <th>(-1.361, 0.184]</th>\n",
              "      <td>-3.163293</td>\n",
              "      <td>2.955798</td>\n",
              "      <td>496.0</td>\n",
              "      <td>0.021410</td>\n",
              "    </tr>\n",
              "    <tr>\n",
              "      <th>(0.184, 1.728]</th>\n",
              "      <td>-3.888441</td>\n",
              "      <td>3.477124</td>\n",
              "      <td>387.0</td>\n",
              "      <td>0.022745</td>\n",
              "    </tr>\n",
              "    <tr>\n",
              "      <th>(1.728, 3.273]</th>\n",
              "      <td>-2.017046</td>\n",
              "      <td>2.059969</td>\n",
              "      <td>42.0</td>\n",
              "      <td>0.302372</td>\n",
              "    </tr>\n",
              "  </tbody>\n",
              "</table>\n",
              "</div>"
            ],
            "text/plain": [
              "                       min       max  count      mean\n",
              "data1                                                \n",
              "(-2.912, -1.361] -2.758308  2.100513   75.0 -0.066076\n",
              "(-1.361, 0.184]  -3.163293  2.955798  496.0  0.021410\n",
              "(0.184, 1.728]   -3.888441  3.477124  387.0  0.022745\n",
              "(1.728, 3.273]   -2.017046  2.059969   42.0  0.302372"
            ]
          },
          "metadata": {
            "tags": []
          },
          "execution_count": 20
        }
      ]
    },
    {
      "cell_type": "markdown",
      "metadata": {
        "id": "aqv2ocM1XRWf"
      },
      "source": [
        "**也有相同長度的桶（equal-length buckets）；想要按照樣本的分位數得到相同長度的桶，用qcut。這里設定labels=False來得到分位數的數量**"
      ]
    },
    {
      "cell_type": "code",
      "metadata": {
        "id": "si_85LpiXW7P"
      },
      "source": [
        "# Return quantile numbers\n",
        "grouping = pd.qcut(frame.data1, 10, labels=False)"
      ],
      "execution_count": 21,
      "outputs": []
    },
    {
      "cell_type": "code",
      "metadata": {
        "id": "eEEUor8qiCR8"
      },
      "source": [
        "grouped = frame.data2.groupby(grouping)"
      ],
      "execution_count": 22,
      "outputs": []
    },
    {
      "cell_type": "code",
      "metadata": {
        "id": "SkdJgYgNiFwQ",
        "outputId": "3254fc7d-95ba-464c-8f65-f82815029418",
        "colab": {
          "base_uri": "https://localhost:8080/",
          "height": 390
        }
      },
      "source": [
        "grouped.apply(get_stats).unstack()"
      ],
      "execution_count": 23,
      "outputs": [
        {
          "output_type": "execute_result",
          "data": {
            "text/html": [
              "<div>\n",
              "<style scoped>\n",
              "    .dataframe tbody tr th:only-of-type {\n",
              "        vertical-align: middle;\n",
              "    }\n",
              "\n",
              "    .dataframe tbody tr th {\n",
              "        vertical-align: top;\n",
              "    }\n",
              "\n",
              "    .dataframe thead th {\n",
              "        text-align: right;\n",
              "    }\n",
              "</style>\n",
              "<table border=\"1\" class=\"dataframe\">\n",
              "  <thead>\n",
              "    <tr style=\"text-align: right;\">\n",
              "      <th></th>\n",
              "      <th>min</th>\n",
              "      <th>max</th>\n",
              "      <th>count</th>\n",
              "      <th>mean</th>\n",
              "    </tr>\n",
              "    <tr>\n",
              "      <th>data1</th>\n",
              "      <th></th>\n",
              "      <th></th>\n",
              "      <th></th>\n",
              "      <th></th>\n",
              "    </tr>\n",
              "  </thead>\n",
              "  <tbody>\n",
              "    <tr>\n",
              "      <th>0</th>\n",
              "      <td>-2.758308</td>\n",
              "      <td>2.100513</td>\n",
              "      <td>100.0</td>\n",
              "      <td>-0.028172</td>\n",
              "    </tr>\n",
              "    <tr>\n",
              "      <th>1</th>\n",
              "      <td>-2.502089</td>\n",
              "      <td>2.259558</td>\n",
              "      <td>100.0</td>\n",
              "      <td>-0.028424</td>\n",
              "    </tr>\n",
              "    <tr>\n",
              "      <th>2</th>\n",
              "      <td>-2.369822</td>\n",
              "      <td>2.292001</td>\n",
              "      <td>100.0</td>\n",
              "      <td>-0.019037</td>\n",
              "    </tr>\n",
              "    <tr>\n",
              "      <th>3</th>\n",
              "      <td>-3.163293</td>\n",
              "      <td>2.214728</td>\n",
              "      <td>100.0</td>\n",
              "      <td>0.004149</td>\n",
              "    </tr>\n",
              "    <tr>\n",
              "      <th>4</th>\n",
              "      <td>-2.091060</td>\n",
              "      <td>2.485396</td>\n",
              "      <td>100.0</td>\n",
              "      <td>0.140502</td>\n",
              "    </tr>\n",
              "    <tr>\n",
              "      <th>5</th>\n",
              "      <td>-2.392882</td>\n",
              "      <td>2.955798</td>\n",
              "      <td>100.0</td>\n",
              "      <td>-0.032189</td>\n",
              "    </tr>\n",
              "    <tr>\n",
              "      <th>6</th>\n",
              "      <td>-3.888441</td>\n",
              "      <td>3.360453</td>\n",
              "      <td>100.0</td>\n",
              "      <td>0.099498</td>\n",
              "    </tr>\n",
              "    <tr>\n",
              "      <th>7</th>\n",
              "      <td>-2.646949</td>\n",
              "      <td>3.477124</td>\n",
              "      <td>100.0</td>\n",
              "      <td>0.141860</td>\n",
              "    </tr>\n",
              "    <tr>\n",
              "      <th>8</th>\n",
              "      <td>-2.447992</td>\n",
              "      <td>1.958589</td>\n",
              "      <td>100.0</td>\n",
              "      <td>-0.045918</td>\n",
              "    </tr>\n",
              "    <tr>\n",
              "      <th>9</th>\n",
              "      <td>-2.463380</td>\n",
              "      <td>2.299685</td>\n",
              "      <td>100.0</td>\n",
              "      <td>0.039386</td>\n",
              "    </tr>\n",
              "  </tbody>\n",
              "</table>\n",
              "</div>"
            ],
            "text/plain": [
              "            min       max  count      mean\n",
              "data1                                     \n",
              "0     -2.758308  2.100513  100.0 -0.028172\n",
              "1     -2.502089  2.259558  100.0 -0.028424\n",
              "2     -2.369822  2.292001  100.0 -0.019037\n",
              "3     -3.163293  2.214728  100.0  0.004149\n",
              "4     -2.091060  2.485396  100.0  0.140502\n",
              "5     -2.392882  2.955798  100.0 -0.032189\n",
              "6     -3.888441  3.360453  100.0  0.099498\n",
              "7     -2.646949  3.477124  100.0  0.141860\n",
              "8     -2.447992  1.958589  100.0 -0.045918\n",
              "9     -2.463380  2.299685  100.0  0.039386"
            ]
          },
          "metadata": {
            "tags": []
          },
          "execution_count": 23
        }
      ]
    },
    {
      "cell_type": "markdown",
      "metadata": {
        "id": "n_wqfKWyiaXC"
      },
      "source": [
        "# **Example: Filling Missing Values with Group-Specific Values**"
      ]
    },
    {
      "cell_type": "markdown",
      "metadata": {
        "id": "0Pj8RNPhikaD"
      },
      "source": [
        "**在處理缺失值的時候，一些情況下我們會直接用dropna來把缺失值刪除，但另一些情況下，我們希望用一些固定的值來代替缺失值，而fillna就是用來做這個的，例如，這里我們用平均值mean來代替缺失值NA**"
      ]
    },
    {
      "cell_type": "code",
      "metadata": {
        "id": "ny_dW83FinLB"
      },
      "source": [
        "s = pd.Series(np.random.randn(6))"
      ],
      "execution_count": 24,
      "outputs": []
    },
    {
      "cell_type": "code",
      "metadata": {
        "id": "o423N6a_ipSB"
      },
      "source": [
        "s[::2] = np.nan"
      ],
      "execution_count": 25,
      "outputs": []
    },
    {
      "cell_type": "code",
      "metadata": {
        "id": "NBMUHOq0iqmw",
        "outputId": "a8237540-c361-4bcc-f358-bf43f003a875",
        "colab": {
          "base_uri": "https://localhost:8080/"
        }
      },
      "source": [
        "s"
      ],
      "execution_count": 26,
      "outputs": [
        {
          "output_type": "execute_result",
          "data": {
            "text/plain": [
              "0         NaN\n",
              "1    1.613352\n",
              "2         NaN\n",
              "3    0.123932\n",
              "4         NaN\n",
              "5    1.653668\n",
              "dtype: float64"
            ]
          },
          "metadata": {
            "tags": []
          },
          "execution_count": 26
        }
      ]
    },
    {
      "cell_type": "code",
      "metadata": {
        "id": "kflGtdzQitgK",
        "outputId": "02f560cf-c461-4f06-fafc-e81d3e20ebd9",
        "colab": {
          "base_uri": "https://localhost:8080/"
        }
      },
      "source": [
        "s.fillna(s.mean())"
      ],
      "execution_count": 27,
      "outputs": [
        {
          "output_type": "execute_result",
          "data": {
            "text/plain": [
              "0    1.130317\n",
              "1    1.613352\n",
              "2    1.130317\n",
              "3    0.123932\n",
              "4    1.130317\n",
              "5    1.653668\n",
              "dtype: float64"
            ]
          },
          "metadata": {
            "tags": []
          },
          "execution_count": 27
        }
      ]
    },
    {
      "cell_type": "markdown",
      "metadata": {
        "id": "RSVWwhV-ixxk"
      },
      "source": [
        "**假設我們想要給每一組填充不同的值。一個方法就是對數據分組後，用apply來調用fillna，在每一個組上執行一次。這里有一些樣本是把美國各州分為西部和東部**"
      ]
    },
    {
      "cell_type": "code",
      "metadata": {
        "id": "KJXkXGhUiy3A"
      },
      "source": [
        "states = ['Ohio', 'New York', 'Vermont', 'Florida',\n",
        "          'Oregon', 'Nevada', 'California', 'Idaho']"
      ],
      "execution_count": 28,
      "outputs": []
    },
    {
      "cell_type": "code",
      "metadata": {
        "id": "v_01swApi1yY",
        "outputId": "b8bd9414-4bb4-4db7-8bf4-ae18ee4f8152",
        "colab": {
          "base_uri": "https://localhost:8080/"
        }
      },
      "source": [
        "group_key = ['East'] * 4 + ['West'] * 4\n",
        "group_key"
      ],
      "execution_count": 29,
      "outputs": [
        {
          "output_type": "execute_result",
          "data": {
            "text/plain": [
              "['East', 'East', 'East', 'East', 'West', 'West', 'West', 'West']"
            ]
          },
          "metadata": {
            "tags": []
          },
          "execution_count": 29
        }
      ]
    },
    {
      "cell_type": "code",
      "metadata": {
        "id": "nWc2ANpTi3vx",
        "outputId": "a4cb0654-ab0b-405a-ea86-49c3aba3ab21",
        "colab": {
          "base_uri": "https://localhost:8080/"
        }
      },
      "source": [
        "data = pd.Series(np.random.randn(8), index=states)\n",
        "data"
      ],
      "execution_count": 30,
      "outputs": [
        {
          "output_type": "execute_result",
          "data": {
            "text/plain": [
              "Ohio          0.689508\n",
              "New York     -1.377439\n",
              "Vermont      -1.646232\n",
              "Florida       0.091466\n",
              "Oregon       -0.423836\n",
              "Nevada        1.126556\n",
              "California   -0.284841\n",
              "Idaho         0.955843\n",
              "dtype: float64"
            ]
          },
          "metadata": {
            "tags": []
          },
          "execution_count": 30
        }
      ]
    },
    {
      "cell_type": "markdown",
      "metadata": {
        "id": "oZuPTy9di7ab"
      },
      "source": [
        "**我們令data中某些值為缺失值**"
      ]
    },
    {
      "cell_type": "code",
      "metadata": {
        "id": "s21hAv2oi82A",
        "outputId": "b4dc4923-9218-466a-bd2c-4cb1574fd1fe",
        "colab": {
          "base_uri": "https://localhost:8080/"
        }
      },
      "source": [
        "data[['Vermont', 'Nevada', 'Idaho']] = np.nan\n",
        "data"
      ],
      "execution_count": 31,
      "outputs": [
        {
          "output_type": "execute_result",
          "data": {
            "text/plain": [
              "Ohio          0.689508\n",
              "New York     -1.377439\n",
              "Vermont            NaN\n",
              "Florida       0.091466\n",
              "Oregon       -0.423836\n",
              "Nevada             NaN\n",
              "California   -0.284841\n",
              "Idaho              NaN\n",
              "dtype: float64"
            ]
          },
          "metadata": {
            "tags": []
          },
          "execution_count": 31
        }
      ]
    },
    {
      "cell_type": "code",
      "metadata": {
        "id": "KVcHgG_Ki-nH",
        "outputId": "1a6a4c62-ba06-49e9-fadf-fd59ac9a0eff",
        "colab": {
          "base_uri": "https://localhost:8080/"
        }
      },
      "source": [
        "data.groupby(group_key).mean()"
      ],
      "execution_count": 32,
      "outputs": [
        {
          "output_type": "execute_result",
          "data": {
            "text/plain": [
              "East   -0.198821\n",
              "West   -0.354338\n",
              "dtype: float64"
            ]
          },
          "metadata": {
            "tags": []
          },
          "execution_count": 32
        }
      ]
    },
    {
      "cell_type": "markdown",
      "metadata": {
        "id": "KwMwhw9ajCgP"
      },
      "source": [
        "**然后我们可以用每个组的平均值来填充NA**"
      ]
    },
    {
      "cell_type": "code",
      "metadata": {
        "id": "L42yRcgDjAGj"
      },
      "source": [
        "fill_mean = lambda g: g.fillna(g.mean())"
      ],
      "execution_count": 33,
      "outputs": []
    },
    {
      "cell_type": "code",
      "metadata": {
        "id": "SgEiuhhBjE8T",
        "outputId": "0cdeeedb-6a7b-4cc1-d611-aa3f45770bc1",
        "colab": {
          "base_uri": "https://localhost:8080/"
        }
      },
      "source": [
        "data.groupby(group_key).apply(fill_mean)"
      ],
      "execution_count": 34,
      "outputs": [
        {
          "output_type": "execute_result",
          "data": {
            "text/plain": [
              "Ohio          0.689508\n",
              "New York     -1.377439\n",
              "Vermont      -0.198821\n",
              "Florida       0.091466\n",
              "Oregon       -0.423836\n",
              "Nevada       -0.354338\n",
              "California   -0.284841\n",
              "Idaho        -0.354338\n",
              "dtype: float64"
            ]
          },
          "metadata": {
            "tags": []
          },
          "execution_count": 34
        }
      ]
    },
    {
      "cell_type": "markdown",
      "metadata": {
        "id": "7ZMO4gmnjGkJ"
      },
      "source": [
        "**在另外一些情況下，我們可能希望提前設定好用於不同組的填充值。因為group有一個name屬性，我們可以利用這個**"
      ]
    },
    {
      "cell_type": "code",
      "metadata": {
        "id": "H8PzdNDajJVl"
      },
      "source": [
        "fill_values = {'East': 0.5, 'West': -1}"
      ],
      "execution_count": 35,
      "outputs": []
    },
    {
      "cell_type": "code",
      "metadata": {
        "id": "836buQkRjKxf"
      },
      "source": [
        "fill_func = lambda g: g.fillna(fill_values[g.name])"
      ],
      "execution_count": 36,
      "outputs": []
    },
    {
      "cell_type": "code",
      "metadata": {
        "id": "dBFzFndejLz_",
        "outputId": "23cc8f6d-3f11-483b-973a-75c9a77463ce",
        "colab": {
          "base_uri": "https://localhost:8080/"
        }
      },
      "source": [
        "data.groupby(group_key).apply(fill_func)"
      ],
      "execution_count": 37,
      "outputs": [
        {
          "output_type": "execute_result",
          "data": {
            "text/plain": [
              "Ohio          0.689508\n",
              "New York     -1.377439\n",
              "Vermont       0.500000\n",
              "Florida       0.091466\n",
              "Oregon       -0.423836\n",
              "Nevada       -1.000000\n",
              "California   -0.284841\n",
              "Idaho        -1.000000\n",
              "dtype: float64"
            ]
          },
          "metadata": {
            "tags": []
          },
          "execution_count": 37
        }
      ]
    },
    {
      "cell_type": "markdown",
      "metadata": {
        "id": "3XQVJTRJjNFd"
      },
      "source": [
        "# **Example: Random Sampling and Permutation**"
      ]
    },
    {
      "cell_type": "markdown",
      "metadata": {
        "id": "f-5e0Q-WjSeC"
      },
      "source": [
        "**假設我們想要從一個很大的數據集里隨機抽出一些樣本，這里我們可以在Series上用sample方法。為了演示，這里縣創建一副模擬的撲克牌**"
      ]
    },
    {
      "cell_type": "code",
      "metadata": {
        "id": "W1xOwUsijVLC"
      },
      "source": [
        "# Hearts红桃，Spades黑桃，Clubs梅花，Diamonds方片\n",
        "suits = ['H', 'S', 'C', 'D']\n",
        "card_val = (list(range(1, 11)) + [10] * 3) * 4\n",
        "base_names = ['A'] + list(range(2, 11)) + ['J', 'K', 'Q']\n",
        "cards = []\n",
        "for suit in ['H', 'S', 'C', 'D']:\n",
        "    cards.extend(str(num) + suit for num in base_names)\n",
        "\n",
        "deck = pd.Series(card_val, index=cards)"
      ],
      "execution_count": 38,
      "outputs": []
    },
    {
      "cell_type": "markdown",
      "metadata": {
        "id": "nYRng5DDjbQx"
      },
      "source": [
        "**這樣我們就得到了一個長度為52的Series，索引（index）部分是牌的名字，對應的值為牌的點數，這里的點數是按Blackjack（二十一點）的遊戲規則來設定的。**\n",
        "\n",
        "**Blackjack（二十一點）: 2點至10點的牌以牌面的點數計算，J、Q、K 每張為10點，A可記為1點或為11點。這里為了方便，我們只把A記為1點。 **"
      ]
    },
    {
      "cell_type": "code",
      "metadata": {
        "id": "vseeMNV7jb45",
        "outputId": "82de1ebf-b276-46df-9442-0f824af8d413",
        "colab": {
          "base_uri": "https://localhost:8080/"
        }
      },
      "source": [
        "deck[:13]"
      ],
      "execution_count": 39,
      "outputs": [
        {
          "output_type": "execute_result",
          "data": {
            "text/plain": [
              "AH      1\n",
              "2H      2\n",
              "3H      3\n",
              "4H      4\n",
              "5H      5\n",
              "6H      6\n",
              "7H      7\n",
              "8H      8\n",
              "9H      9\n",
              "10H    10\n",
              "JH     10\n",
              "KH     10\n",
              "QH     10\n",
              "dtype: int64"
            ]
          },
          "metadata": {
            "tags": []
          },
          "execution_count": 39
        }
      ]
    },
    {
      "cell_type": "markdown",
      "metadata": {
        "id": "avxjYZUpjf5j"
      },
      "source": [
        "**現在，就像我們上面說的，隨機從牌組中抽出5張牌**"
      ]
    },
    {
      "cell_type": "code",
      "metadata": {
        "id": "HVaJaaenjdaX"
      },
      "source": [
        "def draw(deck, n=5):\n",
        "    return deck.sample(n)"
      ],
      "execution_count": 40,
      "outputs": []
    },
    {
      "cell_type": "code",
      "metadata": {
        "id": "musFZzCFjrDz",
        "outputId": "6e36ce04-4247-43df-830c-f370cd604f95",
        "colab": {
          "base_uri": "https://localhost:8080/"
        }
      },
      "source": [
        "draw(deck)"
      ],
      "execution_count": 41,
      "outputs": [
        {
          "output_type": "execute_result",
          "data": {
            "text/plain": [
              "2H     2\n",
              "KS    10\n",
              "KH    10\n",
              "3S     3\n",
              "AH     1\n",
              "dtype: int64"
            ]
          },
          "metadata": {
            "tags": []
          },
          "execution_count": 41
        }
      ]
    },
    {
      "cell_type": "markdown",
      "metadata": {
        "id": "pvqvDoxhjuvb"
      },
      "source": [
        "**假設我們想要從每副花色中隨機抽取兩張，花色是每張牌名字的最後一個字符（即H, S, C, D），我們可以根據花色分組，然後使用apply**"
      ]
    },
    {
      "cell_type": "code",
      "metadata": {
        "id": "jNIC8m7gjxKD"
      },
      "source": [
        "get_suit = lambda card: card[-1] # last letter is suit"
      ],
      "execution_count": 42,
      "outputs": []
    },
    {
      "cell_type": "code",
      "metadata": {
        "id": "MI6_HRqQjzNX",
        "outputId": "be715d11-5406-45f6-f5d0-62c719c433dd",
        "colab": {
          "base_uri": "https://localhost:8080/"
        }
      },
      "source": [
        "deck.groupby(get_suit).apply(draw, n=2)"
      ],
      "execution_count": 43,
      "outputs": [
        {
          "output_type": "execute_result",
          "data": {
            "text/plain": [
              "C  4C      4\n",
              "   8C      8\n",
              "D  AD      1\n",
              "   10D    10\n",
              "H  JH     10\n",
              "   6H      6\n",
              "S  QS     10\n",
              "   10S    10\n",
              "dtype: int64"
            ]
          },
          "metadata": {
            "tags": []
          },
          "execution_count": 43
        }
      ]
    },
    {
      "cell_type": "markdown",
      "metadata": {
        "id": "l0ag-j25j2Co"
      },
      "source": [
        "**另外一種寫法**"
      ]
    },
    {
      "cell_type": "code",
      "metadata": {
        "id": "Bn7hStN6j2_R",
        "outputId": "73a575be-f491-47b9-ad2a-d677f9cfaca4",
        "colab": {
          "base_uri": "https://localhost:8080/"
        }
      },
      "source": [
        "deck.groupby(get_suit, group_keys=False).apply(draw, n=2)"
      ],
      "execution_count": 44,
      "outputs": [
        {
          "output_type": "execute_result",
          "data": {
            "text/plain": [
              "2C      2\n",
              "6C      6\n",
              "2D      2\n",
              "4D      4\n",
              "KH     10\n",
              "10H    10\n",
              "10S    10\n",
              "5S      5\n",
              "dtype: int64"
            ]
          },
          "metadata": {
            "tags": []
          },
          "execution_count": 44
        }
      ]
    },
    {
      "cell_type": "markdown",
      "metadata": {
        "id": "uk4MfsGaj43Y"
      },
      "source": [
        "# **Example: Group Weighted Average and Correlation**"
      ]
    },
    {
      "cell_type": "markdown",
      "metadata": {
        "id": "zQDeWtMLj_ZD"
      },
      "source": [
        "**在groupby的split-apply-combine機制下，DataFrame的兩列或兩個Series，計算組加權平均（Group Weighted Average）是可能的。這里舉個例子，下面的數據集包含組鍵，值，以及權重**"
      ]
    },
    {
      "cell_type": "code",
      "metadata": {
        "id": "Su1mUWjhj819",
        "outputId": "38e27759-b9d4-44f8-8395-ac7477138159",
        "colab": {
          "base_uri": "https://localhost:8080/",
          "height": 297
        }
      },
      "source": [
        "df = pd.DataFrame({'category': ['a', 'a', 'a', 'a',\n",
        "                                'b', 'b', 'b', 'b'],\n",
        "                   'data': np.random.randn(8),\n",
        "                   'weights': np.random.rand(8)})\n",
        "df"
      ],
      "execution_count": 45,
      "outputs": [
        {
          "output_type": "execute_result",
          "data": {
            "text/html": [
              "<div>\n",
              "<style scoped>\n",
              "    .dataframe tbody tr th:only-of-type {\n",
              "        vertical-align: middle;\n",
              "    }\n",
              "\n",
              "    .dataframe tbody tr th {\n",
              "        vertical-align: top;\n",
              "    }\n",
              "\n",
              "    .dataframe thead th {\n",
              "        text-align: right;\n",
              "    }\n",
              "</style>\n",
              "<table border=\"1\" class=\"dataframe\">\n",
              "  <thead>\n",
              "    <tr style=\"text-align: right;\">\n",
              "      <th></th>\n",
              "      <th>category</th>\n",
              "      <th>data</th>\n",
              "      <th>weights</th>\n",
              "    </tr>\n",
              "  </thead>\n",
              "  <tbody>\n",
              "    <tr>\n",
              "      <th>0</th>\n",
              "      <td>a</td>\n",
              "      <td>-1.228581</td>\n",
              "      <td>0.860648</td>\n",
              "    </tr>\n",
              "    <tr>\n",
              "      <th>1</th>\n",
              "      <td>a</td>\n",
              "      <td>1.883813</td>\n",
              "      <td>0.679022</td>\n",
              "    </tr>\n",
              "    <tr>\n",
              "      <th>2</th>\n",
              "      <td>a</td>\n",
              "      <td>-2.325747</td>\n",
              "      <td>0.261413</td>\n",
              "    </tr>\n",
              "    <tr>\n",
              "      <th>3</th>\n",
              "      <td>a</td>\n",
              "      <td>-0.087960</td>\n",
              "      <td>0.085764</td>\n",
              "    </tr>\n",
              "    <tr>\n",
              "      <th>4</th>\n",
              "      <td>b</td>\n",
              "      <td>-0.532899</td>\n",
              "      <td>0.070801</td>\n",
              "    </tr>\n",
              "    <tr>\n",
              "      <th>5</th>\n",
              "      <td>b</td>\n",
              "      <td>1.091300</td>\n",
              "      <td>0.646958</td>\n",
              "    </tr>\n",
              "    <tr>\n",
              "      <th>6</th>\n",
              "      <td>b</td>\n",
              "      <td>-0.174627</td>\n",
              "      <td>0.052936</td>\n",
              "    </tr>\n",
              "    <tr>\n",
              "      <th>7</th>\n",
              "      <td>b</td>\n",
              "      <td>0.981362</td>\n",
              "      <td>0.438628</td>\n",
              "    </tr>\n",
              "  </tbody>\n",
              "</table>\n",
              "</div>"
            ],
            "text/plain": [
              "  category      data   weights\n",
              "0        a -1.228581  0.860648\n",
              "1        a  1.883813  0.679022\n",
              "2        a -2.325747  0.261413\n",
              "3        a -0.087960  0.085764\n",
              "4        b -0.532899  0.070801\n",
              "5        b  1.091300  0.646958\n",
              "6        b -0.174627  0.052936\n",
              "7        b  0.981362  0.438628"
            ]
          },
          "metadata": {
            "tags": []
          },
          "execution_count": 45
        }
      ]
    },
    {
      "cell_type": "markdown",
      "metadata": {
        "id": "n_fDPrfZkENx"
      },
      "source": [
        "**按category分組來計算組加權平均**"
      ]
    },
    {
      "cell_type": "code",
      "metadata": {
        "id": "smsMLpJkkCId"
      },
      "source": [
        "grouped = df.groupby('category')"
      ],
      "execution_count": 46,
      "outputs": []
    },
    {
      "cell_type": "code",
      "metadata": {
        "id": "7Lknh5YTkGPA"
      },
      "source": [
        "get_wavg = lambda g: np.average(g['data'], weights=g['weights'])"
      ],
      "execution_count": 47,
      "outputs": []
    },
    {
      "cell_type": "code",
      "metadata": {
        "id": "uyOPEdqskHzL",
        "outputId": "c7f63d0d-dcc3-4540-9ae4-50a4beb671ba",
        "colab": {
          "base_uri": "https://localhost:8080/"
        }
      },
      "source": [
        "grouped.apply(get_wavg)"
      ],
      "execution_count": 48,
      "outputs": [
        {
          "output_type": "execute_result",
          "data": {
            "text/plain": [
              "category\n",
              "a   -0.208682\n",
              "b    0.900920\n",
              "dtype: float64"
            ]
          },
          "metadata": {
            "tags": []
          },
          "execution_count": 48
        }
      ]
    },
    {
      "cell_type": "markdown",
      "metadata": {
        "id": "99D_VvrRkNh7"
      },
      "source": [
        "**另一個例子，考慮一個從Yahoo！財經上得到的經濟數據集，包含一些股票交易日結束時的股價，以及S&P 500指數(即SPX符號)：**\n",
        "\n",
        "**標準普爾500指數英文簡寫為S&P 500 Index，是記錄美國500家上市公司的一個股票指數。這個股票指數由標準普爾公司創建並維護。**\n",
        "\n",
        "**標準普爾500指數覆蓋的所有公司，都是在美國主要交易所，如紐約證券交易所、Nasdaq交易的上市公司。與道瓊斯指數相比，標準普爾500指數包含的公司更多，因此風險更為分散，能夠反映更廣泛的市場變化。** "
      ]
    },
    {
      "cell_type": "code",
      "metadata": {
        "id": "4mZ7h6cDlNV6",
        "outputId": "ba94763b-f102-461e-cf4c-c6e7a2aeac28",
        "colab": {
          "base_uri": "https://localhost:8080/"
        }
      },
      "source": [
        "!wget https://raw.githubusercontent.com/wesm/pydata-book/2nd-edition/examples/stock_px_2.csv"
      ],
      "execution_count": 50,
      "outputs": [
        {
          "output_type": "stream",
          "text": [
            "--2020-11-07 12:01:13--  https://raw.githubusercontent.com/wesm/pydata-book/2nd-edition/examples/stock_px_2.csv\n",
            "Resolving raw.githubusercontent.com (raw.githubusercontent.com)... 151.101.0.133, 151.101.64.133, 151.101.128.133, ...\n",
            "Connecting to raw.githubusercontent.com (raw.githubusercontent.com)|151.101.0.133|:443... connected.\n",
            "HTTP request sent, awaiting response... 200 OK\n",
            "Length: 101402 (99K) [text/plain]\n",
            "Saving to: ‘stock_px_2.csv’\n",
            "\n",
            "stock_px_2.csv      100%[===================>]  99.03K  --.-KB/s    in 0.04s   \n",
            "\n",
            "2020-11-07 12:01:14 (2.57 MB/s) - ‘stock_px_2.csv’ saved [101402/101402]\n",
            "\n"
          ],
          "name": "stdout"
        }
      ]
    },
    {
      "cell_type": "code",
      "metadata": {
        "id": "7bDa1KSVkU-o"
      },
      "source": [
        "close_px = pd.read_csv('stock_px_2.csv', parse_dates=True,\n",
        "                       index_col=0)"
      ],
      "execution_count": 59,
      "outputs": []
    },
    {
      "cell_type": "code",
      "metadata": {
        "id": "3JprmGfBl2Kj",
        "outputId": "4a781c7c-6572-4a39-9286-15d42a6b7525",
        "colab": {
          "base_uri": "https://localhost:8080/"
        }
      },
      "source": [
        "close_px.info()"
      ],
      "execution_count": 60,
      "outputs": [
        {
          "output_type": "stream",
          "text": [
            "<class 'pandas.core.frame.DataFrame'>\n",
            "DatetimeIndex: 2214 entries, 2003-01-02 to 2011-10-14\n",
            "Data columns (total 4 columns):\n",
            " #   Column  Non-Null Count  Dtype  \n",
            "---  ------  --------------  -----  \n",
            " 0   AAPL    2214 non-null   float64\n",
            " 1   MSFT    2214 non-null   float64\n",
            " 2   XOM     2214 non-null   float64\n",
            " 3   SPX     2214 non-null   float64\n",
            "dtypes: float64(4)\n",
            "memory usage: 86.5 KB\n"
          ],
          "name": "stdout"
        }
      ]
    },
    {
      "cell_type": "code",
      "metadata": {
        "id": "T1fbI8wcmA5N",
        "outputId": "68d1cce5-ccb3-419f-f79b-d58746faeb73",
        "colab": {
          "base_uri": "https://localhost:8080/",
          "height": 173
        }
      },
      "source": [
        "close_px[-4:]"
      ],
      "execution_count": 61,
      "outputs": [
        {
          "output_type": "execute_result",
          "data": {
            "text/html": [
              "<div>\n",
              "<style scoped>\n",
              "    .dataframe tbody tr th:only-of-type {\n",
              "        vertical-align: middle;\n",
              "    }\n",
              "\n",
              "    .dataframe tbody tr th {\n",
              "        vertical-align: top;\n",
              "    }\n",
              "\n",
              "    .dataframe thead th {\n",
              "        text-align: right;\n",
              "    }\n",
              "</style>\n",
              "<table border=\"1\" class=\"dataframe\">\n",
              "  <thead>\n",
              "    <tr style=\"text-align: right;\">\n",
              "      <th></th>\n",
              "      <th>AAPL</th>\n",
              "      <th>MSFT</th>\n",
              "      <th>XOM</th>\n",
              "      <th>SPX</th>\n",
              "    </tr>\n",
              "  </thead>\n",
              "  <tbody>\n",
              "    <tr>\n",
              "      <th>2011-10-11</th>\n",
              "      <td>400.29</td>\n",
              "      <td>27.00</td>\n",
              "      <td>76.27</td>\n",
              "      <td>1195.54</td>\n",
              "    </tr>\n",
              "    <tr>\n",
              "      <th>2011-10-12</th>\n",
              "      <td>402.19</td>\n",
              "      <td>26.96</td>\n",
              "      <td>77.16</td>\n",
              "      <td>1207.25</td>\n",
              "    </tr>\n",
              "    <tr>\n",
              "      <th>2011-10-13</th>\n",
              "      <td>408.43</td>\n",
              "      <td>27.18</td>\n",
              "      <td>76.37</td>\n",
              "      <td>1203.66</td>\n",
              "    </tr>\n",
              "    <tr>\n",
              "      <th>2011-10-14</th>\n",
              "      <td>422.00</td>\n",
              "      <td>27.27</td>\n",
              "      <td>78.11</td>\n",
              "      <td>1224.58</td>\n",
              "    </tr>\n",
              "  </tbody>\n",
              "</table>\n",
              "</div>"
            ],
            "text/plain": [
              "              AAPL   MSFT    XOM      SPX\n",
              "2011-10-11  400.29  27.00  76.27  1195.54\n",
              "2011-10-12  402.19  26.96  77.16  1207.25\n",
              "2011-10-13  408.43  27.18  76.37  1203.66\n",
              "2011-10-14  422.00  27.27  78.11  1224.58"
            ]
          },
          "metadata": {
            "tags": []
          },
          "execution_count": 61
        }
      ]
    },
    {
      "cell_type": "markdown",
      "metadata": {
        "id": "m-Qj0UQPmDk-"
      },
      "source": [
        "**一個比較有意思的嘗試是計算一個DataFrame，包括與SPX這一列逐年日收益的相關性（計算百分比變化）。一個可能的方法是，我們先創建一個能計算不同列相關性的函數，然後拿每一列與SPX這一列求相關性**"
      ]
    },
    {
      "cell_type": "code",
      "metadata": {
        "id": "BoExWtiLmEYN"
      },
      "source": [
        "spx_corr = lambda x: x.corrwith(x['SPX'])"
      ],
      "execution_count": 62,
      "outputs": []
    },
    {
      "cell_type": "markdown",
      "metadata": {
        "id": "Yo7MbtBgmHzN"
      },
      "source": [
        "**然後我們通過pct_change在close_px上計算百分比的變化**"
      ]
    },
    {
      "cell_type": "code",
      "metadata": {
        "id": "6kfq2peEmHYM"
      },
      "source": [
        "rets = close_px.pct_change().dropna()"
      ],
      "execution_count": 63,
      "outputs": []
    },
    {
      "cell_type": "markdown",
      "metadata": {
        "id": "jOrtIxnEmJpw"
      },
      "source": [
        "**最後，我們按年來給這些百分比變化分組，年份可以從每行的標簽中通過一個一行函數提取，然後返回的結果中，用datetime標簽來表示年份**"
      ]
    },
    {
      "cell_type": "code",
      "metadata": {
        "id": "3AoRbXSHmPbI"
      },
      "source": [
        "get_year = lambda x: x.year"
      ],
      "execution_count": 64,
      "outputs": []
    },
    {
      "cell_type": "code",
      "metadata": {
        "id": "Zj14nxfTmRDp"
      },
      "source": [
        "by_year = rets.groupby(get_year)"
      ],
      "execution_count": 65,
      "outputs": []
    },
    {
      "cell_type": "code",
      "metadata": {
        "id": "jaRddliGmRR_",
        "outputId": "152624ff-dff8-4431-b4fa-e77b82b2b76d",
        "colab": {
          "base_uri": "https://localhost:8080/",
          "height": 328
        }
      },
      "source": [
        "by_year.apply(spx_corr)"
      ],
      "execution_count": 66,
      "outputs": [
        {
          "output_type": "execute_result",
          "data": {
            "text/html": [
              "<div>\n",
              "<style scoped>\n",
              "    .dataframe tbody tr th:only-of-type {\n",
              "        vertical-align: middle;\n",
              "    }\n",
              "\n",
              "    .dataframe tbody tr th {\n",
              "        vertical-align: top;\n",
              "    }\n",
              "\n",
              "    .dataframe thead th {\n",
              "        text-align: right;\n",
              "    }\n",
              "</style>\n",
              "<table border=\"1\" class=\"dataframe\">\n",
              "  <thead>\n",
              "    <tr style=\"text-align: right;\">\n",
              "      <th></th>\n",
              "      <th>AAPL</th>\n",
              "      <th>MSFT</th>\n",
              "      <th>XOM</th>\n",
              "      <th>SPX</th>\n",
              "    </tr>\n",
              "  </thead>\n",
              "  <tbody>\n",
              "    <tr>\n",
              "      <th>2003</th>\n",
              "      <td>0.541124</td>\n",
              "      <td>0.745174</td>\n",
              "      <td>0.661265</td>\n",
              "      <td>1.0</td>\n",
              "    </tr>\n",
              "    <tr>\n",
              "      <th>2004</th>\n",
              "      <td>0.374283</td>\n",
              "      <td>0.588531</td>\n",
              "      <td>0.557742</td>\n",
              "      <td>1.0</td>\n",
              "    </tr>\n",
              "    <tr>\n",
              "      <th>2005</th>\n",
              "      <td>0.467540</td>\n",
              "      <td>0.562374</td>\n",
              "      <td>0.631010</td>\n",
              "      <td>1.0</td>\n",
              "    </tr>\n",
              "    <tr>\n",
              "      <th>2006</th>\n",
              "      <td>0.428267</td>\n",
              "      <td>0.406126</td>\n",
              "      <td>0.518514</td>\n",
              "      <td>1.0</td>\n",
              "    </tr>\n",
              "    <tr>\n",
              "      <th>2007</th>\n",
              "      <td>0.508118</td>\n",
              "      <td>0.658770</td>\n",
              "      <td>0.786264</td>\n",
              "      <td>1.0</td>\n",
              "    </tr>\n",
              "    <tr>\n",
              "      <th>2008</th>\n",
              "      <td>0.681434</td>\n",
              "      <td>0.804626</td>\n",
              "      <td>0.828303</td>\n",
              "      <td>1.0</td>\n",
              "    </tr>\n",
              "    <tr>\n",
              "      <th>2009</th>\n",
              "      <td>0.707103</td>\n",
              "      <td>0.654902</td>\n",
              "      <td>0.797921</td>\n",
              "      <td>1.0</td>\n",
              "    </tr>\n",
              "    <tr>\n",
              "      <th>2010</th>\n",
              "      <td>0.710105</td>\n",
              "      <td>0.730118</td>\n",
              "      <td>0.839057</td>\n",
              "      <td>1.0</td>\n",
              "    </tr>\n",
              "    <tr>\n",
              "      <th>2011</th>\n",
              "      <td>0.691931</td>\n",
              "      <td>0.800996</td>\n",
              "      <td>0.859975</td>\n",
              "      <td>1.0</td>\n",
              "    </tr>\n",
              "  </tbody>\n",
              "</table>\n",
              "</div>"
            ],
            "text/plain": [
              "          AAPL      MSFT       XOM  SPX\n",
              "2003  0.541124  0.745174  0.661265  1.0\n",
              "2004  0.374283  0.588531  0.557742  1.0\n",
              "2005  0.467540  0.562374  0.631010  1.0\n",
              "2006  0.428267  0.406126  0.518514  1.0\n",
              "2007  0.508118  0.658770  0.786264  1.0\n",
              "2008  0.681434  0.804626  0.828303  1.0\n",
              "2009  0.707103  0.654902  0.797921  1.0\n",
              "2010  0.710105  0.730118  0.839057  1.0\n",
              "2011  0.691931  0.800996  0.859975  1.0"
            ]
          },
          "metadata": {
            "tags": []
          },
          "execution_count": 66
        }
      ]
    },
    {
      "cell_type": "markdown",
      "metadata": {
        "id": "K2cdMMgwmVeh"
      },
      "source": [
        "**我們也可以計算列內的相關性。這里我們計算蘋果和微軟每年的相關性**"
      ]
    },
    {
      "cell_type": "code",
      "metadata": {
        "id": "3-LXBSAymWBL",
        "outputId": "a26ef412-5278-492f-b2bb-3b01223db730",
        "colab": {
          "base_uri": "https://localhost:8080/"
        }
      },
      "source": [
        "by_year.apply(lambda g: g['AAPL'].corr(g['MSFT']))"
      ],
      "execution_count": 67,
      "outputs": [
        {
          "output_type": "execute_result",
          "data": {
            "text/plain": [
              "2003    0.480868\n",
              "2004    0.259024\n",
              "2005    0.300093\n",
              "2006    0.161735\n",
              "2007    0.417738\n",
              "2008    0.611901\n",
              "2009    0.432738\n",
              "2010    0.571946\n",
              "2011    0.581987\n",
              "dtype: float64"
            ]
          },
          "metadata": {
            "tags": []
          },
          "execution_count": 67
        }
      ]
    },
    {
      "cell_type": "markdown",
      "metadata": {
        "id": "ohY0-npmmZMg"
      },
      "source": [
        "# ** Example: Group-Wise Linear Regression**"
      ]
    },
    {
      "cell_type": "markdown",
      "metadata": {
        "id": "LJKaKS4vmcKk"
      },
      "source": [
        "**就像上面介紹的例子，使用groupby可以用於更覆雜的組對組統計分析，只要函數能返回一個pandas對象或標量。例如，我們可以定義regress函數（利用statsmodels庫），在每一個數據塊（each chunk of data）上進行普通最小平方回歸（ordinary least squares (OLS) regression）計算**"
      ]
    },
    {
      "cell_type": "code",
      "metadata": {
        "id": "CWEn567LmYq4",
        "outputId": "5e8df67b-ca33-4e9a-cf74-98c573cfbde6",
        "colab": {
          "base_uri": "https://localhost:8080/"
        }
      },
      "source": [
        "import statsmodels.api as sm"
      ],
      "execution_count": 68,
      "outputs": [
        {
          "output_type": "stream",
          "text": [
            "/usr/local/lib/python3.6/dist-packages/statsmodels/tools/_testing.py:19: FutureWarning: pandas.util.testing is deprecated. Use the functions in the public API at pandas.testing instead.\n",
            "  import pandas.util.testing as tm\n"
          ],
          "name": "stderr"
        }
      ]
    },
    {
      "cell_type": "code",
      "metadata": {
        "id": "7Bn1qX3GmfRL"
      },
      "source": [
        "def regress(data, yvar, xvars):\n",
        "    Y = data[yvar]\n",
        "    X = data[xvars]\n",
        "    X['intercept'] = 1\n",
        "    result = sm.OLS(Y, X).fit()\n",
        "    return result.params"
      ],
      "execution_count": 69,
      "outputs": []
    },
    {
      "cell_type": "markdown",
      "metadata": {
        "id": "v64waDDCmhLb"
      },
      "source": [
        "**現在，按年用蘋果AAPL在標普SPX上做線性回歸**"
      ]
    },
    {
      "cell_type": "code",
      "metadata": {
        "id": "ShTMLa7RmjZ1",
        "outputId": "c6747aa7-51b9-48eb-92f0-5dcb2538bbaf",
        "colab": {
          "base_uri": "https://localhost:8080/",
          "height": 328
        }
      },
      "source": [
        "by_year.apply(regress, 'AAPL', ['SPX'])"
      ],
      "execution_count": 70,
      "outputs": [
        {
          "output_type": "execute_result",
          "data": {
            "text/html": [
              "<div>\n",
              "<style scoped>\n",
              "    .dataframe tbody tr th:only-of-type {\n",
              "        vertical-align: middle;\n",
              "    }\n",
              "\n",
              "    .dataframe tbody tr th {\n",
              "        vertical-align: top;\n",
              "    }\n",
              "\n",
              "    .dataframe thead th {\n",
              "        text-align: right;\n",
              "    }\n",
              "</style>\n",
              "<table border=\"1\" class=\"dataframe\">\n",
              "  <thead>\n",
              "    <tr style=\"text-align: right;\">\n",
              "      <th></th>\n",
              "      <th>SPX</th>\n",
              "      <th>intercept</th>\n",
              "    </tr>\n",
              "  </thead>\n",
              "  <tbody>\n",
              "    <tr>\n",
              "      <th>2003</th>\n",
              "      <td>1.195406</td>\n",
              "      <td>0.000710</td>\n",
              "    </tr>\n",
              "    <tr>\n",
              "      <th>2004</th>\n",
              "      <td>1.363463</td>\n",
              "      <td>0.004201</td>\n",
              "    </tr>\n",
              "    <tr>\n",
              "      <th>2005</th>\n",
              "      <td>1.766415</td>\n",
              "      <td>0.003246</td>\n",
              "    </tr>\n",
              "    <tr>\n",
              "      <th>2006</th>\n",
              "      <td>1.645496</td>\n",
              "      <td>0.000080</td>\n",
              "    </tr>\n",
              "    <tr>\n",
              "      <th>2007</th>\n",
              "      <td>1.198761</td>\n",
              "      <td>0.003438</td>\n",
              "    </tr>\n",
              "    <tr>\n",
              "      <th>2008</th>\n",
              "      <td>0.968016</td>\n",
              "      <td>-0.001110</td>\n",
              "    </tr>\n",
              "    <tr>\n",
              "      <th>2009</th>\n",
              "      <td>0.879103</td>\n",
              "      <td>0.002954</td>\n",
              "    </tr>\n",
              "    <tr>\n",
              "      <th>2010</th>\n",
              "      <td>1.052608</td>\n",
              "      <td>0.001261</td>\n",
              "    </tr>\n",
              "    <tr>\n",
              "      <th>2011</th>\n",
              "      <td>0.806605</td>\n",
              "      <td>0.001514</td>\n",
              "    </tr>\n",
              "  </tbody>\n",
              "</table>\n",
              "</div>"
            ],
            "text/plain": [
              "           SPX  intercept\n",
              "2003  1.195406   0.000710\n",
              "2004  1.363463   0.004201\n",
              "2005  1.766415   0.003246\n",
              "2006  1.645496   0.000080\n",
              "2007  1.198761   0.003438\n",
              "2008  0.968016  -0.001110\n",
              "2009  0.879103   0.002954\n",
              "2010  1.052608   0.001261\n",
              "2011  0.806605   0.001514"
            ]
          },
          "metadata": {
            "tags": []
          },
          "execution_count": 70
        }
      ]
    }
  ]
}