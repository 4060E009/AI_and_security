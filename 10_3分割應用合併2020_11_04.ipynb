{
  "nbformat": 4,
  "nbformat_minor": 0,
  "metadata": {
    "colab": {
      "name": "10.3分割應用合併2020/11/04.ipynb",
      "provenance": [],
      "collapsed_sections": [],
      "authorship_tag": "ABX9TyPRm9JTBj+tHykncWQg3m+s",
      "include_colab_link": true
    },
    "kernelspec": {
      "name": "python3",
      "display_name": "Python 3"
    }
  },
  "cells": [
    {
      "cell_type": "markdown",
      "metadata": {
        "id": "view-in-github",
        "colab_type": "text"
      },
      "source": [
        "<a href=\"https://colab.research.google.com/github/4060E009/AI_and_security/blob/master/10_3%E5%88%86%E5%89%B2%E6%87%89%E7%94%A8%E5%90%88%E4%BD%B52020_11_04.ipynb\" target=\"_parent\"><img src=\"https://colab.research.google.com/assets/colab-badge.svg\" alt=\"Open In Colab\"/></a>"
      ]
    },
    {
      "cell_type": "markdown",
      "metadata": {
        "id": "XSBOPNVdXaQr"
      },
      "source": [
        "https://nbviewer.jupyter.org/github/LearnXu/pydata-notebook/blob/master/Chapter-10/10.3%20Apply%EF%BC%9AGeneral%20split-apply-combine%EF%BC%88%E5%BA%94%E7%94%A8%EF%BC%9A%E9%80%9A%E5%B8%B8%E7%9A%84%E5%88%86%E5%89%B2-%E5%BA%94%E7%94%A8-%E5%90%88%E5%B9%B6%EF%BC%89.ipynb"
      ]
    },
    {
      "cell_type": "markdown",
      "metadata": {
        "id": "zZHTM7-OT5xw"
      },
      "source": [
        "# **General split-apply-combine**"
      ]
    },
    {
      "cell_type": "markdown",
      "metadata": {
        "id": "lpcBWfhSUNu4"
      },
      "source": [
        "**general-purpose: 可以理解為通用，泛用。**\n",
        "\n",
        "例子：在計算機軟件中，通用編程語言(General-purpose programming language )**指被設計為各種應用領域服務的編程語言。通常通用編程語言不含有為特定應用領域設計的結構。**\n",
        "\n",
        "**相對而言，特定域編程語言就是為某一個特定的領域或應用軟件設計的編程語言。比如說，LaTeX就是專門為排版文獻而設計的語言。**\n",
        "\n",
        "最通用的GroupBy(分組)**方法是apply，這也是本節的主題。如下圖所示，apply會把對象分為多個部分，然後將函數應用到每一個部分上，然後把所有的部分都合並起來**\n",
        "\n",
        "\n",
        "\n",
        "**返回之前提到的tipping數據集，假設我們想要根據不同組（group），選擇前5個tip_pct值最大的。首先，寫一個函數，函數的功能為在特定的列，選出有最大值的行**"
      ]
    },
    {
      "cell_type": "code",
      "metadata": {
        "id": "SIsb4hKxT4rb"
      },
      "source": [
        "import numpy as np\n",
        "import pandas as pd"
      ],
      "execution_count": 1,
      "outputs": []
    },
    {
      "cell_type": "code",
      "metadata": {
        "id": "iIqKjGE3UseT",
        "outputId": "d890b688-b68d-47fe-f82a-660d85591354",
        "colab": {
          "base_uri": "https://localhost:8080/"
        }
      },
      "source": [
        "!wget https://raw.githubusercontent.com/wesm/pydata-book/2nd-edition/examples/tips.csv"
      ],
      "execution_count": 2,
      "outputs": [
        {
          "output_type": "stream",
          "text": [
            "--2020-11-04 03:38:41--  https://raw.githubusercontent.com/wesm/pydata-book/2nd-edition/examples/tips.csv\n",
            "Resolving raw.githubusercontent.com (raw.githubusercontent.com)... 151.101.0.133, 151.101.64.133, 151.101.128.133, ...\n",
            "Connecting to raw.githubusercontent.com (raw.githubusercontent.com)|151.101.0.133|:443... connected.\n",
            "HTTP request sent, awaiting response... 200 OK\n",
            "Length: 6545 (6.4K) [text/plain]\n",
            "Saving to: ‘tips.csv’\n",
            "\n",
            "\rtips.csv              0%[                    ]       0  --.-KB/s               \rtips.csv            100%[===================>]   6.39K  --.-KB/s    in 0s      \n",
            "\n",
            "2020-11-04 03:38:41 (67.5 MB/s) - ‘tips.csv’ saved [6545/6545]\n",
            "\n"
          ],
          "name": "stdout"
        }
      ]
    },
    {
      "cell_type": "code",
      "metadata": {
        "id": "N-cyW7eYUzko"
      },
      "source": [
        "tips = pd.read_csv('tips.csv')"
      ],
      "execution_count": 5,
      "outputs": []
    },
    {
      "cell_type": "code",
      "metadata": {
        "id": "JhHe1sCOUwxn"
      },
      "source": [
        "# Add tip percentage of total bill\n",
        "tips['tip_pct'] = tips['tip'] / tips['total_bill']"
      ],
      "execution_count": 6,
      "outputs": []
    },
    {
      "cell_type": "code",
      "metadata": {
        "id": "zKecDr5MU7EX",
        "outputId": "c93244a3-a7f2-48fd-ed39-0587276daea4",
        "colab": {
          "base_uri": "https://localhost:8080/",
          "height": 204
        }
      },
      "source": [
        "tips.head()"
      ],
      "execution_count": 7,
      "outputs": [
        {
          "output_type": "execute_result",
          "data": {
            "text/html": [
              "<div>\n",
              "<style scoped>\n",
              "    .dataframe tbody tr th:only-of-type {\n",
              "        vertical-align: middle;\n",
              "    }\n",
              "\n",
              "    .dataframe tbody tr th {\n",
              "        vertical-align: top;\n",
              "    }\n",
              "\n",
              "    .dataframe thead th {\n",
              "        text-align: right;\n",
              "    }\n",
              "</style>\n",
              "<table border=\"1\" class=\"dataframe\">\n",
              "  <thead>\n",
              "    <tr style=\"text-align: right;\">\n",
              "      <th></th>\n",
              "      <th>total_bill</th>\n",
              "      <th>tip</th>\n",
              "      <th>smoker</th>\n",
              "      <th>day</th>\n",
              "      <th>time</th>\n",
              "      <th>size</th>\n",
              "      <th>tip_pct</th>\n",
              "    </tr>\n",
              "  </thead>\n",
              "  <tbody>\n",
              "    <tr>\n",
              "      <th>0</th>\n",
              "      <td>16.99</td>\n",
              "      <td>1.01</td>\n",
              "      <td>No</td>\n",
              "      <td>Sun</td>\n",
              "      <td>Dinner</td>\n",
              "      <td>2</td>\n",
              "      <td>0.059447</td>\n",
              "    </tr>\n",
              "    <tr>\n",
              "      <th>1</th>\n",
              "      <td>10.34</td>\n",
              "      <td>1.66</td>\n",
              "      <td>No</td>\n",
              "      <td>Sun</td>\n",
              "      <td>Dinner</td>\n",
              "      <td>3</td>\n",
              "      <td>0.160542</td>\n",
              "    </tr>\n",
              "    <tr>\n",
              "      <th>2</th>\n",
              "      <td>21.01</td>\n",
              "      <td>3.50</td>\n",
              "      <td>No</td>\n",
              "      <td>Sun</td>\n",
              "      <td>Dinner</td>\n",
              "      <td>3</td>\n",
              "      <td>0.166587</td>\n",
              "    </tr>\n",
              "    <tr>\n",
              "      <th>3</th>\n",
              "      <td>23.68</td>\n",
              "      <td>3.31</td>\n",
              "      <td>No</td>\n",
              "      <td>Sun</td>\n",
              "      <td>Dinner</td>\n",
              "      <td>2</td>\n",
              "      <td>0.139780</td>\n",
              "    </tr>\n",
              "    <tr>\n",
              "      <th>4</th>\n",
              "      <td>24.59</td>\n",
              "      <td>3.61</td>\n",
              "      <td>No</td>\n",
              "      <td>Sun</td>\n",
              "      <td>Dinner</td>\n",
              "      <td>4</td>\n",
              "      <td>0.146808</td>\n",
              "    </tr>\n",
              "  </tbody>\n",
              "</table>\n",
              "</div>"
            ],
            "text/plain": [
              "   total_bill   tip smoker  day    time  size   tip_pct\n",
              "0       16.99  1.01     No  Sun  Dinner     2  0.059447\n",
              "1       10.34  1.66     No  Sun  Dinner     3  0.160542\n",
              "2       21.01  3.50     No  Sun  Dinner     3  0.166587\n",
              "3       23.68  3.31     No  Sun  Dinner     2  0.139780\n",
              "4       24.59  3.61     No  Sun  Dinner     4  0.146808"
            ]
          },
          "metadata": {
            "tags": []
          },
          "execution_count": 7
        }
      ]
    },
    {
      "cell_type": "code",
      "metadata": {
        "id": "_4EsV-ILU-wv"
      },
      "source": [
        "def top(df, n=5, column='tip_pct'):\n",
        "    return df.sort_values(by=column)[-n:]"
      ],
      "execution_count": 8,
      "outputs": []
    },
    {
      "cell_type": "code",
      "metadata": {
        "id": "fCmyyNj4VBDO",
        "outputId": "5b6090fd-13e7-4d8a-e12d-5a436b882463",
        "colab": {
          "base_uri": "https://localhost:8080/",
          "height": 235
        }
      },
      "source": [
        "top(tips, n=6)"
      ],
      "execution_count": 9,
      "outputs": [
        {
          "output_type": "execute_result",
          "data": {
            "text/html": [
              "<div>\n",
              "<style scoped>\n",
              "    .dataframe tbody tr th:only-of-type {\n",
              "        vertical-align: middle;\n",
              "    }\n",
              "\n",
              "    .dataframe tbody tr th {\n",
              "        vertical-align: top;\n",
              "    }\n",
              "\n",
              "    .dataframe thead th {\n",
              "        text-align: right;\n",
              "    }\n",
              "</style>\n",
              "<table border=\"1\" class=\"dataframe\">\n",
              "  <thead>\n",
              "    <tr style=\"text-align: right;\">\n",
              "      <th></th>\n",
              "      <th>total_bill</th>\n",
              "      <th>tip</th>\n",
              "      <th>smoker</th>\n",
              "      <th>day</th>\n",
              "      <th>time</th>\n",
              "      <th>size</th>\n",
              "      <th>tip_pct</th>\n",
              "    </tr>\n",
              "  </thead>\n",
              "  <tbody>\n",
              "    <tr>\n",
              "      <th>109</th>\n",
              "      <td>14.31</td>\n",
              "      <td>4.00</td>\n",
              "      <td>Yes</td>\n",
              "      <td>Sat</td>\n",
              "      <td>Dinner</td>\n",
              "      <td>2</td>\n",
              "      <td>0.279525</td>\n",
              "    </tr>\n",
              "    <tr>\n",
              "      <th>183</th>\n",
              "      <td>23.17</td>\n",
              "      <td>6.50</td>\n",
              "      <td>Yes</td>\n",
              "      <td>Sun</td>\n",
              "      <td>Dinner</td>\n",
              "      <td>4</td>\n",
              "      <td>0.280535</td>\n",
              "    </tr>\n",
              "    <tr>\n",
              "      <th>232</th>\n",
              "      <td>11.61</td>\n",
              "      <td>3.39</td>\n",
              "      <td>No</td>\n",
              "      <td>Sat</td>\n",
              "      <td>Dinner</td>\n",
              "      <td>2</td>\n",
              "      <td>0.291990</td>\n",
              "    </tr>\n",
              "    <tr>\n",
              "      <th>67</th>\n",
              "      <td>3.07</td>\n",
              "      <td>1.00</td>\n",
              "      <td>Yes</td>\n",
              "      <td>Sat</td>\n",
              "      <td>Dinner</td>\n",
              "      <td>1</td>\n",
              "      <td>0.325733</td>\n",
              "    </tr>\n",
              "    <tr>\n",
              "      <th>178</th>\n",
              "      <td>9.60</td>\n",
              "      <td>4.00</td>\n",
              "      <td>Yes</td>\n",
              "      <td>Sun</td>\n",
              "      <td>Dinner</td>\n",
              "      <td>2</td>\n",
              "      <td>0.416667</td>\n",
              "    </tr>\n",
              "    <tr>\n",
              "      <th>172</th>\n",
              "      <td>7.25</td>\n",
              "      <td>5.15</td>\n",
              "      <td>Yes</td>\n",
              "      <td>Sun</td>\n",
              "      <td>Dinner</td>\n",
              "      <td>2</td>\n",
              "      <td>0.710345</td>\n",
              "    </tr>\n",
              "  </tbody>\n",
              "</table>\n",
              "</div>"
            ],
            "text/plain": [
              "     total_bill   tip smoker  day    time  size   tip_pct\n",
              "109       14.31  4.00    Yes  Sat  Dinner     2  0.279525\n",
              "183       23.17  6.50    Yes  Sun  Dinner     4  0.280535\n",
              "232       11.61  3.39     No  Sat  Dinner     2  0.291990\n",
              "67         3.07  1.00    Yes  Sat  Dinner     1  0.325733\n",
              "178        9.60  4.00    Yes  Sun  Dinner     2  0.416667\n",
              "172        7.25  5.15    Yes  Sun  Dinner     2  0.710345"
            ]
          },
          "metadata": {
            "tags": []
          },
          "execution_count": 9
        }
      ]
    },
    {
      "cell_type": "markdown",
      "metadata": {
        "id": "aiEF_6UTVB0Y"
      },
      "source": [
        "**現在，如果我們按smoker分組，然後用apply來使用這個函數，我們能得到下面的結果**"
      ]
    },
    {
      "cell_type": "code",
      "metadata": {
        "id": "BeaKey3yVHb2",
        "outputId": "71265e5d-67db-4dc6-8270-a0e8e5c6efff",
        "colab": {
          "base_uri": "https://localhost:8080/",
          "height": 390
        }
      },
      "source": [
        "tips.groupby('smoker').apply(top)"
      ],
      "execution_count": 10,
      "outputs": [
        {
          "output_type": "execute_result",
          "data": {
            "text/html": [
              "<div>\n",
              "<style scoped>\n",
              "    .dataframe tbody tr th:only-of-type {\n",
              "        vertical-align: middle;\n",
              "    }\n",
              "\n",
              "    .dataframe tbody tr th {\n",
              "        vertical-align: top;\n",
              "    }\n",
              "\n",
              "    .dataframe thead th {\n",
              "        text-align: right;\n",
              "    }\n",
              "</style>\n",
              "<table border=\"1\" class=\"dataframe\">\n",
              "  <thead>\n",
              "    <tr style=\"text-align: right;\">\n",
              "      <th></th>\n",
              "      <th></th>\n",
              "      <th>total_bill</th>\n",
              "      <th>tip</th>\n",
              "      <th>smoker</th>\n",
              "      <th>day</th>\n",
              "      <th>time</th>\n",
              "      <th>size</th>\n",
              "      <th>tip_pct</th>\n",
              "    </tr>\n",
              "    <tr>\n",
              "      <th>smoker</th>\n",
              "      <th></th>\n",
              "      <th></th>\n",
              "      <th></th>\n",
              "      <th></th>\n",
              "      <th></th>\n",
              "      <th></th>\n",
              "      <th></th>\n",
              "      <th></th>\n",
              "    </tr>\n",
              "  </thead>\n",
              "  <tbody>\n",
              "    <tr>\n",
              "      <th rowspan=\"5\" valign=\"top\">No</th>\n",
              "      <th>88</th>\n",
              "      <td>24.71</td>\n",
              "      <td>5.85</td>\n",
              "      <td>No</td>\n",
              "      <td>Thur</td>\n",
              "      <td>Lunch</td>\n",
              "      <td>2</td>\n",
              "      <td>0.236746</td>\n",
              "    </tr>\n",
              "    <tr>\n",
              "      <th>185</th>\n",
              "      <td>20.69</td>\n",
              "      <td>5.00</td>\n",
              "      <td>No</td>\n",
              "      <td>Sun</td>\n",
              "      <td>Dinner</td>\n",
              "      <td>5</td>\n",
              "      <td>0.241663</td>\n",
              "    </tr>\n",
              "    <tr>\n",
              "      <th>51</th>\n",
              "      <td>10.29</td>\n",
              "      <td>2.60</td>\n",
              "      <td>No</td>\n",
              "      <td>Sun</td>\n",
              "      <td>Dinner</td>\n",
              "      <td>2</td>\n",
              "      <td>0.252672</td>\n",
              "    </tr>\n",
              "    <tr>\n",
              "      <th>149</th>\n",
              "      <td>7.51</td>\n",
              "      <td>2.00</td>\n",
              "      <td>No</td>\n",
              "      <td>Thur</td>\n",
              "      <td>Lunch</td>\n",
              "      <td>2</td>\n",
              "      <td>0.266312</td>\n",
              "    </tr>\n",
              "    <tr>\n",
              "      <th>232</th>\n",
              "      <td>11.61</td>\n",
              "      <td>3.39</td>\n",
              "      <td>No</td>\n",
              "      <td>Sat</td>\n",
              "      <td>Dinner</td>\n",
              "      <td>2</td>\n",
              "      <td>0.291990</td>\n",
              "    </tr>\n",
              "    <tr>\n",
              "      <th rowspan=\"5\" valign=\"top\">Yes</th>\n",
              "      <th>109</th>\n",
              "      <td>14.31</td>\n",
              "      <td>4.00</td>\n",
              "      <td>Yes</td>\n",
              "      <td>Sat</td>\n",
              "      <td>Dinner</td>\n",
              "      <td>2</td>\n",
              "      <td>0.279525</td>\n",
              "    </tr>\n",
              "    <tr>\n",
              "      <th>183</th>\n",
              "      <td>23.17</td>\n",
              "      <td>6.50</td>\n",
              "      <td>Yes</td>\n",
              "      <td>Sun</td>\n",
              "      <td>Dinner</td>\n",
              "      <td>4</td>\n",
              "      <td>0.280535</td>\n",
              "    </tr>\n",
              "    <tr>\n",
              "      <th>67</th>\n",
              "      <td>3.07</td>\n",
              "      <td>1.00</td>\n",
              "      <td>Yes</td>\n",
              "      <td>Sat</td>\n",
              "      <td>Dinner</td>\n",
              "      <td>1</td>\n",
              "      <td>0.325733</td>\n",
              "    </tr>\n",
              "    <tr>\n",
              "      <th>178</th>\n",
              "      <td>9.60</td>\n",
              "      <td>4.00</td>\n",
              "      <td>Yes</td>\n",
              "      <td>Sun</td>\n",
              "      <td>Dinner</td>\n",
              "      <td>2</td>\n",
              "      <td>0.416667</td>\n",
              "    </tr>\n",
              "    <tr>\n",
              "      <th>172</th>\n",
              "      <td>7.25</td>\n",
              "      <td>5.15</td>\n",
              "      <td>Yes</td>\n",
              "      <td>Sun</td>\n",
              "      <td>Dinner</td>\n",
              "      <td>2</td>\n",
              "      <td>0.710345</td>\n",
              "    </tr>\n",
              "  </tbody>\n",
              "</table>\n",
              "</div>"
            ],
            "text/plain": [
              "            total_bill   tip smoker   day    time  size   tip_pct\n",
              "smoker                                                           \n",
              "No     88        24.71  5.85     No  Thur   Lunch     2  0.236746\n",
              "       185       20.69  5.00     No   Sun  Dinner     5  0.241663\n",
              "       51        10.29  2.60     No   Sun  Dinner     2  0.252672\n",
              "       149        7.51  2.00     No  Thur   Lunch     2  0.266312\n",
              "       232       11.61  3.39     No   Sat  Dinner     2  0.291990\n",
              "Yes    109       14.31  4.00    Yes   Sat  Dinner     2  0.279525\n",
              "       183       23.17  6.50    Yes   Sun  Dinner     4  0.280535\n",
              "       67         3.07  1.00    Yes   Sat  Dinner     1  0.325733\n",
              "       178        9.60  4.00    Yes   Sun  Dinner     2  0.416667\n",
              "       172        7.25  5.15    Yes   Sun  Dinner     2  0.710345"
            ]
          },
          "metadata": {
            "tags": []
          },
          "execution_count": 10
        }
      ]
    },
    {
      "cell_type": "markdown",
      "metadata": {
        "id": "mau470rTVLDn"
      },
      "source": [
        "**如果傳遞一個函數給apply，可以在函數之後，設定其他一些參數**"
      ]
    },
    {
      "cell_type": "code",
      "metadata": {
        "id": "ELMAFoTzVOiu",
        "outputId": "b4c12e22-784c-44f1-e42a-1345a4cb8959",
        "colab": {
          "base_uri": "https://localhost:8080/",
          "height": 328
        }
      },
      "source": [
        "tips.groupby(['smoker', 'day']).apply(top, n=1, column='total_bill')"
      ],
      "execution_count": 11,
      "outputs": [
        {
          "output_type": "execute_result",
          "data": {
            "text/html": [
              "<div>\n",
              "<style scoped>\n",
              "    .dataframe tbody tr th:only-of-type {\n",
              "        vertical-align: middle;\n",
              "    }\n",
              "\n",
              "    .dataframe tbody tr th {\n",
              "        vertical-align: top;\n",
              "    }\n",
              "\n",
              "    .dataframe thead th {\n",
              "        text-align: right;\n",
              "    }\n",
              "</style>\n",
              "<table border=\"1\" class=\"dataframe\">\n",
              "  <thead>\n",
              "    <tr style=\"text-align: right;\">\n",
              "      <th></th>\n",
              "      <th></th>\n",
              "      <th></th>\n",
              "      <th>total_bill</th>\n",
              "      <th>tip</th>\n",
              "      <th>smoker</th>\n",
              "      <th>day</th>\n",
              "      <th>time</th>\n",
              "      <th>size</th>\n",
              "      <th>tip_pct</th>\n",
              "    </tr>\n",
              "    <tr>\n",
              "      <th>smoker</th>\n",
              "      <th>day</th>\n",
              "      <th></th>\n",
              "      <th></th>\n",
              "      <th></th>\n",
              "      <th></th>\n",
              "      <th></th>\n",
              "      <th></th>\n",
              "      <th></th>\n",
              "      <th></th>\n",
              "    </tr>\n",
              "  </thead>\n",
              "  <tbody>\n",
              "    <tr>\n",
              "      <th rowspan=\"4\" valign=\"top\">No</th>\n",
              "      <th>Fri</th>\n",
              "      <th>94</th>\n",
              "      <td>22.75</td>\n",
              "      <td>3.25</td>\n",
              "      <td>No</td>\n",
              "      <td>Fri</td>\n",
              "      <td>Dinner</td>\n",
              "      <td>2</td>\n",
              "      <td>0.142857</td>\n",
              "    </tr>\n",
              "    <tr>\n",
              "      <th>Sat</th>\n",
              "      <th>212</th>\n",
              "      <td>48.33</td>\n",
              "      <td>9.00</td>\n",
              "      <td>No</td>\n",
              "      <td>Sat</td>\n",
              "      <td>Dinner</td>\n",
              "      <td>4</td>\n",
              "      <td>0.186220</td>\n",
              "    </tr>\n",
              "    <tr>\n",
              "      <th>Sun</th>\n",
              "      <th>156</th>\n",
              "      <td>48.17</td>\n",
              "      <td>5.00</td>\n",
              "      <td>No</td>\n",
              "      <td>Sun</td>\n",
              "      <td>Dinner</td>\n",
              "      <td>6</td>\n",
              "      <td>0.103799</td>\n",
              "    </tr>\n",
              "    <tr>\n",
              "      <th>Thur</th>\n",
              "      <th>142</th>\n",
              "      <td>41.19</td>\n",
              "      <td>5.00</td>\n",
              "      <td>No</td>\n",
              "      <td>Thur</td>\n",
              "      <td>Lunch</td>\n",
              "      <td>5</td>\n",
              "      <td>0.121389</td>\n",
              "    </tr>\n",
              "    <tr>\n",
              "      <th rowspan=\"4\" valign=\"top\">Yes</th>\n",
              "      <th>Fri</th>\n",
              "      <th>95</th>\n",
              "      <td>40.17</td>\n",
              "      <td>4.73</td>\n",
              "      <td>Yes</td>\n",
              "      <td>Fri</td>\n",
              "      <td>Dinner</td>\n",
              "      <td>4</td>\n",
              "      <td>0.117750</td>\n",
              "    </tr>\n",
              "    <tr>\n",
              "      <th>Sat</th>\n",
              "      <th>170</th>\n",
              "      <td>50.81</td>\n",
              "      <td>10.00</td>\n",
              "      <td>Yes</td>\n",
              "      <td>Sat</td>\n",
              "      <td>Dinner</td>\n",
              "      <td>3</td>\n",
              "      <td>0.196812</td>\n",
              "    </tr>\n",
              "    <tr>\n",
              "      <th>Sun</th>\n",
              "      <th>182</th>\n",
              "      <td>45.35</td>\n",
              "      <td>3.50</td>\n",
              "      <td>Yes</td>\n",
              "      <td>Sun</td>\n",
              "      <td>Dinner</td>\n",
              "      <td>3</td>\n",
              "      <td>0.077178</td>\n",
              "    </tr>\n",
              "    <tr>\n",
              "      <th>Thur</th>\n",
              "      <th>197</th>\n",
              "      <td>43.11</td>\n",
              "      <td>5.00</td>\n",
              "      <td>Yes</td>\n",
              "      <td>Thur</td>\n",
              "      <td>Lunch</td>\n",
              "      <td>4</td>\n",
              "      <td>0.115982</td>\n",
              "    </tr>\n",
              "  </tbody>\n",
              "</table>\n",
              "</div>"
            ],
            "text/plain": [
              "                 total_bill    tip smoker   day    time  size   tip_pct\n",
              "smoker day                                                             \n",
              "No     Fri  94        22.75   3.25     No   Fri  Dinner     2  0.142857\n",
              "       Sat  212       48.33   9.00     No   Sat  Dinner     4  0.186220\n",
              "       Sun  156       48.17   5.00     No   Sun  Dinner     6  0.103799\n",
              "       Thur 142       41.19   5.00     No  Thur   Lunch     5  0.121389\n",
              "Yes    Fri  95        40.17   4.73    Yes   Fri  Dinner     4  0.117750\n",
              "       Sat  170       50.81  10.00    Yes   Sat  Dinner     3  0.196812\n",
              "       Sun  182       45.35   3.50    Yes   Sun  Dinner     3  0.077178\n",
              "       Thur 197       43.11   5.00    Yes  Thur   Lunch     4  0.115982"
            ]
          },
          "metadata": {
            "tags": []
          },
          "execution_count": 11
        }
      ]
    },
    {
      "cell_type": "markdown",
      "metadata": {
        "id": "bS_VV8NSVQ2u"
      },
      "source": [
        "**試一試在GroupBy對象上調用describe**"
      ]
    },
    {
      "cell_type": "code",
      "metadata": {
        "id": "tlx9gvU1VURX"
      },
      "source": [
        "result = tips.groupby('smoker')['tip_pct'].describe()"
      ],
      "execution_count": 12,
      "outputs": []
    },
    {
      "cell_type": "code",
      "metadata": {
        "id": "C-35FN9gVWXP",
        "outputId": "072c8402-d44f-4f7a-8a8f-2e77441e431d",
        "colab": {
          "base_uri": "https://localhost:8080/",
          "height": 142
        }
      },
      "source": [
        "result"
      ],
      "execution_count": 13,
      "outputs": [
        {
          "output_type": "execute_result",
          "data": {
            "text/html": [
              "<div>\n",
              "<style scoped>\n",
              "    .dataframe tbody tr th:only-of-type {\n",
              "        vertical-align: middle;\n",
              "    }\n",
              "\n",
              "    .dataframe tbody tr th {\n",
              "        vertical-align: top;\n",
              "    }\n",
              "\n",
              "    .dataframe thead th {\n",
              "        text-align: right;\n",
              "    }\n",
              "</style>\n",
              "<table border=\"1\" class=\"dataframe\">\n",
              "  <thead>\n",
              "    <tr style=\"text-align: right;\">\n",
              "      <th></th>\n",
              "      <th>count</th>\n",
              "      <th>mean</th>\n",
              "      <th>std</th>\n",
              "      <th>min</th>\n",
              "      <th>25%</th>\n",
              "      <th>50%</th>\n",
              "      <th>75%</th>\n",
              "      <th>max</th>\n",
              "    </tr>\n",
              "    <tr>\n",
              "      <th>smoker</th>\n",
              "      <th></th>\n",
              "      <th></th>\n",
              "      <th></th>\n",
              "      <th></th>\n",
              "      <th></th>\n",
              "      <th></th>\n",
              "      <th></th>\n",
              "      <th></th>\n",
              "    </tr>\n",
              "  </thead>\n",
              "  <tbody>\n",
              "    <tr>\n",
              "      <th>No</th>\n",
              "      <td>151.0</td>\n",
              "      <td>0.159328</td>\n",
              "      <td>0.039910</td>\n",
              "      <td>0.056797</td>\n",
              "      <td>0.136906</td>\n",
              "      <td>0.155625</td>\n",
              "      <td>0.185014</td>\n",
              "      <td>0.291990</td>\n",
              "    </tr>\n",
              "    <tr>\n",
              "      <th>Yes</th>\n",
              "      <td>93.0</td>\n",
              "      <td>0.163196</td>\n",
              "      <td>0.085119</td>\n",
              "      <td>0.035638</td>\n",
              "      <td>0.106771</td>\n",
              "      <td>0.153846</td>\n",
              "      <td>0.195059</td>\n",
              "      <td>0.710345</td>\n",
              "    </tr>\n",
              "  </tbody>\n",
              "</table>\n",
              "</div>"
            ],
            "text/plain": [
              "        count      mean       std  ...       50%       75%       max\n",
              "smoker                             ...                              \n",
              "No      151.0  0.159328  0.039910  ...  0.155625  0.185014  0.291990\n",
              "Yes      93.0  0.163196  0.085119  ...  0.153846  0.195059  0.710345\n",
              "\n",
              "[2 rows x 8 columns]"
            ]
          },
          "metadata": {
            "tags": []
          },
          "execution_count": 13
        }
      ]
    },
    {
      "cell_type": "code",
      "metadata": {
        "id": "symyZQHqVa9H",
        "outputId": "990f9700-f54f-4df1-e49b-d02bb145a702",
        "colab": {
          "base_uri": "https://localhost:8080/"
        }
      },
      "source": [
        "result.unstack('smoker')"
      ],
      "execution_count": 14,
      "outputs": [
        {
          "output_type": "execute_result",
          "data": {
            "text/plain": [
              "       smoker\n",
              "count  No        151.000000\n",
              "       Yes        93.000000\n",
              "mean   No          0.159328\n",
              "       Yes         0.163196\n",
              "std    No          0.039910\n",
              "       Yes         0.085119\n",
              "min    No          0.056797\n",
              "       Yes         0.035638\n",
              "25%    No          0.136906\n",
              "       Yes         0.106771\n",
              "50%    No          0.155625\n",
              "       Yes         0.153846\n",
              "75%    No          0.185014\n",
              "       Yes         0.195059\n",
              "max    No          0.291990\n",
              "       Yes         0.710345\n",
              "dtype: float64"
            ]
          },
          "metadata": {
            "tags": []
          },
          "execution_count": 14
        }
      ]
    },
    {
      "cell_type": "markdown",
      "metadata": {
        "id": "xlntsxwuVb8W"
      },
      "source": [
        "**在GroupBy內部，當我們想要調用一個像describe這樣的函數的時候，其實相當於下面的寫法：**\n",
        "\n",
        "**f = lambda x: x.describe()**\n",
        "\n",
        "**grouped.apply(f)**\n"
      ]
    },
    {
      "cell_type": "markdown",
      "metadata": {
        "id": "KhyfxyF5Vnf2"
      },
      "source": [
        "# **Suppressing the Group Keys**"
      ]
    },
    {
      "cell_type": "markdown",
      "metadata": {
        "id": "sBxgHWNaVxTe"
      },
      "source": [
        "**我們可以在groupby函數中設置group_keys=False來關閉這個功能**"
      ]
    },
    {
      "cell_type": "code",
      "metadata": {
        "id": "HX5A0J5zVpYu",
        "outputId": "b918c564-ad04-49c7-ae79-f99f234789fc",
        "colab": {
          "base_uri": "https://localhost:8080/",
          "height": 359
        }
      },
      "source": [
        "tips.groupby('smoker', group_keys=False).apply(top)"
      ],
      "execution_count": 15,
      "outputs": [
        {
          "output_type": "execute_result",
          "data": {
            "text/html": [
              "<div>\n",
              "<style scoped>\n",
              "    .dataframe tbody tr th:only-of-type {\n",
              "        vertical-align: middle;\n",
              "    }\n",
              "\n",
              "    .dataframe tbody tr th {\n",
              "        vertical-align: top;\n",
              "    }\n",
              "\n",
              "    .dataframe thead th {\n",
              "        text-align: right;\n",
              "    }\n",
              "</style>\n",
              "<table border=\"1\" class=\"dataframe\">\n",
              "  <thead>\n",
              "    <tr style=\"text-align: right;\">\n",
              "      <th></th>\n",
              "      <th>total_bill</th>\n",
              "      <th>tip</th>\n",
              "      <th>smoker</th>\n",
              "      <th>day</th>\n",
              "      <th>time</th>\n",
              "      <th>size</th>\n",
              "      <th>tip_pct</th>\n",
              "    </tr>\n",
              "  </thead>\n",
              "  <tbody>\n",
              "    <tr>\n",
              "      <th>88</th>\n",
              "      <td>24.71</td>\n",
              "      <td>5.85</td>\n",
              "      <td>No</td>\n",
              "      <td>Thur</td>\n",
              "      <td>Lunch</td>\n",
              "      <td>2</td>\n",
              "      <td>0.236746</td>\n",
              "    </tr>\n",
              "    <tr>\n",
              "      <th>185</th>\n",
              "      <td>20.69</td>\n",
              "      <td>5.00</td>\n",
              "      <td>No</td>\n",
              "      <td>Sun</td>\n",
              "      <td>Dinner</td>\n",
              "      <td>5</td>\n",
              "      <td>0.241663</td>\n",
              "    </tr>\n",
              "    <tr>\n",
              "      <th>51</th>\n",
              "      <td>10.29</td>\n",
              "      <td>2.60</td>\n",
              "      <td>No</td>\n",
              "      <td>Sun</td>\n",
              "      <td>Dinner</td>\n",
              "      <td>2</td>\n",
              "      <td>0.252672</td>\n",
              "    </tr>\n",
              "    <tr>\n",
              "      <th>149</th>\n",
              "      <td>7.51</td>\n",
              "      <td>2.00</td>\n",
              "      <td>No</td>\n",
              "      <td>Thur</td>\n",
              "      <td>Lunch</td>\n",
              "      <td>2</td>\n",
              "      <td>0.266312</td>\n",
              "    </tr>\n",
              "    <tr>\n",
              "      <th>232</th>\n",
              "      <td>11.61</td>\n",
              "      <td>3.39</td>\n",
              "      <td>No</td>\n",
              "      <td>Sat</td>\n",
              "      <td>Dinner</td>\n",
              "      <td>2</td>\n",
              "      <td>0.291990</td>\n",
              "    </tr>\n",
              "    <tr>\n",
              "      <th>109</th>\n",
              "      <td>14.31</td>\n",
              "      <td>4.00</td>\n",
              "      <td>Yes</td>\n",
              "      <td>Sat</td>\n",
              "      <td>Dinner</td>\n",
              "      <td>2</td>\n",
              "      <td>0.279525</td>\n",
              "    </tr>\n",
              "    <tr>\n",
              "      <th>183</th>\n",
              "      <td>23.17</td>\n",
              "      <td>6.50</td>\n",
              "      <td>Yes</td>\n",
              "      <td>Sun</td>\n",
              "      <td>Dinner</td>\n",
              "      <td>4</td>\n",
              "      <td>0.280535</td>\n",
              "    </tr>\n",
              "    <tr>\n",
              "      <th>67</th>\n",
              "      <td>3.07</td>\n",
              "      <td>1.00</td>\n",
              "      <td>Yes</td>\n",
              "      <td>Sat</td>\n",
              "      <td>Dinner</td>\n",
              "      <td>1</td>\n",
              "      <td>0.325733</td>\n",
              "    </tr>\n",
              "    <tr>\n",
              "      <th>178</th>\n",
              "      <td>9.60</td>\n",
              "      <td>4.00</td>\n",
              "      <td>Yes</td>\n",
              "      <td>Sun</td>\n",
              "      <td>Dinner</td>\n",
              "      <td>2</td>\n",
              "      <td>0.416667</td>\n",
              "    </tr>\n",
              "    <tr>\n",
              "      <th>172</th>\n",
              "      <td>7.25</td>\n",
              "      <td>5.15</td>\n",
              "      <td>Yes</td>\n",
              "      <td>Sun</td>\n",
              "      <td>Dinner</td>\n",
              "      <td>2</td>\n",
              "      <td>0.710345</td>\n",
              "    </tr>\n",
              "  </tbody>\n",
              "</table>\n",
              "</div>"
            ],
            "text/plain": [
              "     total_bill   tip smoker   day    time  size   tip_pct\n",
              "88        24.71  5.85     No  Thur   Lunch     2  0.236746\n",
              "185       20.69  5.00     No   Sun  Dinner     5  0.241663\n",
              "51        10.29  2.60     No   Sun  Dinner     2  0.252672\n",
              "149        7.51  2.00     No  Thur   Lunch     2  0.266312\n",
              "232       11.61  3.39     No   Sat  Dinner     2  0.291990\n",
              "109       14.31  4.00    Yes   Sat  Dinner     2  0.279525\n",
              "183       23.17  6.50    Yes   Sun  Dinner     4  0.280535\n",
              "67         3.07  1.00    Yes   Sat  Dinner     1  0.325733\n",
              "178        9.60  4.00    Yes   Sun  Dinner     2  0.416667\n",
              "172        7.25  5.15    Yes   Sun  Dinner     2  0.710345"
            ]
          },
          "metadata": {
            "tags": []
          },
          "execution_count": 15
        }
      ]
    },
    {
      "cell_type": "markdown",
      "metadata": {
        "id": "zZ6ezdemV1SP"
      },
      "source": [
        "# **Quantile and Bucket Analysis**"
      ]
    },
    {
      "cell_type": "markdown",
      "metadata": {
        "id": "3lulS3NfWHmS"
      },
      "source": [
        "**把函數通過groupby整合起來，可以在做桶分析或分位數分析的時候更方便。假設一個簡單的隨機數據集和一個等長的桶類型（bucket categorization），使用cut**"
      ]
    },
    {
      "cell_type": "code",
      "metadata": {
        "id": "az0X0JyLW990",
        "outputId": "3fc64e79-d54d-40dd-aed6-f2a624819876",
        "colab": {
          "base_uri": "https://localhost:8080/",
          "height": 204
        }
      },
      "source": [
        "frame = pd.DataFrame({'data1': np.random.randn(1000),\n",
        "                       'data2': np.random.randn(1000)})\n",
        "frame.head()"
      ],
      "execution_count": 16,
      "outputs": [
        {
          "output_type": "execute_result",
          "data": {
            "text/html": [
              "<div>\n",
              "<style scoped>\n",
              "    .dataframe tbody tr th:only-of-type {\n",
              "        vertical-align: middle;\n",
              "    }\n",
              "\n",
              "    .dataframe tbody tr th {\n",
              "        vertical-align: top;\n",
              "    }\n",
              "\n",
              "    .dataframe thead th {\n",
              "        text-align: right;\n",
              "    }\n",
              "</style>\n",
              "<table border=\"1\" class=\"dataframe\">\n",
              "  <thead>\n",
              "    <tr style=\"text-align: right;\">\n",
              "      <th></th>\n",
              "      <th>data1</th>\n",
              "      <th>data2</th>\n",
              "    </tr>\n",
              "  </thead>\n",
              "  <tbody>\n",
              "    <tr>\n",
              "      <th>0</th>\n",
              "      <td>2.372897</td>\n",
              "      <td>-1.703250</td>\n",
              "    </tr>\n",
              "    <tr>\n",
              "      <th>1</th>\n",
              "      <td>1.159432</td>\n",
              "      <td>0.926097</td>\n",
              "    </tr>\n",
              "    <tr>\n",
              "      <th>2</th>\n",
              "      <td>0.768928</td>\n",
              "      <td>-1.519208</td>\n",
              "    </tr>\n",
              "    <tr>\n",
              "      <th>3</th>\n",
              "      <td>1.214234</td>\n",
              "      <td>-0.126483</td>\n",
              "    </tr>\n",
              "    <tr>\n",
              "      <th>4</th>\n",
              "      <td>-1.030624</td>\n",
              "      <td>-1.101032</td>\n",
              "    </tr>\n",
              "  </tbody>\n",
              "</table>\n",
              "</div>"
            ],
            "text/plain": [
              "      data1     data2\n",
              "0  2.372897 -1.703250\n",
              "1  1.159432  0.926097\n",
              "2  0.768928 -1.519208\n",
              "3  1.214234 -0.126483\n",
              "4 -1.030624 -1.101032"
            ]
          },
          "metadata": {
            "tags": []
          },
          "execution_count": 16
        }
      ]
    },
    {
      "cell_type": "code",
      "metadata": {
        "id": "qbpk_kd8XClS",
        "outputId": "8889a8c6-7a7a-44ee-9d10-b45d2996b5d8",
        "colab": {
          "base_uri": "https://localhost:8080/"
        }
      },
      "source": [
        "quartiles = pd.cut(frame.data1, 4)\n",
        "quartiles[:10]"
      ],
      "execution_count": 17,
      "outputs": [
        {
          "output_type": "execute_result",
          "data": {
            "text/plain": [
              "0      (1.371, 2.889]\n",
              "1     (-0.148, 1.371]\n",
              "2     (-0.148, 1.371]\n",
              "3     (-0.148, 1.371]\n",
              "4    (-1.666, -0.148]\n",
              "5      (1.371, 2.889]\n",
              "6     (-0.148, 1.371]\n",
              "7    (-1.666, -0.148]\n",
              "8     (-0.148, 1.371]\n",
              "9     (-3.19, -1.666]\n",
              "Name: data1, dtype: category\n",
              "Categories (4, interval[float64]): [(-3.19, -1.666] < (-1.666, -0.148] < (-0.148, 1.371] <\n",
              "                                    (1.371, 2.889]]"
            ]
          },
          "metadata": {
            "tags": []
          },
          "execution_count": 17
        }
      ]
    },
    {
      "cell_type": "markdown",
      "metadata": {
        "id": "eT4NJx4GXIYZ"
      },
      "source": [
        "**cut返回的Categorical object（類別對象）能直接傳入groupby。所以我們可以在data2列上計算很多統計值**"
      ]
    },
    {
      "cell_type": "code",
      "metadata": {
        "id": "97VlnXiLXKLQ"
      },
      "source": [
        "def get_stats(group):\n",
        "    return {'min': group.min(), 'max': group.max(),\n",
        "            'count': group.count(), 'mean': group.mean()}\n"
      ],
      "execution_count": 18,
      "outputs": []
    },
    {
      "cell_type": "code",
      "metadata": {
        "id": "1fdvDu2UXNlH"
      },
      "source": [
        "grouped = frame.data2.groupby(quartiles)"
      ],
      "execution_count": 19,
      "outputs": []
    },
    {
      "cell_type": "code",
      "metadata": {
        "id": "nbMJFK-1XPpf",
        "outputId": "e5982213-9fe6-443e-f4fc-94f872d91b82",
        "colab": {
          "base_uri": "https://localhost:8080/",
          "height": 204
        }
      },
      "source": [
        "grouped.apply(get_stats).unstack()"
      ],
      "execution_count": 20,
      "outputs": [
        {
          "output_type": "execute_result",
          "data": {
            "text/html": [
              "<div>\n",
              "<style scoped>\n",
              "    .dataframe tbody tr th:only-of-type {\n",
              "        vertical-align: middle;\n",
              "    }\n",
              "\n",
              "    .dataframe tbody tr th {\n",
              "        vertical-align: top;\n",
              "    }\n",
              "\n",
              "    .dataframe thead th {\n",
              "        text-align: right;\n",
              "    }\n",
              "</style>\n",
              "<table border=\"1\" class=\"dataframe\">\n",
              "  <thead>\n",
              "    <tr style=\"text-align: right;\">\n",
              "      <th></th>\n",
              "      <th>min</th>\n",
              "      <th>max</th>\n",
              "      <th>count</th>\n",
              "      <th>mean</th>\n",
              "    </tr>\n",
              "    <tr>\n",
              "      <th>data1</th>\n",
              "      <th></th>\n",
              "      <th></th>\n",
              "      <th></th>\n",
              "      <th></th>\n",
              "    </tr>\n",
              "  </thead>\n",
              "  <tbody>\n",
              "    <tr>\n",
              "      <th>(-3.19, -1.666]</th>\n",
              "      <td>-1.717200</td>\n",
              "      <td>2.144720</td>\n",
              "      <td>40.0</td>\n",
              "      <td>-0.193085</td>\n",
              "    </tr>\n",
              "    <tr>\n",
              "      <th>(-1.666, -0.148]</th>\n",
              "      <td>-2.866082</td>\n",
              "      <td>2.958925</td>\n",
              "      <td>388.0</td>\n",
              "      <td>-0.031046</td>\n",
              "    </tr>\n",
              "    <tr>\n",
              "      <th>(-0.148, 1.371]</th>\n",
              "      <td>-2.572689</td>\n",
              "      <td>2.672097</td>\n",
              "      <td>494.0</td>\n",
              "      <td>-0.042573</td>\n",
              "    </tr>\n",
              "    <tr>\n",
              "      <th>(1.371, 2.889]</th>\n",
              "      <td>-2.410051</td>\n",
              "      <td>1.801265</td>\n",
              "      <td>78.0</td>\n",
              "      <td>-0.008560</td>\n",
              "    </tr>\n",
              "  </tbody>\n",
              "</table>\n",
              "</div>"
            ],
            "text/plain": [
              "                       min       max  count      mean\n",
              "data1                                                \n",
              "(-3.19, -1.666]  -1.717200  2.144720   40.0 -0.193085\n",
              "(-1.666, -0.148] -2.866082  2.958925  388.0 -0.031046\n",
              "(-0.148, 1.371]  -2.572689  2.672097  494.0 -0.042573\n",
              "(1.371, 2.889]   -2.410051  1.801265   78.0 -0.008560"
            ]
          },
          "metadata": {
            "tags": []
          },
          "execution_count": 20
        }
      ]
    },
    {
      "cell_type": "markdown",
      "metadata": {
        "id": "aqv2ocM1XRWf"
      },
      "source": [
        "**也有相同長度的桶（equal-length buckets）；想要按照樣本的分位數得到相同長度的桶，用qcut。這里設定labels=False來得到分位數的數量**"
      ]
    },
    {
      "cell_type": "code",
      "metadata": {
        "id": "si_85LpiXW7P"
      },
      "source": [
        "# Return quantile numbers\n",
        "grouping = pd.qcut(frame.data1, 10, labels=False)"
      ],
      "execution_count": 21,
      "outputs": []
    }
  ]
}