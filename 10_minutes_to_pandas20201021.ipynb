{
  "nbformat": 4,
  "nbformat_minor": 0,
  "metadata": {
    "colab": {
      "name": "10 minutes to pandas20201021.ipynb",
      "provenance": [],
      "collapsed_sections": [],
      "authorship_tag": "ABX9TyMtZ0dkaabG02N0VZ2gHVhA",
      "include_colab_link": true
    },
    "kernelspec": {
      "name": "python3",
      "display_name": "Python 3"
    }
  },
  "cells": [
    {
      "cell_type": "markdown",
      "metadata": {
        "id": "view-in-github",
        "colab_type": "text"
      },
      "source": [
        "<a href=\"https://colab.research.google.com/github/4060E009/AI_and_security/blob/master/10_minutes_to_pandas20201021.ipynb\" target=\"_parent\"><img src=\"https://colab.research.google.com/assets/colab-badge.svg\" alt=\"Open In Colab\"/></a>"
      ]
    },
    {
      "cell_type": "markdown",
      "metadata": {
        "id": "J8xqXrcC09HI"
      },
      "source": [
        "** Series **"
      ]
    },
    {
      "cell_type": "code",
      "metadata": {
        "id": "z4EyIv5a0MB_",
        "outputId": "53919699-8818-48e5-dcb7-3a2d5ddc5a82",
        "colab": {
          "base_uri": "https://localhost:8080/",
          "height": 136
        }
      },
      "source": [
        " import numpy as np\n",
        "\n",
        " import pandas as pd\n",
        "\n",
        " s = pd.Series([1, 3, 5, np.nan, 6, 8])\n",
        " s\n"
      ],
      "execution_count": 1,
      "outputs": [
        {
          "output_type": "execute_result",
          "data": {
            "text/plain": [
              "0    1.0\n",
              "1    3.0\n",
              "2    5.0\n",
              "3    NaN\n",
              "4    6.0\n",
              "5    8.0\n",
              "dtype: float64"
            ]
          },
          "metadata": {
            "tags": []
          },
          "execution_count": 1
        }
      ]
    },
    {
      "cell_type": "markdown",
      "metadata": {
        "id": "Qyt6to29_fef"
      },
      "source": [
        "索引要改成a,b,c, ....\n",
        "\n",
        "索引要改成11,12,13,14,15\n",
        "索引要改成10,20,30,40,50"
      ]
    },
    {
      "cell_type": "code",
      "metadata": {
        "id": "KtUJH0d__f6n",
        "outputId": "446ef56d-b251-4192-9860-6d5fe964f62a",
        "colab": {
          "base_uri": "https://localhost:8080/",
          "height": 142
        }
      },
      "source": [
        "df2 = pd.DataFrame(np.array([[1, 2, 3], [4, 5, 6], [7, 8, 9]]),\n",
        "           columns=['a', 'b', 'c'])\n",
        "df2"
      ],
      "execution_count": 62,
      "outputs": [
        {
          "output_type": "execute_result",
          "data": {
            "text/html": [
              "<div>\n",
              "<style scoped>\n",
              "    .dataframe tbody tr th:only-of-type {\n",
              "        vertical-align: middle;\n",
              "    }\n",
              "\n",
              "    .dataframe tbody tr th {\n",
              "        vertical-align: top;\n",
              "    }\n",
              "\n",
              "    .dataframe thead th {\n",
              "        text-align: right;\n",
              "    }\n",
              "</style>\n",
              "<table border=\"1\" class=\"dataframe\">\n",
              "  <thead>\n",
              "    <tr style=\"text-align: right;\">\n",
              "      <th></th>\n",
              "      <th>a</th>\n",
              "      <th>b</th>\n",
              "      <th>c</th>\n",
              "    </tr>\n",
              "  </thead>\n",
              "  <tbody>\n",
              "    <tr>\n",
              "      <th>0</th>\n",
              "      <td>1</td>\n",
              "      <td>2</td>\n",
              "      <td>3</td>\n",
              "    </tr>\n",
              "    <tr>\n",
              "      <th>1</th>\n",
              "      <td>4</td>\n",
              "      <td>5</td>\n",
              "      <td>6</td>\n",
              "    </tr>\n",
              "    <tr>\n",
              "      <th>2</th>\n",
              "      <td>7</td>\n",
              "      <td>8</td>\n",
              "      <td>9</td>\n",
              "    </tr>\n",
              "  </tbody>\n",
              "</table>\n",
              "</div>"
            ],
            "text/plain": [
              "   a  b  c\n",
              "0  1  2  3\n",
              "1  4  5  6\n",
              "2  7  8  9"
            ]
          },
          "metadata": {
            "tags": []
          },
          "execution_count": 62
        }
      ]
    },
    {
      "cell_type": "markdown",
      "metadata": {
        "id": "ZDwosUth0_uv"
      },
      "source": [
        "**DataFrame**"
      ]
    },
    {
      "cell_type": "code",
      "metadata": {
        "id": "pUCE5pdi1IhQ",
        "outputId": "2c6d2c1a-84b1-4481-abbf-c0aa7fbd2eec",
        "colab": {
          "base_uri": "https://localhost:8080/",
          "height": 68
        }
      },
      "source": [
        "dates = pd.date_range('20201021', periods=6)\n",
        "dates"
      ],
      "execution_count": 35,
      "outputs": [
        {
          "output_type": "execute_result",
          "data": {
            "text/plain": [
              "DatetimeIndex(['2020-10-21', '2020-10-22', '2020-10-23', '2020-10-24',\n",
              "               '2020-10-25', '2020-10-26'],\n",
              "              dtype='datetime64[ns]', freq='D')"
            ]
          },
          "metadata": {
            "tags": []
          },
          "execution_count": 35
        }
      ]
    },
    {
      "cell_type": "markdown",
      "metadata": {
        "id": "PIZEJRFT1jQT"
      },
      "source": [
        "**Creating a DataFrame by passing a NumPy array, with a datetime index and labeled columns:**"
      ]
    },
    {
      "cell_type": "code",
      "metadata": {
        "id": "IDmnKjIv1SRH",
        "outputId": "26fa635d-c480-498f-e303-4c9a2acf4933",
        "colab": {
          "base_uri": "https://localhost:8080/",
          "height": 235
        }
      },
      "source": [
        "df = pd.DataFrame(np.random.randn(6, 4),  columns=list('ABCD'))\n",
        "df"
      ],
      "execution_count": 41,
      "outputs": [
        {
          "output_type": "execute_result",
          "data": {
            "text/html": [
              "<div>\n",
              "<style scoped>\n",
              "    .dataframe tbody tr th:only-of-type {\n",
              "        vertical-align: middle;\n",
              "    }\n",
              "\n",
              "    .dataframe tbody tr th {\n",
              "        vertical-align: top;\n",
              "    }\n",
              "\n",
              "    .dataframe thead th {\n",
              "        text-align: right;\n",
              "    }\n",
              "</style>\n",
              "<table border=\"1\" class=\"dataframe\">\n",
              "  <thead>\n",
              "    <tr style=\"text-align: right;\">\n",
              "      <th></th>\n",
              "      <th>A</th>\n",
              "      <th>B</th>\n",
              "      <th>C</th>\n",
              "      <th>D</th>\n",
              "    </tr>\n",
              "  </thead>\n",
              "  <tbody>\n",
              "    <tr>\n",
              "      <th>0</th>\n",
              "      <td>-0.474911</td>\n",
              "      <td>-1.547192</td>\n",
              "      <td>1.066935</td>\n",
              "      <td>-0.378024</td>\n",
              "    </tr>\n",
              "    <tr>\n",
              "      <th>1</th>\n",
              "      <td>-0.028773</td>\n",
              "      <td>0.362557</td>\n",
              "      <td>-1.377325</td>\n",
              "      <td>0.683523</td>\n",
              "    </tr>\n",
              "    <tr>\n",
              "      <th>2</th>\n",
              "      <td>0.901526</td>\n",
              "      <td>1.354885</td>\n",
              "      <td>-1.096767</td>\n",
              "      <td>0.243265</td>\n",
              "    </tr>\n",
              "    <tr>\n",
              "      <th>3</th>\n",
              "      <td>-0.300767</td>\n",
              "      <td>-0.214523</td>\n",
              "      <td>0.650104</td>\n",
              "      <td>-0.828354</td>\n",
              "    </tr>\n",
              "    <tr>\n",
              "      <th>4</th>\n",
              "      <td>0.682654</td>\n",
              "      <td>-0.508920</td>\n",
              "      <td>0.067138</td>\n",
              "      <td>0.036289</td>\n",
              "    </tr>\n",
              "    <tr>\n",
              "      <th>5</th>\n",
              "      <td>-1.038830</td>\n",
              "      <td>-0.450134</td>\n",
              "      <td>-0.677094</td>\n",
              "      <td>-0.287946</td>\n",
              "    </tr>\n",
              "  </tbody>\n",
              "</table>\n",
              "</div>"
            ],
            "text/plain": [
              "          A         B         C         D\n",
              "0 -0.474911 -1.547192  1.066935 -0.378024\n",
              "1 -0.028773  0.362557 -1.377325  0.683523\n",
              "2  0.901526  1.354885 -1.096767  0.243265\n",
              "3 -0.300767 -0.214523  0.650104 -0.828354\n",
              "4  0.682654 -0.508920  0.067138  0.036289\n",
              "5 -1.038830 -0.450134 -0.677094 -0.287946"
            ]
          },
          "metadata": {
            "tags": []
          },
          "execution_count": 41
        }
      ]
    },
    {
      "cell_type": "markdown",
      "metadata": {
        "id": "NssotrEp1n1f"
      },
      "source": [
        "**Creating a DataFrame by passing a NumPy array, with a datetime index and labeled columns:**"
      ]
    },
    {
      "cell_type": "code",
      "metadata": {
        "id": "xKkwqbHH1ovX",
        "outputId": "cf4ba06d-73d2-4463-fd3c-637cfe24ef6a",
        "colab": {
          "base_uri": "https://localhost:8080/",
          "height": 235
        }
      },
      "source": [
        "df = pd.DataFrame(np.random.randn(6, 4), index=dates, columns=list('ABCD'))\n",
        "df"
      ],
      "execution_count": 42,
      "outputs": [
        {
          "output_type": "execute_result",
          "data": {
            "text/html": [
              "<div>\n",
              "<style scoped>\n",
              "    .dataframe tbody tr th:only-of-type {\n",
              "        vertical-align: middle;\n",
              "    }\n",
              "\n",
              "    .dataframe tbody tr th {\n",
              "        vertical-align: top;\n",
              "    }\n",
              "\n",
              "    .dataframe thead th {\n",
              "        text-align: right;\n",
              "    }\n",
              "</style>\n",
              "<table border=\"1\" class=\"dataframe\">\n",
              "  <thead>\n",
              "    <tr style=\"text-align: right;\">\n",
              "      <th></th>\n",
              "      <th>A</th>\n",
              "      <th>B</th>\n",
              "      <th>C</th>\n",
              "      <th>D</th>\n",
              "    </tr>\n",
              "  </thead>\n",
              "  <tbody>\n",
              "    <tr>\n",
              "      <th>2020-10-21</th>\n",
              "      <td>-0.506305</td>\n",
              "      <td>0.344065</td>\n",
              "      <td>-0.286158</td>\n",
              "      <td>-0.173198</td>\n",
              "    </tr>\n",
              "    <tr>\n",
              "      <th>2020-10-22</th>\n",
              "      <td>-0.182391</td>\n",
              "      <td>0.137928</td>\n",
              "      <td>1.344575</td>\n",
              "      <td>0.802988</td>\n",
              "    </tr>\n",
              "    <tr>\n",
              "      <th>2020-10-23</th>\n",
              "      <td>-1.425736</td>\n",
              "      <td>0.237331</td>\n",
              "      <td>0.970367</td>\n",
              "      <td>-0.893230</td>\n",
              "    </tr>\n",
              "    <tr>\n",
              "      <th>2020-10-24</th>\n",
              "      <td>1.577394</td>\n",
              "      <td>0.566895</td>\n",
              "      <td>-0.006576</td>\n",
              "      <td>-0.644733</td>\n",
              "    </tr>\n",
              "    <tr>\n",
              "      <th>2020-10-25</th>\n",
              "      <td>-1.883679</td>\n",
              "      <td>-1.344710</td>\n",
              "      <td>2.327107</td>\n",
              "      <td>1.437668</td>\n",
              "    </tr>\n",
              "    <tr>\n",
              "      <th>2020-10-26</th>\n",
              "      <td>0.202482</td>\n",
              "      <td>-0.624665</td>\n",
              "      <td>0.969812</td>\n",
              "      <td>-0.575532</td>\n",
              "    </tr>\n",
              "  </tbody>\n",
              "</table>\n",
              "</div>"
            ],
            "text/plain": [
              "                   A         B         C         D\n",
              "2020-10-21 -0.506305  0.344065 -0.286158 -0.173198\n",
              "2020-10-22 -0.182391  0.137928  1.344575  0.802988\n",
              "2020-10-23 -1.425736  0.237331  0.970367 -0.893230\n",
              "2020-10-24  1.577394  0.566895 -0.006576 -0.644733\n",
              "2020-10-25 -1.883679 -1.344710  2.327107  1.437668\n",
              "2020-10-26  0.202482 -0.624665  0.969812 -0.575532"
            ]
          },
          "metadata": {
            "tags": []
          },
          "execution_count": 42
        }
      ]
    },
    {
      "cell_type": "markdown",
      "metadata": {
        "id": "izJtnv1w1zR4"
      },
      "source": [
        "**Creating a DataFrame by passing a dict of objects that can be converted to series-like.**"
      ]
    },
    {
      "cell_type": "code",
      "metadata": {
        "id": "MStgLtde2VNX",
        "outputId": "1a076673-c6ab-4fa0-c409-e45a75c29f03",
        "colab": {
          "base_uri": "https://localhost:8080/",
          "height": 173
        }
      },
      "source": [
        "df2 = pd.DataFrame({'A': 1.,\n",
        "           'B': pd.Timestamp('20201021'),\n",
        "           'C': pd.Series(1, index=list(range(4)), dtype='float32'),\n",
        "           'D': np.array([3] * 4, dtype='int32'),\n",
        "           'E': pd.Categorical([\"test\", \"train\", \"test\", \"train\"]),\n",
        "           'F': 'foo'})\n",
        "df2"
      ],
      "execution_count": 43,
      "outputs": [
        {
          "output_type": "execute_result",
          "data": {
            "text/html": [
              "<div>\n",
              "<style scoped>\n",
              "    .dataframe tbody tr th:only-of-type {\n",
              "        vertical-align: middle;\n",
              "    }\n",
              "\n",
              "    .dataframe tbody tr th {\n",
              "        vertical-align: top;\n",
              "    }\n",
              "\n",
              "    .dataframe thead th {\n",
              "        text-align: right;\n",
              "    }\n",
              "</style>\n",
              "<table border=\"1\" class=\"dataframe\">\n",
              "  <thead>\n",
              "    <tr style=\"text-align: right;\">\n",
              "      <th></th>\n",
              "      <th>A</th>\n",
              "      <th>B</th>\n",
              "      <th>C</th>\n",
              "      <th>D</th>\n",
              "      <th>E</th>\n",
              "      <th>F</th>\n",
              "    </tr>\n",
              "  </thead>\n",
              "  <tbody>\n",
              "    <tr>\n",
              "      <th>0</th>\n",
              "      <td>1.0</td>\n",
              "      <td>2020-10-21</td>\n",
              "      <td>1.0</td>\n",
              "      <td>3</td>\n",
              "      <td>test</td>\n",
              "      <td>foo</td>\n",
              "    </tr>\n",
              "    <tr>\n",
              "      <th>1</th>\n",
              "      <td>1.0</td>\n",
              "      <td>2020-10-21</td>\n",
              "      <td>1.0</td>\n",
              "      <td>3</td>\n",
              "      <td>train</td>\n",
              "      <td>foo</td>\n",
              "    </tr>\n",
              "    <tr>\n",
              "      <th>2</th>\n",
              "      <td>1.0</td>\n",
              "      <td>2020-10-21</td>\n",
              "      <td>1.0</td>\n",
              "      <td>3</td>\n",
              "      <td>test</td>\n",
              "      <td>foo</td>\n",
              "    </tr>\n",
              "    <tr>\n",
              "      <th>3</th>\n",
              "      <td>1.0</td>\n",
              "      <td>2020-10-21</td>\n",
              "      <td>1.0</td>\n",
              "      <td>3</td>\n",
              "      <td>train</td>\n",
              "      <td>foo</td>\n",
              "    </tr>\n",
              "  </tbody>\n",
              "</table>\n",
              "</div>"
            ],
            "text/plain": [
              "     A          B    C  D      E    F\n",
              "0  1.0 2020-10-21  1.0  3   test  foo\n",
              "1  1.0 2020-10-21  1.0  3  train  foo\n",
              "2  1.0 2020-10-21  1.0  3   test  foo\n",
              "3  1.0 2020-10-21  1.0  3  train  foo"
            ]
          },
          "metadata": {
            "tags": []
          },
          "execution_count": 43
        }
      ]
    },
    {
      "cell_type": "markdown",
      "metadata": {
        "id": "oywDao0s3vH5"
      },
      "source": [
        "**錯誤更正**    **(解答為202001021多一個0)**"
      ]
    },
    {
      "cell_type": "code",
      "metadata": {
        "id": "ApQ8Zs3e3yQX"
      },
      "source": [
        "df2 = pd.DataFrame({'A': 1.,\n",
        "           'B': pd.Timestamp('202001021'),\n",
        "           'C': pd.Series(1, index=list(range(4)), dtype='float32'),\n",
        "           'D': np.array([3] * 4, dtype='int32'),\n",
        "           'E': pd.Categorical([\"test\", \"train\", \"test\", \"train\"]),\n",
        "           'F': 'foo'})\n",
        "df2"
      ],
      "execution_count": null,
      "outputs": []
    },
    {
      "cell_type": "markdown",
      "metadata": {
        "id": "vhKj86Yv4g5q"
      },
      "source": [
        "**The columns of the resulting DataFrame have different dtypes.**"
      ]
    },
    {
      "cell_type": "code",
      "metadata": {
        "id": "LEz7ScIB8P2_",
        "outputId": "871b2a7f-80dd-418b-93bc-616ab5993bdf",
        "colab": {
          "base_uri": "https://localhost:8080/",
          "height": 136
        }
      },
      "source": [
        "df2.dtypes\n"
      ],
      "execution_count": 44,
      "outputs": [
        {
          "output_type": "execute_result",
          "data": {
            "text/plain": [
              "A           float64\n",
              "B    datetime64[ns]\n",
              "C           float32\n",
              "D             int32\n",
              "E          category\n",
              "F            object\n",
              "dtype: object"
            ]
          },
          "metadata": {
            "tags": []
          },
          "execution_count": 44
        }
      ]
    },
    {
      "cell_type": "markdown",
      "metadata": {
        "id": "tNY2EYfO8YXT"
      },
      "source": [
        "**Here is how to view the top and bottom rows of the frame:df.head**"
      ]
    },
    {
      "cell_type": "code",
      "metadata": {
        "id": "r51LlVnF8Z2k",
        "outputId": "38b58be8-a72a-472d-d5cc-1a23e15ef789",
        "colab": {
          "base_uri": "https://localhost:8080/",
          "height": 204
        }
      },
      "source": [
        "df.head()"
      ],
      "execution_count": 45,
      "outputs": [
        {
          "output_type": "execute_result",
          "data": {
            "text/html": [
              "<div>\n",
              "<style scoped>\n",
              "    .dataframe tbody tr th:only-of-type {\n",
              "        vertical-align: middle;\n",
              "    }\n",
              "\n",
              "    .dataframe tbody tr th {\n",
              "        vertical-align: top;\n",
              "    }\n",
              "\n",
              "    .dataframe thead th {\n",
              "        text-align: right;\n",
              "    }\n",
              "</style>\n",
              "<table border=\"1\" class=\"dataframe\">\n",
              "  <thead>\n",
              "    <tr style=\"text-align: right;\">\n",
              "      <th></th>\n",
              "      <th>A</th>\n",
              "      <th>B</th>\n",
              "      <th>C</th>\n",
              "      <th>D</th>\n",
              "    </tr>\n",
              "  </thead>\n",
              "  <tbody>\n",
              "    <tr>\n",
              "      <th>2020-10-21</th>\n",
              "      <td>-0.506305</td>\n",
              "      <td>0.344065</td>\n",
              "      <td>-0.286158</td>\n",
              "      <td>-0.173198</td>\n",
              "    </tr>\n",
              "    <tr>\n",
              "      <th>2020-10-22</th>\n",
              "      <td>-0.182391</td>\n",
              "      <td>0.137928</td>\n",
              "      <td>1.344575</td>\n",
              "      <td>0.802988</td>\n",
              "    </tr>\n",
              "    <tr>\n",
              "      <th>2020-10-23</th>\n",
              "      <td>-1.425736</td>\n",
              "      <td>0.237331</td>\n",
              "      <td>0.970367</td>\n",
              "      <td>-0.893230</td>\n",
              "    </tr>\n",
              "    <tr>\n",
              "      <th>2020-10-24</th>\n",
              "      <td>1.577394</td>\n",
              "      <td>0.566895</td>\n",
              "      <td>-0.006576</td>\n",
              "      <td>-0.644733</td>\n",
              "    </tr>\n",
              "    <tr>\n",
              "      <th>2020-10-25</th>\n",
              "      <td>-1.883679</td>\n",
              "      <td>-1.344710</td>\n",
              "      <td>2.327107</td>\n",
              "      <td>1.437668</td>\n",
              "    </tr>\n",
              "  </tbody>\n",
              "</table>\n",
              "</div>"
            ],
            "text/plain": [
              "                   A         B         C         D\n",
              "2020-10-21 -0.506305  0.344065 -0.286158 -0.173198\n",
              "2020-10-22 -0.182391  0.137928  1.344575  0.802988\n",
              "2020-10-23 -1.425736  0.237331  0.970367 -0.893230\n",
              "2020-10-24  1.577394  0.566895 -0.006576 -0.644733\n",
              "2020-10-25 -1.883679 -1.344710  2.327107  1.437668"
            ]
          },
          "metadata": {
            "tags": []
          },
          "execution_count": 45
        }
      ]
    },
    {
      "cell_type": "markdown",
      "metadata": {
        "id": "PLxisstZ8uh_"
      },
      "source": [
        "**df.tail**"
      ]
    },
    {
      "cell_type": "code",
      "metadata": {
        "id": "K-crDi558yLn",
        "outputId": "3e9a0b71-d4c5-478b-a6b6-b6246e8f89c2",
        "colab": {
          "base_uri": "https://localhost:8080/",
          "height": 142
        }
      },
      "source": [
        "df.tail(3)"
      ],
      "execution_count": 46,
      "outputs": [
        {
          "output_type": "execute_result",
          "data": {
            "text/html": [
              "<div>\n",
              "<style scoped>\n",
              "    .dataframe tbody tr th:only-of-type {\n",
              "        vertical-align: middle;\n",
              "    }\n",
              "\n",
              "    .dataframe tbody tr th {\n",
              "        vertical-align: top;\n",
              "    }\n",
              "\n",
              "    .dataframe thead th {\n",
              "        text-align: right;\n",
              "    }\n",
              "</style>\n",
              "<table border=\"1\" class=\"dataframe\">\n",
              "  <thead>\n",
              "    <tr style=\"text-align: right;\">\n",
              "      <th></th>\n",
              "      <th>A</th>\n",
              "      <th>B</th>\n",
              "      <th>C</th>\n",
              "      <th>D</th>\n",
              "    </tr>\n",
              "  </thead>\n",
              "  <tbody>\n",
              "    <tr>\n",
              "      <th>2020-10-24</th>\n",
              "      <td>1.577394</td>\n",
              "      <td>0.566895</td>\n",
              "      <td>-0.006576</td>\n",
              "      <td>-0.644733</td>\n",
              "    </tr>\n",
              "    <tr>\n",
              "      <th>2020-10-25</th>\n",
              "      <td>-1.883679</td>\n",
              "      <td>-1.344710</td>\n",
              "      <td>2.327107</td>\n",
              "      <td>1.437668</td>\n",
              "    </tr>\n",
              "    <tr>\n",
              "      <th>2020-10-26</th>\n",
              "      <td>0.202482</td>\n",
              "      <td>-0.624665</td>\n",
              "      <td>0.969812</td>\n",
              "      <td>-0.575532</td>\n",
              "    </tr>\n",
              "  </tbody>\n",
              "</table>\n",
              "</div>"
            ],
            "text/plain": [
              "                   A         B         C         D\n",
              "2020-10-24  1.577394  0.566895 -0.006576 -0.644733\n",
              "2020-10-25 -1.883679 -1.344710  2.327107  1.437668\n",
              "2020-10-26  0.202482 -0.624665  0.969812 -0.575532"
            ]
          },
          "metadata": {
            "tags": []
          },
          "execution_count": 46
        }
      ]
    },
    {
      "cell_type": "markdown",
      "metadata": {
        "id": "IwWsUT57800S"
      },
      "source": [
        "**df.index**"
      ]
    },
    {
      "cell_type": "code",
      "metadata": {
        "id": "hl77Lc2-83k2",
        "outputId": "1ab864d7-07c3-40fe-b3ec-02985ffe54a9",
        "colab": {
          "base_uri": "https://localhost:8080/",
          "height": 68
        }
      },
      "source": [
        "df.index"
      ],
      "execution_count": 47,
      "outputs": [
        {
          "output_type": "execute_result",
          "data": {
            "text/plain": [
              "DatetimeIndex(['2020-10-21', '2020-10-22', '2020-10-23', '2020-10-24',\n",
              "               '2020-10-25', '2020-10-26'],\n",
              "              dtype='datetime64[ns]', freq='D')"
            ]
          },
          "metadata": {
            "tags": []
          },
          "execution_count": 47
        }
      ]
    },
    {
      "cell_type": "markdown",
      "metadata": {
        "id": "m1S_FCnM84jP"
      },
      "source": [
        "**df.columns**"
      ]
    },
    {
      "cell_type": "code",
      "metadata": {
        "id": "XmsNTx1d86xj",
        "outputId": "42c384ca-9a96-44b6-e663-60c0455b8eaa",
        "colab": {
          "base_uri": "https://localhost:8080/",
          "height": 34
        }
      },
      "source": [
        "df.columns"
      ],
      "execution_count": 48,
      "outputs": [
        {
          "output_type": "execute_result",
          "data": {
            "text/plain": [
              "Index(['A', 'B', 'C', 'D'], dtype='object')"
            ]
          },
          "metadata": {
            "tags": []
          },
          "execution_count": 48
        }
      ]
    },
    {
      "cell_type": "markdown",
      "metadata": {
        "id": "DSNdSWL888JH"
      },
      "source": [
        "**df.to_numpy()**"
      ]
    },
    {
      "cell_type": "code",
      "metadata": {
        "id": "BRDc-YMf8-rH",
        "outputId": "668a15ea-0ba7-4191-80b2-b43afc2db922",
        "colab": {
          "base_uri": "https://localhost:8080/",
          "height": 119
        }
      },
      "source": [
        "df.to_numpy()"
      ],
      "execution_count": 49,
      "outputs": [
        {
          "output_type": "execute_result",
          "data": {
            "text/plain": [
              "array([[-0.50630532,  0.3440651 , -0.28615794, -0.17319792],\n",
              "       [-0.18239102,  0.13792772,  1.34457487,  0.8029878 ],\n",
              "       [-1.42573603,  0.23733125,  0.97036713, -0.89322956],\n",
              "       [ 1.57739441,  0.56689528, -0.00657596, -0.64473343],\n",
              "       [-1.8836788 , -1.34471006,  2.32710669,  1.43766834],\n",
              "       [ 0.20248221, -0.62466472,  0.96981182, -0.57553245]])"
            ]
          },
          "metadata": {
            "tags": []
          },
          "execution_count": 49
        }
      ]
    },
    {
      "cell_type": "markdown",
      "metadata": {
        "id": "YYu4dM7R9ABG"
      },
      "source": [
        "**df2.to_numpy()**"
      ]
    },
    {
      "cell_type": "code",
      "metadata": {
        "id": "XPAyjALe9ChH",
        "outputId": "065aff76-1808-44a2-be90-b31860d0da8c",
        "colab": {
          "base_uri": "https://localhost:8080/",
          "height": 102
        }
      },
      "source": [
        "df2.to_numpy()"
      ],
      "execution_count": 50,
      "outputs": [
        {
          "output_type": "execute_result",
          "data": {
            "text/plain": [
              "array([[1.0, Timestamp('2020-10-21 00:00:00'), 1.0, 3, 'test', 'foo'],\n",
              "       [1.0, Timestamp('2020-10-21 00:00:00'), 1.0, 3, 'train', 'foo'],\n",
              "       [1.0, Timestamp('2020-10-21 00:00:00'), 1.0, 3, 'test', 'foo'],\n",
              "       [1.0, Timestamp('2020-10-21 00:00:00'), 1.0, 3, 'train', 'foo']],\n",
              "      dtype=object)"
            ]
          },
          "metadata": {
            "tags": []
          },
          "execution_count": 50
        }
      ]
    },
    {
      "cell_type": "markdown",
      "metadata": {
        "id": "0TEKmWQN9Dd3"
      },
      "source": [
        "**df.describe()**"
      ]
    },
    {
      "cell_type": "code",
      "metadata": {
        "id": "5tdVsWUU9GVP",
        "outputId": "eeccbb1f-6c40-4ded-ff08-12cea4b5998b",
        "colab": {
          "base_uri": "https://localhost:8080/",
          "height": 297
        }
      },
      "source": [
        "df.describe()"
      ],
      "execution_count": 51,
      "outputs": [
        {
          "output_type": "execute_result",
          "data": {
            "text/html": [
              "<div>\n",
              "<style scoped>\n",
              "    .dataframe tbody tr th:only-of-type {\n",
              "        vertical-align: middle;\n",
              "    }\n",
              "\n",
              "    .dataframe tbody tr th {\n",
              "        vertical-align: top;\n",
              "    }\n",
              "\n",
              "    .dataframe thead th {\n",
              "        text-align: right;\n",
              "    }\n",
              "</style>\n",
              "<table border=\"1\" class=\"dataframe\">\n",
              "  <thead>\n",
              "    <tr style=\"text-align: right;\">\n",
              "      <th></th>\n",
              "      <th>A</th>\n",
              "      <th>B</th>\n",
              "      <th>C</th>\n",
              "      <th>D</th>\n",
              "    </tr>\n",
              "  </thead>\n",
              "  <tbody>\n",
              "    <tr>\n",
              "      <th>count</th>\n",
              "      <td>6.000000</td>\n",
              "      <td>6.000000</td>\n",
              "      <td>6.000000</td>\n",
              "      <td>6.000000</td>\n",
              "    </tr>\n",
              "    <tr>\n",
              "      <th>mean</th>\n",
              "      <td>-0.369706</td>\n",
              "      <td>-0.113859</td>\n",
              "      <td>0.886521</td>\n",
              "      <td>-0.007673</td>\n",
              "    </tr>\n",
              "    <tr>\n",
              "      <th>std</th>\n",
              "      <td>1.231232</td>\n",
              "      <td>0.726054</td>\n",
              "      <td>0.945713</td>\n",
              "      <td>0.925862</td>\n",
              "    </tr>\n",
              "    <tr>\n",
              "      <th>min</th>\n",
              "      <td>-1.883679</td>\n",
              "      <td>-1.344710</td>\n",
              "      <td>-0.286158</td>\n",
              "      <td>-0.893230</td>\n",
              "    </tr>\n",
              "    <tr>\n",
              "      <th>25%</th>\n",
              "      <td>-1.195878</td>\n",
              "      <td>-0.434017</td>\n",
              "      <td>0.237521</td>\n",
              "      <td>-0.627433</td>\n",
              "    </tr>\n",
              "    <tr>\n",
              "      <th>50%</th>\n",
              "      <td>-0.344348</td>\n",
              "      <td>0.187629</td>\n",
              "      <td>0.970089</td>\n",
              "      <td>-0.374365</td>\n",
              "    </tr>\n",
              "    <tr>\n",
              "      <th>75%</th>\n",
              "      <td>0.106264</td>\n",
              "      <td>0.317382</td>\n",
              "      <td>1.251023</td>\n",
              "      <td>0.558941</td>\n",
              "    </tr>\n",
              "    <tr>\n",
              "      <th>max</th>\n",
              "      <td>1.577394</td>\n",
              "      <td>0.566895</td>\n",
              "      <td>2.327107</td>\n",
              "      <td>1.437668</td>\n",
              "    </tr>\n",
              "  </tbody>\n",
              "</table>\n",
              "</div>"
            ],
            "text/plain": [
              "              A         B         C         D\n",
              "count  6.000000  6.000000  6.000000  6.000000\n",
              "mean  -0.369706 -0.113859  0.886521 -0.007673\n",
              "std    1.231232  0.726054  0.945713  0.925862\n",
              "min   -1.883679 -1.344710 -0.286158 -0.893230\n",
              "25%   -1.195878 -0.434017  0.237521 -0.627433\n",
              "50%   -0.344348  0.187629  0.970089 -0.374365\n",
              "75%    0.106264  0.317382  1.251023  0.558941\n",
              "max    1.577394  0.566895  2.327107  1.437668"
            ]
          },
          "metadata": {
            "tags": []
          },
          "execution_count": 51
        }
      ]
    },
    {
      "cell_type": "markdown",
      "metadata": {
        "id": "BxwWVerC9Hvv"
      },
      "source": [
        "**df.T**"
      ]
    },
    {
      "cell_type": "code",
      "metadata": {
        "id": "2uaeWj3F9KfS",
        "outputId": "de674b04-c027-40a7-e9bf-de728958663b",
        "colab": {
          "base_uri": "https://localhost:8080/",
          "height": 173
        }
      },
      "source": [
        "df.T"
      ],
      "execution_count": 52,
      "outputs": [
        {
          "output_type": "execute_result",
          "data": {
            "text/html": [
              "<div>\n",
              "<style scoped>\n",
              "    .dataframe tbody tr th:only-of-type {\n",
              "        vertical-align: middle;\n",
              "    }\n",
              "\n",
              "    .dataframe tbody tr th {\n",
              "        vertical-align: top;\n",
              "    }\n",
              "\n",
              "    .dataframe thead th {\n",
              "        text-align: right;\n",
              "    }\n",
              "</style>\n",
              "<table border=\"1\" class=\"dataframe\">\n",
              "  <thead>\n",
              "    <tr style=\"text-align: right;\">\n",
              "      <th></th>\n",
              "      <th>2020-10-21</th>\n",
              "      <th>2020-10-22</th>\n",
              "      <th>2020-10-23</th>\n",
              "      <th>2020-10-24</th>\n",
              "      <th>2020-10-25</th>\n",
              "      <th>2020-10-26</th>\n",
              "    </tr>\n",
              "  </thead>\n",
              "  <tbody>\n",
              "    <tr>\n",
              "      <th>A</th>\n",
              "      <td>-0.506305</td>\n",
              "      <td>-0.182391</td>\n",
              "      <td>-1.425736</td>\n",
              "      <td>1.577394</td>\n",
              "      <td>-1.883679</td>\n",
              "      <td>0.202482</td>\n",
              "    </tr>\n",
              "    <tr>\n",
              "      <th>B</th>\n",
              "      <td>0.344065</td>\n",
              "      <td>0.137928</td>\n",
              "      <td>0.237331</td>\n",
              "      <td>0.566895</td>\n",
              "      <td>-1.344710</td>\n",
              "      <td>-0.624665</td>\n",
              "    </tr>\n",
              "    <tr>\n",
              "      <th>C</th>\n",
              "      <td>-0.286158</td>\n",
              "      <td>1.344575</td>\n",
              "      <td>0.970367</td>\n",
              "      <td>-0.006576</td>\n",
              "      <td>2.327107</td>\n",
              "      <td>0.969812</td>\n",
              "    </tr>\n",
              "    <tr>\n",
              "      <th>D</th>\n",
              "      <td>-0.173198</td>\n",
              "      <td>0.802988</td>\n",
              "      <td>-0.893230</td>\n",
              "      <td>-0.644733</td>\n",
              "      <td>1.437668</td>\n",
              "      <td>-0.575532</td>\n",
              "    </tr>\n",
              "  </tbody>\n",
              "</table>\n",
              "</div>"
            ],
            "text/plain": [
              "   2020-10-21  2020-10-22  2020-10-23  2020-10-24  2020-10-25  2020-10-26\n",
              "A   -0.506305   -0.182391   -1.425736    1.577394   -1.883679    0.202482\n",
              "B    0.344065    0.137928    0.237331    0.566895   -1.344710   -0.624665\n",
              "C   -0.286158    1.344575    0.970367   -0.006576    2.327107    0.969812\n",
              "D   -0.173198    0.802988   -0.893230   -0.644733    1.437668   -0.575532"
            ]
          },
          "metadata": {
            "tags": []
          },
          "execution_count": 52
        }
      ]
    },
    {
      "cell_type": "markdown",
      "metadata": {
        "id": "ShDnfwEx9LW3"
      },
      "source": [
        "**df.sort_index(axis=1, ascending=False)**"
      ]
    },
    {
      "cell_type": "code",
      "metadata": {
        "id": "eVZ7RCN29N2o",
        "outputId": "add07417-d3b2-4362-a322-9ad4e6b06cd1",
        "colab": {
          "base_uri": "https://localhost:8080/",
          "height": 235
        }
      },
      "source": [
        "df.sort_index(axis=1, ascending=False)"
      ],
      "execution_count": 53,
      "outputs": [
        {
          "output_type": "execute_result",
          "data": {
            "text/html": [
              "<div>\n",
              "<style scoped>\n",
              "    .dataframe tbody tr th:only-of-type {\n",
              "        vertical-align: middle;\n",
              "    }\n",
              "\n",
              "    .dataframe tbody tr th {\n",
              "        vertical-align: top;\n",
              "    }\n",
              "\n",
              "    .dataframe thead th {\n",
              "        text-align: right;\n",
              "    }\n",
              "</style>\n",
              "<table border=\"1\" class=\"dataframe\">\n",
              "  <thead>\n",
              "    <tr style=\"text-align: right;\">\n",
              "      <th></th>\n",
              "      <th>D</th>\n",
              "      <th>C</th>\n",
              "      <th>B</th>\n",
              "      <th>A</th>\n",
              "    </tr>\n",
              "  </thead>\n",
              "  <tbody>\n",
              "    <tr>\n",
              "      <th>2020-10-21</th>\n",
              "      <td>-0.173198</td>\n",
              "      <td>-0.286158</td>\n",
              "      <td>0.344065</td>\n",
              "      <td>-0.506305</td>\n",
              "    </tr>\n",
              "    <tr>\n",
              "      <th>2020-10-22</th>\n",
              "      <td>0.802988</td>\n",
              "      <td>1.344575</td>\n",
              "      <td>0.137928</td>\n",
              "      <td>-0.182391</td>\n",
              "    </tr>\n",
              "    <tr>\n",
              "      <th>2020-10-23</th>\n",
              "      <td>-0.893230</td>\n",
              "      <td>0.970367</td>\n",
              "      <td>0.237331</td>\n",
              "      <td>-1.425736</td>\n",
              "    </tr>\n",
              "    <tr>\n",
              "      <th>2020-10-24</th>\n",
              "      <td>-0.644733</td>\n",
              "      <td>-0.006576</td>\n",
              "      <td>0.566895</td>\n",
              "      <td>1.577394</td>\n",
              "    </tr>\n",
              "    <tr>\n",
              "      <th>2020-10-25</th>\n",
              "      <td>1.437668</td>\n",
              "      <td>2.327107</td>\n",
              "      <td>-1.344710</td>\n",
              "      <td>-1.883679</td>\n",
              "    </tr>\n",
              "    <tr>\n",
              "      <th>2020-10-26</th>\n",
              "      <td>-0.575532</td>\n",
              "      <td>0.969812</td>\n",
              "      <td>-0.624665</td>\n",
              "      <td>0.202482</td>\n",
              "    </tr>\n",
              "  </tbody>\n",
              "</table>\n",
              "</div>"
            ],
            "text/plain": [
              "                   D         C         B         A\n",
              "2020-10-21 -0.173198 -0.286158  0.344065 -0.506305\n",
              "2020-10-22  0.802988  1.344575  0.137928 -0.182391\n",
              "2020-10-23 -0.893230  0.970367  0.237331 -1.425736\n",
              "2020-10-24 -0.644733 -0.006576  0.566895  1.577394\n",
              "2020-10-25  1.437668  2.327107 -1.344710 -1.883679\n",
              "2020-10-26 -0.575532  0.969812 -0.624665  0.202482"
            ]
          },
          "metadata": {
            "tags": []
          },
          "execution_count": 53
        }
      ]
    },
    {
      "cell_type": "markdown",
      "metadata": {
        "id": "UIx1Uoy49QO_"
      },
      "source": [
        "**df.sort_values(by='B')**"
      ]
    },
    {
      "cell_type": "code",
      "metadata": {
        "id": "67-SCcar9PZ_",
        "outputId": "0f08adc8-3d34-4b4f-eea8-b30ccb84255d",
        "colab": {
          "base_uri": "https://localhost:8080/",
          "height": 235
        }
      },
      "source": [
        "df.sort_values(by='B')"
      ],
      "execution_count": 54,
      "outputs": [
        {
          "output_type": "execute_result",
          "data": {
            "text/html": [
              "<div>\n",
              "<style scoped>\n",
              "    .dataframe tbody tr th:only-of-type {\n",
              "        vertical-align: middle;\n",
              "    }\n",
              "\n",
              "    .dataframe tbody tr th {\n",
              "        vertical-align: top;\n",
              "    }\n",
              "\n",
              "    .dataframe thead th {\n",
              "        text-align: right;\n",
              "    }\n",
              "</style>\n",
              "<table border=\"1\" class=\"dataframe\">\n",
              "  <thead>\n",
              "    <tr style=\"text-align: right;\">\n",
              "      <th></th>\n",
              "      <th>A</th>\n",
              "      <th>B</th>\n",
              "      <th>C</th>\n",
              "      <th>D</th>\n",
              "    </tr>\n",
              "  </thead>\n",
              "  <tbody>\n",
              "    <tr>\n",
              "      <th>2020-10-25</th>\n",
              "      <td>-1.883679</td>\n",
              "      <td>-1.344710</td>\n",
              "      <td>2.327107</td>\n",
              "      <td>1.437668</td>\n",
              "    </tr>\n",
              "    <tr>\n",
              "      <th>2020-10-26</th>\n",
              "      <td>0.202482</td>\n",
              "      <td>-0.624665</td>\n",
              "      <td>0.969812</td>\n",
              "      <td>-0.575532</td>\n",
              "    </tr>\n",
              "    <tr>\n",
              "      <th>2020-10-22</th>\n",
              "      <td>-0.182391</td>\n",
              "      <td>0.137928</td>\n",
              "      <td>1.344575</td>\n",
              "      <td>0.802988</td>\n",
              "    </tr>\n",
              "    <tr>\n",
              "      <th>2020-10-23</th>\n",
              "      <td>-1.425736</td>\n",
              "      <td>0.237331</td>\n",
              "      <td>0.970367</td>\n",
              "      <td>-0.893230</td>\n",
              "    </tr>\n",
              "    <tr>\n",
              "      <th>2020-10-21</th>\n",
              "      <td>-0.506305</td>\n",
              "      <td>0.344065</td>\n",
              "      <td>-0.286158</td>\n",
              "      <td>-0.173198</td>\n",
              "    </tr>\n",
              "    <tr>\n",
              "      <th>2020-10-24</th>\n",
              "      <td>1.577394</td>\n",
              "      <td>0.566895</td>\n",
              "      <td>-0.006576</td>\n",
              "      <td>-0.644733</td>\n",
              "    </tr>\n",
              "  </tbody>\n",
              "</table>\n",
              "</div>"
            ],
            "text/plain": [
              "                   A         B         C         D\n",
              "2020-10-25 -1.883679 -1.344710  2.327107  1.437668\n",
              "2020-10-26  0.202482 -0.624665  0.969812 -0.575532\n",
              "2020-10-22 -0.182391  0.137928  1.344575  0.802988\n",
              "2020-10-23 -1.425736  0.237331  0.970367 -0.893230\n",
              "2020-10-21 -0.506305  0.344065 -0.286158 -0.173198\n",
              "2020-10-24  1.577394  0.566895 -0.006576 -0.644733"
            ]
          },
          "metadata": {
            "tags": []
          },
          "execution_count": 54
        }
      ]
    },
    {
      "cell_type": "markdown",
      "metadata": {
        "id": "ucokfDAP9Ykn"
      },
      "source": [
        "**Getting**       (Selecting a single column, which yields a Series, equivalent to df.A)"
      ]
    },
    {
      "cell_type": "code",
      "metadata": {
        "id": "3KJUaGli9Zgi",
        "outputId": "aacd83dc-658d-4050-e424-a923c06adf0d",
        "colab": {
          "base_uri": "https://localhost:8080/",
          "height": 136
        }
      },
      "source": [
        "df['A']"
      ],
      "execution_count": 55,
      "outputs": [
        {
          "output_type": "execute_result",
          "data": {
            "text/plain": [
              "2020-10-21   -0.506305\n",
              "2020-10-22   -0.182391\n",
              "2020-10-23   -1.425736\n",
              "2020-10-24    1.577394\n",
              "2020-10-25   -1.883679\n",
              "2020-10-26    0.202482\n",
              "Freq: D, Name: A, dtype: float64"
            ]
          },
          "metadata": {
            "tags": []
          },
          "execution_count": 55
        }
      ]
    },
    {
      "cell_type": "markdown",
      "metadata": {
        "id": "XJ6fszX09lwv"
      },
      "source": [
        "**Selecting via [], which slices the rows.**"
      ]
    },
    {
      "cell_type": "code",
      "metadata": {
        "id": "Uel4hqTK9oQY",
        "outputId": "ac912b49-99f3-44f5-e73c-eb3770ada36d",
        "colab": {
          "base_uri": "https://localhost:8080/",
          "height": 142
        }
      },
      "source": [
        "df[0:3]"
      ],
      "execution_count": 56,
      "outputs": [
        {
          "output_type": "execute_result",
          "data": {
            "text/html": [
              "<div>\n",
              "<style scoped>\n",
              "    .dataframe tbody tr th:only-of-type {\n",
              "        vertical-align: middle;\n",
              "    }\n",
              "\n",
              "    .dataframe tbody tr th {\n",
              "        vertical-align: top;\n",
              "    }\n",
              "\n",
              "    .dataframe thead th {\n",
              "        text-align: right;\n",
              "    }\n",
              "</style>\n",
              "<table border=\"1\" class=\"dataframe\">\n",
              "  <thead>\n",
              "    <tr style=\"text-align: right;\">\n",
              "      <th></th>\n",
              "      <th>A</th>\n",
              "      <th>B</th>\n",
              "      <th>C</th>\n",
              "      <th>D</th>\n",
              "    </tr>\n",
              "  </thead>\n",
              "  <tbody>\n",
              "    <tr>\n",
              "      <th>2020-10-21</th>\n",
              "      <td>-0.506305</td>\n",
              "      <td>0.344065</td>\n",
              "      <td>-0.286158</td>\n",
              "      <td>-0.173198</td>\n",
              "    </tr>\n",
              "    <tr>\n",
              "      <th>2020-10-22</th>\n",
              "      <td>-0.182391</td>\n",
              "      <td>0.137928</td>\n",
              "      <td>1.344575</td>\n",
              "      <td>0.802988</td>\n",
              "    </tr>\n",
              "    <tr>\n",
              "      <th>2020-10-23</th>\n",
              "      <td>-1.425736</td>\n",
              "      <td>0.237331</td>\n",
              "      <td>0.970367</td>\n",
              "      <td>-0.893230</td>\n",
              "    </tr>\n",
              "  </tbody>\n",
              "</table>\n",
              "</div>"
            ],
            "text/plain": [
              "                   A         B         C         D\n",
              "2020-10-21 -0.506305  0.344065 -0.286158 -0.173198\n",
              "2020-10-22 -0.182391  0.137928  1.344575  0.802988\n",
              "2020-10-23 -1.425736  0.237331  0.970367 -0.893230"
            ]
          },
          "metadata": {
            "tags": []
          },
          "execution_count": 56
        }
      ]
    },
    {
      "cell_type": "markdown",
      "metadata": {
        "id": "I7Va8OuP9qRP"
      },
      "source": [
        "**df['20130102':'20130104']**"
      ]
    },
    {
      "cell_type": "code",
      "metadata": {
        "id": "blt_iwWo9zw_",
        "outputId": "98be970f-3b7a-4f5b-fa87-2cd497ee819a",
        "colab": {
          "base_uri": "https://localhost:8080/",
          "height": 142
        }
      },
      "source": [
        "df['20201021' : '20201023']"
      ],
      "execution_count": 58,
      "outputs": [
        {
          "output_type": "execute_result",
          "data": {
            "text/html": [
              "<div>\n",
              "<style scoped>\n",
              "    .dataframe tbody tr th:only-of-type {\n",
              "        vertical-align: middle;\n",
              "    }\n",
              "\n",
              "    .dataframe tbody tr th {\n",
              "        vertical-align: top;\n",
              "    }\n",
              "\n",
              "    .dataframe thead th {\n",
              "        text-align: right;\n",
              "    }\n",
              "</style>\n",
              "<table border=\"1\" class=\"dataframe\">\n",
              "  <thead>\n",
              "    <tr style=\"text-align: right;\">\n",
              "      <th></th>\n",
              "      <th>A</th>\n",
              "      <th>B</th>\n",
              "      <th>C</th>\n",
              "      <th>D</th>\n",
              "    </tr>\n",
              "  </thead>\n",
              "  <tbody>\n",
              "    <tr>\n",
              "      <th>2020-10-21</th>\n",
              "      <td>-0.506305</td>\n",
              "      <td>0.344065</td>\n",
              "      <td>-0.286158</td>\n",
              "      <td>-0.173198</td>\n",
              "    </tr>\n",
              "    <tr>\n",
              "      <th>2020-10-22</th>\n",
              "      <td>-0.182391</td>\n",
              "      <td>0.137928</td>\n",
              "      <td>1.344575</td>\n",
              "      <td>0.802988</td>\n",
              "    </tr>\n",
              "    <tr>\n",
              "      <th>2020-10-23</th>\n",
              "      <td>-1.425736</td>\n",
              "      <td>0.237331</td>\n",
              "      <td>0.970367</td>\n",
              "      <td>-0.893230</td>\n",
              "    </tr>\n",
              "  </tbody>\n",
              "</table>\n",
              "</div>"
            ],
            "text/plain": [
              "                   A         B         C         D\n",
              "2020-10-21 -0.506305  0.344065 -0.286158 -0.173198\n",
              "2020-10-22 -0.182391  0.137928  1.344575  0.802988\n",
              "2020-10-23 -1.425736  0.237331  0.970367 -0.893230"
            ]
          },
          "metadata": {
            "tags": []
          },
          "execution_count": 58
        }
      ]
    },
    {
      "cell_type": "markdown",
      "metadata": {
        "id": "nYipkHvy-8Cw"
      },
      "source": [
        "**Selection by label**(For getting a cross section using a label)"
      ]
    },
    {
      "cell_type": "code",
      "metadata": {
        "id": "dcuo8F9L_AMJ",
        "outputId": "62f4fc77-6bee-4006-e7be-8b72a5864f3c",
        "colab": {
          "base_uri": "https://localhost:8080/",
          "height": 102
        }
      },
      "source": [
        "df.loc[dates[0]]"
      ],
      "execution_count": 59,
      "outputs": [
        {
          "output_type": "execute_result",
          "data": {
            "text/plain": [
              "A   -0.506305\n",
              "B    0.344065\n",
              "C   -0.286158\n",
              "D   -0.173198\n",
              "Name: 2020-10-21 00:00:00, dtype: float64"
            ]
          },
          "metadata": {
            "tags": []
          },
          "execution_count": 59
        }
      ]
    },
    {
      "cell_type": "markdown",
      "metadata": {
        "id": "Jh6XsGNT_Ca3"
      },
      "source": [
        "**Selecting on a multi-axis by label**"
      ]
    },
    {
      "cell_type": "code",
      "metadata": {
        "id": "h52vTTqN_JAf",
        "outputId": "bda78edd-8cb3-4a44-c030-43bee1b1a7dd",
        "colab": {
          "base_uri": "https://localhost:8080/",
          "height": 235
        }
      },
      "source": [
        "df.loc[:, ['A', 'B']]"
      ],
      "execution_count": 60,
      "outputs": [
        {
          "output_type": "execute_result",
          "data": {
            "text/html": [
              "<div>\n",
              "<style scoped>\n",
              "    .dataframe tbody tr th:only-of-type {\n",
              "        vertical-align: middle;\n",
              "    }\n",
              "\n",
              "    .dataframe tbody tr th {\n",
              "        vertical-align: top;\n",
              "    }\n",
              "\n",
              "    .dataframe thead th {\n",
              "        text-align: right;\n",
              "    }\n",
              "</style>\n",
              "<table border=\"1\" class=\"dataframe\">\n",
              "  <thead>\n",
              "    <tr style=\"text-align: right;\">\n",
              "      <th></th>\n",
              "      <th>A</th>\n",
              "      <th>B</th>\n",
              "    </tr>\n",
              "  </thead>\n",
              "  <tbody>\n",
              "    <tr>\n",
              "      <th>2020-10-21</th>\n",
              "      <td>-0.506305</td>\n",
              "      <td>0.344065</td>\n",
              "    </tr>\n",
              "    <tr>\n",
              "      <th>2020-10-22</th>\n",
              "      <td>-0.182391</td>\n",
              "      <td>0.137928</td>\n",
              "    </tr>\n",
              "    <tr>\n",
              "      <th>2020-10-23</th>\n",
              "      <td>-1.425736</td>\n",
              "      <td>0.237331</td>\n",
              "    </tr>\n",
              "    <tr>\n",
              "      <th>2020-10-24</th>\n",
              "      <td>1.577394</td>\n",
              "      <td>0.566895</td>\n",
              "    </tr>\n",
              "    <tr>\n",
              "      <th>2020-10-25</th>\n",
              "      <td>-1.883679</td>\n",
              "      <td>-1.344710</td>\n",
              "    </tr>\n",
              "    <tr>\n",
              "      <th>2020-10-26</th>\n",
              "      <td>0.202482</td>\n",
              "      <td>-0.624665</td>\n",
              "    </tr>\n",
              "  </tbody>\n",
              "</table>\n",
              "</div>"
            ],
            "text/plain": [
              "                   A         B\n",
              "2020-10-21 -0.506305  0.344065\n",
              "2020-10-22 -0.182391  0.137928\n",
              "2020-10-23 -1.425736  0.237331\n",
              "2020-10-24  1.577394  0.566895\n",
              "2020-10-25 -1.883679 -1.344710\n",
              "2020-10-26  0.202482 -0.624665"
            ]
          },
          "metadata": {
            "tags": []
          },
          "execution_count": 60
        }
      ]
    },
    {
      "cell_type": "markdown",
      "metadata": {
        "id": "MkiSpw15_7dY"
      },
      "source": [
        "**Setting**(Setting a new column automatically aligns the data by the indexes.)"
      ]
    },
    {
      "cell_type": "code",
      "metadata": {
        "id": "4ltM1Ijr_8dw",
        "outputId": "6ea5a4e2-95ea-45ec-9b7a-999ecdb8cfc5",
        "colab": {
          "base_uri": "https://localhost:8080/",
          "height": 136
        }
      },
      "source": [
        "s1 = pd.Series([1, 2, 3, 4, 5, 6], index=pd.date_range('20201021', periods=6))\n",
        "s1\n"
      ],
      "execution_count": 65,
      "outputs": [
        {
          "output_type": "execute_result",
          "data": {
            "text/plain": [
              "2020-10-21    1\n",
              "2020-10-22    2\n",
              "2020-10-23    3\n",
              "2020-10-24    4\n",
              "2020-10-25    5\n",
              "2020-10-26    6\n",
              "Freq: D, dtype: int64"
            ]
          },
          "metadata": {
            "tags": []
          },
          "execution_count": 65
        }
      ]
    },
    {
      "cell_type": "code",
      "metadata": {
        "id": "KjPfPdhdATb3"
      },
      "source": [
        "df['F'] = s1"
      ],
      "execution_count": 68,
      "outputs": []
    },
    {
      "cell_type": "markdown",
      "metadata": {
        "id": "p_Y9b9tQAUcH"
      },
      "source": [
        "**Setting values by label**"
      ]
    },
    {
      "cell_type": "code",
      "metadata": {
        "id": "M2r2Zm5VAW8M"
      },
      "source": [
        "df.at[dates[0], 'A'] = 0"
      ],
      "execution_count": 70,
      "outputs": []
    },
    {
      "cell_type": "markdown",
      "metadata": {
        "id": "uGIaDEcwAax4"
      },
      "source": [
        "**Setting values by position**"
      ]
    },
    {
      "cell_type": "code",
      "metadata": {
        "id": "UZ6GtsKfAdnb"
      },
      "source": [
        "df.iat[0, 1] = 0"
      ],
      "execution_count": 71,
      "outputs": []
    },
    {
      "cell_type": "markdown",
      "metadata": {
        "id": "KPjhEVKQAMbb"
      },
      "source": [
        "**Setting by assigning with a NumPy array**"
      ]
    },
    {
      "cell_type": "code",
      "metadata": {
        "id": "WUDSKWliANe3"
      },
      "source": [
        "In [50]: df.loc[:, 'D'] = np.array([5] * len(df))"
      ],
      "execution_count": 72,
      "outputs": []
    },
    {
      "cell_type": "code",
      "metadata": {
        "id": "EHRIkOX6Ak9A",
        "outputId": "83144073-c590-45b6-e9e1-42cb24565347",
        "colab": {
          "base_uri": "https://localhost:8080/",
          "height": 235
        }
      },
      "source": [
        "df"
      ],
      "execution_count": 73,
      "outputs": [
        {
          "output_type": "execute_result",
          "data": {
            "text/html": [
              "<div>\n",
              "<style scoped>\n",
              "    .dataframe tbody tr th:only-of-type {\n",
              "        vertical-align: middle;\n",
              "    }\n",
              "\n",
              "    .dataframe tbody tr th {\n",
              "        vertical-align: top;\n",
              "    }\n",
              "\n",
              "    .dataframe thead th {\n",
              "        text-align: right;\n",
              "    }\n",
              "</style>\n",
              "<table border=\"1\" class=\"dataframe\">\n",
              "  <thead>\n",
              "    <tr style=\"text-align: right;\">\n",
              "      <th></th>\n",
              "      <th>A</th>\n",
              "      <th>B</th>\n",
              "      <th>C</th>\n",
              "      <th>D</th>\n",
              "      <th>F</th>\n",
              "    </tr>\n",
              "  </thead>\n",
              "  <tbody>\n",
              "    <tr>\n",
              "      <th>2020-10-21</th>\n",
              "      <td>0.000000</td>\n",
              "      <td>0.000000</td>\n",
              "      <td>-0.286158</td>\n",
              "      <td>5</td>\n",
              "      <td>1</td>\n",
              "    </tr>\n",
              "    <tr>\n",
              "      <th>2020-10-22</th>\n",
              "      <td>-0.182391</td>\n",
              "      <td>0.137928</td>\n",
              "      <td>1.344575</td>\n",
              "      <td>5</td>\n",
              "      <td>2</td>\n",
              "    </tr>\n",
              "    <tr>\n",
              "      <th>2020-10-23</th>\n",
              "      <td>-1.425736</td>\n",
              "      <td>0.237331</td>\n",
              "      <td>0.970367</td>\n",
              "      <td>5</td>\n",
              "      <td>3</td>\n",
              "    </tr>\n",
              "    <tr>\n",
              "      <th>2020-10-24</th>\n",
              "      <td>1.577394</td>\n",
              "      <td>0.566895</td>\n",
              "      <td>-0.006576</td>\n",
              "      <td>5</td>\n",
              "      <td>4</td>\n",
              "    </tr>\n",
              "    <tr>\n",
              "      <th>2020-10-25</th>\n",
              "      <td>-1.883679</td>\n",
              "      <td>-1.344710</td>\n",
              "      <td>2.327107</td>\n",
              "      <td>5</td>\n",
              "      <td>5</td>\n",
              "    </tr>\n",
              "    <tr>\n",
              "      <th>2020-10-26</th>\n",
              "      <td>0.202482</td>\n",
              "      <td>-0.624665</td>\n",
              "      <td>0.969812</td>\n",
              "      <td>5</td>\n",
              "      <td>6</td>\n",
              "    </tr>\n",
              "  </tbody>\n",
              "</table>\n",
              "</div>"
            ],
            "text/plain": [
              "                   A         B         C  D  F\n",
              "2020-10-21  0.000000  0.000000 -0.286158  5  1\n",
              "2020-10-22 -0.182391  0.137928  1.344575  5  2\n",
              "2020-10-23 -1.425736  0.237331  0.970367  5  3\n",
              "2020-10-24  1.577394  0.566895 -0.006576  5  4\n",
              "2020-10-25 -1.883679 -1.344710  2.327107  5  5\n",
              "2020-10-26  0.202482 -0.624665  0.969812  5  6"
            ]
          },
          "metadata": {
            "tags": []
          },
          "execution_count": 73
        }
      ]
    },
    {
      "cell_type": "markdown",
      "metadata": {
        "id": "POckdIc1Arjw"
      },
      "source": [
        "**A where operation with setting**"
      ]
    },
    {
      "cell_type": "code",
      "metadata": {
        "id": "8zAxIOlJAs5c",
        "outputId": "2931ec8f-2623-4f28-e7be-820034b51ac7",
        "colab": {
          "base_uri": "https://localhost:8080/",
          "height": 235
        }
      },
      "source": [
        " df2 = df.copy()\n",
        "\n",
        " df2[df2 > 0] = -df2\n",
        " \n",
        " df2"
      ],
      "execution_count": 75,
      "outputs": [
        {
          "output_type": "execute_result",
          "data": {
            "text/html": [
              "<div>\n",
              "<style scoped>\n",
              "    .dataframe tbody tr th:only-of-type {\n",
              "        vertical-align: middle;\n",
              "    }\n",
              "\n",
              "    .dataframe tbody tr th {\n",
              "        vertical-align: top;\n",
              "    }\n",
              "\n",
              "    .dataframe thead th {\n",
              "        text-align: right;\n",
              "    }\n",
              "</style>\n",
              "<table border=\"1\" class=\"dataframe\">\n",
              "  <thead>\n",
              "    <tr style=\"text-align: right;\">\n",
              "      <th></th>\n",
              "      <th>A</th>\n",
              "      <th>B</th>\n",
              "      <th>C</th>\n",
              "      <th>D</th>\n",
              "      <th>F</th>\n",
              "    </tr>\n",
              "  </thead>\n",
              "  <tbody>\n",
              "    <tr>\n",
              "      <th>2020-10-21</th>\n",
              "      <td>0.000000</td>\n",
              "      <td>0.000000</td>\n",
              "      <td>-0.286158</td>\n",
              "      <td>-5</td>\n",
              "      <td>-1</td>\n",
              "    </tr>\n",
              "    <tr>\n",
              "      <th>2020-10-22</th>\n",
              "      <td>-0.182391</td>\n",
              "      <td>-0.137928</td>\n",
              "      <td>-1.344575</td>\n",
              "      <td>-5</td>\n",
              "      <td>-2</td>\n",
              "    </tr>\n",
              "    <tr>\n",
              "      <th>2020-10-23</th>\n",
              "      <td>-1.425736</td>\n",
              "      <td>-0.237331</td>\n",
              "      <td>-0.970367</td>\n",
              "      <td>-5</td>\n",
              "      <td>-3</td>\n",
              "    </tr>\n",
              "    <tr>\n",
              "      <th>2020-10-24</th>\n",
              "      <td>-1.577394</td>\n",
              "      <td>-0.566895</td>\n",
              "      <td>-0.006576</td>\n",
              "      <td>-5</td>\n",
              "      <td>-4</td>\n",
              "    </tr>\n",
              "    <tr>\n",
              "      <th>2020-10-25</th>\n",
              "      <td>-1.883679</td>\n",
              "      <td>-1.344710</td>\n",
              "      <td>-2.327107</td>\n",
              "      <td>-5</td>\n",
              "      <td>-5</td>\n",
              "    </tr>\n",
              "    <tr>\n",
              "      <th>2020-10-26</th>\n",
              "      <td>-0.202482</td>\n",
              "      <td>-0.624665</td>\n",
              "      <td>-0.969812</td>\n",
              "      <td>-5</td>\n",
              "      <td>-6</td>\n",
              "    </tr>\n",
              "  </tbody>\n",
              "</table>\n",
              "</div>"
            ],
            "text/plain": [
              "                   A         B         C  D  F\n",
              "2020-10-21  0.000000  0.000000 -0.286158 -5 -1\n",
              "2020-10-22 -0.182391 -0.137928 -1.344575 -5 -2\n",
              "2020-10-23 -1.425736 -0.237331 -0.970367 -5 -3\n",
              "2020-10-24 -1.577394 -0.566895 -0.006576 -5 -4\n",
              "2020-10-25 -1.883679 -1.344710 -2.327107 -5 -5\n",
              "2020-10-26 -0.202482 -0.624665 -0.969812 -5 -6"
            ]
          },
          "metadata": {
            "tags": []
          },
          "execution_count": 75
        }
      ]
    },
    {
      "cell_type": "markdown",
      "metadata": {
        "id": "wDsNr48lBEiE"
      },
      "source": [
        "**Missing data**(pandas primarily uses the value np.nan to represent missing data. It is by default not included in computations. See the Missing Data section.)"
      ]
    },
    {
      "cell_type": "code",
      "metadata": {
        "id": "-VUrif9eBIL3",
        "outputId": "1968cb02-ab96-4465-85ef-f69722d9548a",
        "colab": {
          "base_uri": "https://localhost:8080/",
          "height": 173
        }
      },
      "source": [
        "df1 = df.reindex(index=dates[0:4], columns=list(df.columns) + ['E'])\n",
        "\n",
        "df1.loc[dates[0]:dates[1], 'E'] = 1\n",
        "\n",
        "df1"
      ],
      "execution_count": 76,
      "outputs": [
        {
          "output_type": "execute_result",
          "data": {
            "text/html": [
              "<div>\n",
              "<style scoped>\n",
              "    .dataframe tbody tr th:only-of-type {\n",
              "        vertical-align: middle;\n",
              "    }\n",
              "\n",
              "    .dataframe tbody tr th {\n",
              "        vertical-align: top;\n",
              "    }\n",
              "\n",
              "    .dataframe thead th {\n",
              "        text-align: right;\n",
              "    }\n",
              "</style>\n",
              "<table border=\"1\" class=\"dataframe\">\n",
              "  <thead>\n",
              "    <tr style=\"text-align: right;\">\n",
              "      <th></th>\n",
              "      <th>A</th>\n",
              "      <th>B</th>\n",
              "      <th>C</th>\n",
              "      <th>D</th>\n",
              "      <th>F</th>\n",
              "      <th>E</th>\n",
              "    </tr>\n",
              "  </thead>\n",
              "  <tbody>\n",
              "    <tr>\n",
              "      <th>2020-10-21</th>\n",
              "      <td>0.000000</td>\n",
              "      <td>0.000000</td>\n",
              "      <td>-0.286158</td>\n",
              "      <td>5</td>\n",
              "      <td>1</td>\n",
              "      <td>1.0</td>\n",
              "    </tr>\n",
              "    <tr>\n",
              "      <th>2020-10-22</th>\n",
              "      <td>-0.182391</td>\n",
              "      <td>0.137928</td>\n",
              "      <td>1.344575</td>\n",
              "      <td>5</td>\n",
              "      <td>2</td>\n",
              "      <td>1.0</td>\n",
              "    </tr>\n",
              "    <tr>\n",
              "      <th>2020-10-23</th>\n",
              "      <td>-1.425736</td>\n",
              "      <td>0.237331</td>\n",
              "      <td>0.970367</td>\n",
              "      <td>5</td>\n",
              "      <td>3</td>\n",
              "      <td>NaN</td>\n",
              "    </tr>\n",
              "    <tr>\n",
              "      <th>2020-10-24</th>\n",
              "      <td>1.577394</td>\n",
              "      <td>0.566895</td>\n",
              "      <td>-0.006576</td>\n",
              "      <td>5</td>\n",
              "      <td>4</td>\n",
              "      <td>NaN</td>\n",
              "    </tr>\n",
              "  </tbody>\n",
              "</table>\n",
              "</div>"
            ],
            "text/plain": [
              "                   A         B         C  D  F    E\n",
              "2020-10-21  0.000000  0.000000 -0.286158  5  1  1.0\n",
              "2020-10-22 -0.182391  0.137928  1.344575  5  2  1.0\n",
              "2020-10-23 -1.425736  0.237331  0.970367  5  3  NaN\n",
              "2020-10-24  1.577394  0.566895 -0.006576  5  4  NaN"
            ]
          },
          "metadata": {
            "tags": []
          },
          "execution_count": 76
        }
      ]
    },
    {
      "cell_type": "markdown",
      "metadata": {
        "id": "y0jrZMRdBPMn"
      },
      "source": [
        "**To drop any rows that have missing data.**"
      ]
    },
    {
      "cell_type": "code",
      "metadata": {
        "id": "TWYJYwhJBRmQ",
        "outputId": "912967ba-d2a8-46f1-c74e-5bf49141d68f",
        "colab": {
          "base_uri": "https://localhost:8080/",
          "height": 111
        }
      },
      "source": [
        "df1.dropna(how='any')"
      ],
      "execution_count": 77,
      "outputs": [
        {
          "output_type": "execute_result",
          "data": {
            "text/html": [
              "<div>\n",
              "<style scoped>\n",
              "    .dataframe tbody tr th:only-of-type {\n",
              "        vertical-align: middle;\n",
              "    }\n",
              "\n",
              "    .dataframe tbody tr th {\n",
              "        vertical-align: top;\n",
              "    }\n",
              "\n",
              "    .dataframe thead th {\n",
              "        text-align: right;\n",
              "    }\n",
              "</style>\n",
              "<table border=\"1\" class=\"dataframe\">\n",
              "  <thead>\n",
              "    <tr style=\"text-align: right;\">\n",
              "      <th></th>\n",
              "      <th>A</th>\n",
              "      <th>B</th>\n",
              "      <th>C</th>\n",
              "      <th>D</th>\n",
              "      <th>F</th>\n",
              "      <th>E</th>\n",
              "    </tr>\n",
              "  </thead>\n",
              "  <tbody>\n",
              "    <tr>\n",
              "      <th>2020-10-21</th>\n",
              "      <td>0.000000</td>\n",
              "      <td>0.000000</td>\n",
              "      <td>-0.286158</td>\n",
              "      <td>5</td>\n",
              "      <td>1</td>\n",
              "      <td>1.0</td>\n",
              "    </tr>\n",
              "    <tr>\n",
              "      <th>2020-10-22</th>\n",
              "      <td>-0.182391</td>\n",
              "      <td>0.137928</td>\n",
              "      <td>1.344575</td>\n",
              "      <td>5</td>\n",
              "      <td>2</td>\n",
              "      <td>1.0</td>\n",
              "    </tr>\n",
              "  </tbody>\n",
              "</table>\n",
              "</div>"
            ],
            "text/plain": [
              "                   A         B         C  D  F    E\n",
              "2020-10-21  0.000000  0.000000 -0.286158  5  1  1.0\n",
              "2020-10-22 -0.182391  0.137928  1.344575  5  2  1.0"
            ]
          },
          "metadata": {
            "tags": []
          },
          "execution_count": 77
        }
      ]
    },
    {
      "cell_type": "markdown",
      "metadata": {
        "id": "KM21YwjhBTS4"
      },
      "source": [
        "**Filling missing data**"
      ]
    },
    {
      "cell_type": "code",
      "metadata": {
        "id": "f8Fx6Od9BZKQ",
        "outputId": "2512a7eb-bc25-4ce2-edeb-bd6be5a7a0d4",
        "colab": {
          "base_uri": "https://localhost:8080/",
          "height": 173
        }
      },
      "source": [
        "df1.fillna(value=5)"
      ],
      "execution_count": 78,
      "outputs": [
        {
          "output_type": "execute_result",
          "data": {
            "text/html": [
              "<div>\n",
              "<style scoped>\n",
              "    .dataframe tbody tr th:only-of-type {\n",
              "        vertical-align: middle;\n",
              "    }\n",
              "\n",
              "    .dataframe tbody tr th {\n",
              "        vertical-align: top;\n",
              "    }\n",
              "\n",
              "    .dataframe thead th {\n",
              "        text-align: right;\n",
              "    }\n",
              "</style>\n",
              "<table border=\"1\" class=\"dataframe\">\n",
              "  <thead>\n",
              "    <tr style=\"text-align: right;\">\n",
              "      <th></th>\n",
              "      <th>A</th>\n",
              "      <th>B</th>\n",
              "      <th>C</th>\n",
              "      <th>D</th>\n",
              "      <th>F</th>\n",
              "      <th>E</th>\n",
              "    </tr>\n",
              "  </thead>\n",
              "  <tbody>\n",
              "    <tr>\n",
              "      <th>2020-10-21</th>\n",
              "      <td>0.000000</td>\n",
              "      <td>0.000000</td>\n",
              "      <td>-0.286158</td>\n",
              "      <td>5</td>\n",
              "      <td>1</td>\n",
              "      <td>1.0</td>\n",
              "    </tr>\n",
              "    <tr>\n",
              "      <th>2020-10-22</th>\n",
              "      <td>-0.182391</td>\n",
              "      <td>0.137928</td>\n",
              "      <td>1.344575</td>\n",
              "      <td>5</td>\n",
              "      <td>2</td>\n",
              "      <td>1.0</td>\n",
              "    </tr>\n",
              "    <tr>\n",
              "      <th>2020-10-23</th>\n",
              "      <td>-1.425736</td>\n",
              "      <td>0.237331</td>\n",
              "      <td>0.970367</td>\n",
              "      <td>5</td>\n",
              "      <td>3</td>\n",
              "      <td>5.0</td>\n",
              "    </tr>\n",
              "    <tr>\n",
              "      <th>2020-10-24</th>\n",
              "      <td>1.577394</td>\n",
              "      <td>0.566895</td>\n",
              "      <td>-0.006576</td>\n",
              "      <td>5</td>\n",
              "      <td>4</td>\n",
              "      <td>5.0</td>\n",
              "    </tr>\n",
              "  </tbody>\n",
              "</table>\n",
              "</div>"
            ],
            "text/plain": [
              "                   A         B         C  D  F    E\n",
              "2020-10-21  0.000000  0.000000 -0.286158  5  1  1.0\n",
              "2020-10-22 -0.182391  0.137928  1.344575  5  2  1.0\n",
              "2020-10-23 -1.425736  0.237331  0.970367  5  3  5.0\n",
              "2020-10-24  1.577394  0.566895 -0.006576  5  4  5.0"
            ]
          },
          "metadata": {
            "tags": []
          },
          "execution_count": 78
        }
      ]
    },
    {
      "cell_type": "markdown",
      "metadata": {
        "id": "1l2rsiv4BbPg"
      },
      "source": [
        "**To get the boolean mask where values are nan.**"
      ]
    },
    {
      "cell_type": "code",
      "metadata": {
        "id": "jqwMfQtvBdPP",
        "outputId": "f66be33d-9fcc-47f9-9f5c-91b7c7430486",
        "colab": {
          "base_uri": "https://localhost:8080/",
          "height": 173
        }
      },
      "source": [
        "pd.isna(df1)"
      ],
      "execution_count": 79,
      "outputs": [
        {
          "output_type": "execute_result",
          "data": {
            "text/html": [
              "<div>\n",
              "<style scoped>\n",
              "    .dataframe tbody tr th:only-of-type {\n",
              "        vertical-align: middle;\n",
              "    }\n",
              "\n",
              "    .dataframe tbody tr th {\n",
              "        vertical-align: top;\n",
              "    }\n",
              "\n",
              "    .dataframe thead th {\n",
              "        text-align: right;\n",
              "    }\n",
              "</style>\n",
              "<table border=\"1\" class=\"dataframe\">\n",
              "  <thead>\n",
              "    <tr style=\"text-align: right;\">\n",
              "      <th></th>\n",
              "      <th>A</th>\n",
              "      <th>B</th>\n",
              "      <th>C</th>\n",
              "      <th>D</th>\n",
              "      <th>F</th>\n",
              "      <th>E</th>\n",
              "    </tr>\n",
              "  </thead>\n",
              "  <tbody>\n",
              "    <tr>\n",
              "      <th>2020-10-21</th>\n",
              "      <td>False</td>\n",
              "      <td>False</td>\n",
              "      <td>False</td>\n",
              "      <td>False</td>\n",
              "      <td>False</td>\n",
              "      <td>False</td>\n",
              "    </tr>\n",
              "    <tr>\n",
              "      <th>2020-10-22</th>\n",
              "      <td>False</td>\n",
              "      <td>False</td>\n",
              "      <td>False</td>\n",
              "      <td>False</td>\n",
              "      <td>False</td>\n",
              "      <td>False</td>\n",
              "    </tr>\n",
              "    <tr>\n",
              "      <th>2020-10-23</th>\n",
              "      <td>False</td>\n",
              "      <td>False</td>\n",
              "      <td>False</td>\n",
              "      <td>False</td>\n",
              "      <td>False</td>\n",
              "      <td>True</td>\n",
              "    </tr>\n",
              "    <tr>\n",
              "      <th>2020-10-24</th>\n",
              "      <td>False</td>\n",
              "      <td>False</td>\n",
              "      <td>False</td>\n",
              "      <td>False</td>\n",
              "      <td>False</td>\n",
              "      <td>True</td>\n",
              "    </tr>\n",
              "  </tbody>\n",
              "</table>\n",
              "</div>"
            ],
            "text/plain": [
              "                A      B      C      D      F      E\n",
              "2020-10-21  False  False  False  False  False  False\n",
              "2020-10-22  False  False  False  False  False  False\n",
              "2020-10-23  False  False  False  False  False   True\n",
              "2020-10-24  False  False  False  False  False   True"
            ]
          },
          "metadata": {
            "tags": []
          },
          "execution_count": 79
        }
      ]
    }
  ]
}