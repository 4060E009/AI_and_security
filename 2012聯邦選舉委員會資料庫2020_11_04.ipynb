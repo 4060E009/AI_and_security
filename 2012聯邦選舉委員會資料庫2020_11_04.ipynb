{
  "nbformat": 4,
  "nbformat_minor": 0,
  "metadata": {
    "colab": {
      "name": "2012聯邦選舉委員會資料庫2020/11/04.ipynb",
      "provenance": [],
      "collapsed_sections": [],
      "authorship_tag": "ABX9TyOSajHnx6ztp7U+K1kKgULE",
      "include_colab_link": true
    },
    "kernelspec": {
      "name": "python3",
      "display_name": "Python 3"
    }
  },
  "cells": [
    {
      "cell_type": "markdown",
      "metadata": {
        "id": "view-in-github",
        "colab_type": "text"
      },
      "source": [
        "<a href=\"https://colab.research.google.com/github/4060E009/AI_and_security/blob/master/2012%E8%81%AF%E9%82%A6%E9%81%B8%E8%88%89%E5%A7%94%E5%93%A1%E6%9C%83%E8%B3%87%E6%96%99%E5%BA%AB2020_11_04.ipynb\" target=\"_parent\"><img src=\"https://colab.research.google.com/assets/colab-badge.svg\" alt=\"Open In Colab\"/></a>"
      ]
    },
    {
      "cell_type": "markdown",
      "metadata": {
        "id": "paD2JwJ0J0Ze"
      },
      "source": [
        "# ** 2012 Federal Election Commission Database**"
      ]
    },
    {
      "cell_type": "code",
      "metadata": {
        "id": "_LcSiTkgIOjM",
        "outputId": "390a1e22-1a25-4bd4-ba1a-61ebbfcc3ddc",
        "colab": {
          "base_uri": "https://localhost:8080/"
        }
      },
      "source": [
        "!wget https://raw.githubusercontent.com/wesm/pydata-book/2nd-edition/datasets/fec/P00000001-ALL.csv"
      ],
      "execution_count": 30,
      "outputs": [
        {
          "output_type": "stream",
          "text": [
            "--2020-11-04 02:44:10--  https://raw.githubusercontent.com/wesm/pydata-book/2nd-edition/datasets/fec/P00000001-ALL.csv\n",
            "Resolving raw.githubusercontent.com (raw.githubusercontent.com)... 151.101.0.133, 151.101.64.133, 151.101.128.133, ...\n",
            "Connecting to raw.githubusercontent.com (raw.githubusercontent.com)|151.101.0.133|:443... connected.\n",
            "HTTP request sent, awaiting response... 200 OK\n",
            "Length: 157871393 (151M) [text/plain]\n",
            "Saving to: ‘P00000001-ALL.csv’\n",
            "\n",
            "P00000001-ALL.csv   100%[===================>] 150.56M   112MB/s    in 1.3s    \n",
            "\n",
            "2020-11-04 02:44:11 (112 MB/s) - ‘P00000001-ALL.csv’ saved [157871393/157871393]\n",
            "\n"
          ],
          "name": "stdout"
        }
      ]
    },
    {
      "cell_type": "code",
      "metadata": {
        "id": "CPrOhjlAEq7p"
      },
      "source": [
        "import numpy as np\n",
        "import pandas as pd"
      ],
      "execution_count": 31,
      "outputs": []
    },
    {
      "cell_type": "code",
      "metadata": {
        "id": "AxZ-beLXExFU"
      },
      "source": [
        "pd.options.display.max_rows = 10"
      ],
      "execution_count": 32,
      "outputs": []
    },
    {
      "cell_type": "code",
      "metadata": {
        "id": "bGjm5iBCEzO7"
      },
      "source": [
        "fec = pd.read_csv('P00000001-ALL.csv',low_memory=False )"
      ],
      "execution_count": 33,
      "outputs": []
    },
    {
      "cell_type": "code",
      "metadata": {
        "id": "flMATFLOE6FK",
        "outputId": "f31b9c8e-ca5d-434a-e831-6a73ed862ebd",
        "colab": {
          "base_uri": "https://localhost:8080/"
        }
      },
      "source": [
        "fec.info()"
      ],
      "execution_count": 34,
      "outputs": [
        {
          "output_type": "stream",
          "text": [
            "<class 'pandas.core.frame.DataFrame'>\n",
            "RangeIndex: 1001731 entries, 0 to 1001730\n",
            "Data columns (total 16 columns):\n",
            " #   Column             Non-Null Count    Dtype  \n",
            "---  ------             --------------    -----  \n",
            " 0   cmte_id            1001731 non-null  object \n",
            " 1   cand_id            1001731 non-null  object \n",
            " 2   cand_nm            1001731 non-null  object \n",
            " 3   contbr_nm          1001731 non-null  object \n",
            " 4   contbr_city        1001712 non-null  object \n",
            " 5   contbr_st          1001727 non-null  object \n",
            " 6   contbr_zip         1001620 non-null  object \n",
            " 7   contbr_employer    988002 non-null   object \n",
            " 8   contbr_occupation  993301 non-null   object \n",
            " 9   contb_receipt_amt  1001731 non-null  float64\n",
            " 10  contb_receipt_dt   1001731 non-null  object \n",
            " 11  receipt_desc       14166 non-null    object \n",
            " 12  memo_cd            92482 non-null    object \n",
            " 13  memo_text          97770 non-null    object \n",
            " 14  form_tp            1001731 non-null  object \n",
            " 15  file_num           1001731 non-null  int64  \n",
            "dtypes: float64(1), int64(1), object(14)\n",
            "memory usage: 122.3+ MB\n"
          ],
          "name": "stdout"
        }
      ]
    },
    {
      "cell_type": "markdown",
      "metadata": {
        "id": "_TmP9PfGI_Tc"
      },
      "source": [
        "**拿出一份記錄來看是什麽樣子**"
      ]
    },
    {
      "cell_type": "code",
      "metadata": {
        "id": "10ZApPX5HWKN",
        "outputId": "ba4cbe82-6ff8-425f-e998-56c24ca4f7cb",
        "colab": {
          "base_uri": "https://localhost:8080/"
        }
      },
      "source": [
        "fec.iloc[123456]"
      ],
      "execution_count": 35,
      "outputs": [
        {
          "output_type": "execute_result",
          "data": {
            "text/plain": [
              "cmte_id             C00431445\n",
              "cand_id             P80003338\n",
              "cand_nm         Obama, Barack\n",
              "contbr_nm         ELLMAN, IRA\n",
              "contbr_city             TEMPE\n",
              "                    ...      \n",
              "receipt_desc              NaN\n",
              "memo_cd                   NaN\n",
              "memo_text                 NaN\n",
              "form_tp                 SA17A\n",
              "file_num               772372\n",
              "Name: 123456, Length: 16, dtype: object"
            ]
          },
          "metadata": {
            "tags": []
          },
          "execution_count": 35
        }
      ]
    },
    {
      "cell_type": "markdown",
      "metadata": {
        "id": "iRpGBUskJMCl"
      },
      "source": [
        "**使用unique得到所有候選人名單**"
      ]
    },
    {
      "cell_type": "code",
      "metadata": {
        "id": "BXGnmGyGIgyg",
        "outputId": "34f43341-7a06-40c3-862a-3ff83aec4bbe",
        "colab": {
          "base_uri": "https://localhost:8080/"
        }
      },
      "source": [
        "unique_cands = fec.cand_nm.unique()\n",
        "unique_cands"
      ],
      "execution_count": 36,
      "outputs": [
        {
          "output_type": "execute_result",
          "data": {
            "text/plain": [
              "array(['Bachmann, Michelle', 'Romney, Mitt', 'Obama, Barack',\n",
              "       \"Roemer, Charles E. 'Buddy' III\", 'Pawlenty, Timothy',\n",
              "       'Johnson, Gary Earl', 'Paul, Ron', 'Santorum, Rick',\n",
              "       'Cain, Herman', 'Gingrich, Newt', 'McCotter, Thaddeus G',\n",
              "       'Huntsman, Jon', 'Perry, Rick'], dtype=object)"
            ]
          },
          "metadata": {
            "tags": []
          },
          "execution_count": 36
        }
      ]
    },
    {
      "cell_type": "code",
      "metadata": {
        "id": "kBbjy2BDIh70",
        "outputId": "5a52a50f-4223-4cc2-b218-bd4423be72f1",
        "colab": {
          "base_uri": "https://localhost:8080/",
          "height": 35
        }
      },
      "source": [
        "unique_cands[2]"
      ],
      "execution_count": 37,
      "outputs": [
        {
          "output_type": "execute_result",
          "data": {
            "application/vnd.google.colaboratory.intrinsic+json": {
              "type": "string"
            },
            "text/plain": [
              "'Obama, Barack'"
            ]
          },
          "metadata": {
            "tags": []
          },
          "execution_count": 37
        }
      ]
    },
    {
      "cell_type": "markdown",
      "metadata": {
        "id": "LbuvdGkAJTx8"
      },
      "source": [
        "**一種標記政黨的方法是使用dict**"
      ]
    },
    {
      "cell_type": "code",
      "metadata": {
        "id": "qQaWB9foIkQz"
      },
      "source": [
        "parties = {'Bachmann, Michelle': 'Republican',\n",
        "           'Cain, Herman': 'Republican', \n",
        "           'Gingrich, Newt': 'Republican', \n",
        "           'Huntsman, Jon': 'Republican', \n",
        "           'Johnson, Gary Earl': 'Republican', \n",
        "           'McCotter, Thaddeus G': 'Republican', \n",
        "           'Obama, Barack': 'Democrat', \n",
        "           'Paul, Ron': 'Republican', \n",
        "           'Pawlenty, Timothy': 'Republican', \n",
        "           'Perry, Rick': 'Republican', \n",
        "           \"Roemer, Charles E. 'Buddy' III\": 'Republican', \n",
        "           'Romney, Mitt': 'Republican', \n",
        "           'Santorum, Rick': 'Republican'}"
      ],
      "execution_count": 38,
      "outputs": []
    },
    {
      "cell_type": "code",
      "metadata": {
        "id": "8yUp_2PeIoOj",
        "outputId": "34ca4de7-5be5-4eb6-83a5-cad026da97f1",
        "colab": {
          "base_uri": "https://localhost:8080/"
        }
      },
      "source": [
        "fec.cand_nm[123456:123461]"
      ],
      "execution_count": 39,
      "outputs": [
        {
          "output_type": "execute_result",
          "data": {
            "text/plain": [
              "123456    Obama, Barack\n",
              "123457    Obama, Barack\n",
              "123458    Obama, Barack\n",
              "123459    Obama, Barack\n",
              "123460    Obama, Barack\n",
              "Name: cand_nm, dtype: object"
            ]
          },
          "metadata": {
            "tags": []
          },
          "execution_count": 39
        }
      ]
    },
    {
      "cell_type": "markdown",
      "metadata": {
        "id": "FlNXBWGdJZ-D"
      },
      "source": [
        "**用map方法，把這個映射應用到Series對象上，我們可以用候選者名字得到一個政黨的數組**"
      ]
    },
    {
      "cell_type": "code",
      "metadata": {
        "id": "nP9XhJUeIqb0",
        "outputId": "887af1ff-e96b-439c-ec38-13e3f2bdedaf",
        "colab": {
          "base_uri": "https://localhost:8080/"
        }
      },
      "source": [
        "fec.cand_nm[123456:123461].map(parties)"
      ],
      "execution_count": 40,
      "outputs": [
        {
          "output_type": "execute_result",
          "data": {
            "text/plain": [
              "123456    Democrat\n",
              "123457    Democrat\n",
              "123458    Democrat\n",
              "123459    Democrat\n",
              "123460    Democrat\n",
              "Name: cand_nm, dtype: object"
            ]
          },
          "metadata": {
            "tags": []
          },
          "execution_count": 40
        }
      ]
    },
    {
      "cell_type": "code",
      "metadata": {
        "id": "O9i-Y3jLItSs"
      },
      "source": [
        "# Add it as a column\n",
        "fec['party'] = fec.cand_nm.map(parties)"
      ],
      "execution_count": 41,
      "outputs": []
    },
    {
      "cell_type": "code",
      "metadata": {
        "id": "XLoB_mnVIvgr",
        "outputId": "578e6928-4374-41ac-d3ac-fa202d725adc",
        "colab": {
          "base_uri": "https://localhost:8080/"
        }
      },
      "source": [
        "fec['party'].value_counts()"
      ],
      "execution_count": 42,
      "outputs": [
        {
          "output_type": "execute_result",
          "data": {
            "text/plain": [
              "Democrat      593746\n",
              "Republican    407985\n",
              "Name: party, dtype: int64"
            ]
          },
          "metadata": {
            "tags": []
          },
          "execution_count": 42
        }
      ]
    },
    {
      "cell_type": "markdown",
      "metadata": {
        "id": "s_uneI8BJhqs"
      },
      "source": [
        "**這個數據集中包含捐款和退款（退款表示把捐贈的錢退還給捐助者，用負數表示）**"
      ]
    },
    {
      "cell_type": "code",
      "metadata": {
        "id": "Ex7ryRmCIxgt",
        "outputId": "b3c66ac0-f8a1-449e-b58e-390dda7b9233",
        "colab": {
          "base_uri": "https://localhost:8080/"
        }
      },
      "source": [
        "(fec.contb_receipt_amt > 0).value_counts()"
      ],
      "execution_count": 43,
      "outputs": [
        {
          "output_type": "execute_result",
          "data": {
            "text/plain": [
              "True     991475\n",
              "False     10256\n",
              "Name: contb_receipt_amt, dtype: int64"
            ]
          },
          "metadata": {
            "tags": []
          },
          "execution_count": 43
        }
      ]
    },
    {
      "cell_type": "markdown",
      "metadata": {
        "id": "GRnikXRHJo4U"
      },
      "source": [
        "**為了簡化之後的分析過程，這里我們只取捐款的數據，不考慮退款的數據**"
      ]
    },
    {
      "cell_type": "code",
      "metadata": {
        "id": "eSLGxUmyIzZk"
      },
      "source": [
        "fec = fec[fec.contb_receipt_amt > 0]"
      ],
      "execution_count": 44,
      "outputs": []
    },
    {
      "cell_type": "markdown",
      "metadata": {
        "id": "JtszqfQ2Jugs"
      },
      "source": [
        "**因為Barack Obama和Mitt Romney是兩個最主要的候選者，所以這里我們單獨準備一個子集來包含二人的數據**"
      ]
    },
    {
      "cell_type": "code",
      "metadata": {
        "id": "lNZfJGBRI1tt"
      },
      "source": [
        "fec_mrbo = fec[fec.cand_nm.isin(['Obama, Barack', 'Romney, Mitt'])]"
      ],
      "execution_count": 45,
      "outputs": []
    },
    {
      "cell_type": "markdown",
      "metadata": {
        "id": "w6DfwbZ8JyKe"
      },
      "source": [
        "# **Donation Statistics by Occupation and Employer**"
      ]
    },
    {
      "cell_type": "markdown",
      "metadata": {
        "id": "9C6bK9A5KTjz"
      },
      "source": [
        "**按職業計算捐贈總額**"
      ]
    },
    {
      "cell_type": "code",
      "metadata": {
        "id": "tEsZtfF3KXib",
        "outputId": "a219f388-60f6-43ae-c8ea-6b539bfc7f82",
        "colab": {
          "base_uri": "https://localhost:8080/"
        }
      },
      "source": [
        "fec.contbr_occupation.value_counts()[:10]\n"
      ],
      "execution_count": 46,
      "outputs": [
        {
          "output_type": "execute_result",
          "data": {
            "text/plain": [
              "RETIRED                                   233990\n",
              "INFORMATION REQUESTED                      35107\n",
              "ATTORNEY                                   34286\n",
              "HOMEMAKER                                  29931\n",
              "PHYSICIAN                                  23432\n",
              "INFORMATION REQUESTED PER BEST EFFORTS     21138\n",
              "ENGINEER                                   14334\n",
              "TEACHER                                    13990\n",
              "CONSULTANT                                 13273\n",
              "PROFESSOR                                  12555\n",
              "Name: contbr_occupation, dtype: int64"
            ]
          },
          "metadata": {
            "tags": []
          },
          "execution_count": 46
        }
      ]
    },
    {
      "cell_type": "markdown",
      "metadata": {
        "id": "twEVoZ47KacL"
      },
      "source": [
        "**可以看到有些職業是同一種工作類型，指代的是同一個東西。下面用一小段代碼來清理一下，把一些職業映射為另一種；注意dict.get方法，它會無視沒有映射關系的職業**"
      ]
    },
    {
      "cell_type": "code",
      "metadata": {
        "id": "BkB1QLWHKhwU",
        "outputId": "75faf224-8fa6-4720-e737-7ac6be5b9933",
        "colab": {
          "base_uri": "https://localhost:8080/",
          "height": 131
        }
      },
      "source": [
        "    'INFORMATION REQUESTED PER BEST EFFORTS' : 'NOT PROVIDED', \n",
        "    'INFORMATION REQUESTED' : 'NOT PROVIDED', \n",
        "    'INFORMATION REQUESTED (BEST EFFORTS)' : 'NOT PROVIDED', \n",
        "    'C.E.O.': 'CEO' \n",
        "}\n",
        "\n",
        "# If no mapping provided, return x \n",
        "f = lambda x: occ_mapping.get(x, x) \n",
        "fec.contbr_occupation = fec.contbr_occupation.map(f)"
      ],
      "execution_count": 47,
      "outputs": [
        {
          "output_type": "error",
          "ename": "SyntaxError",
          "evalue": "ignored",
          "traceback": [
            "\u001b[0;36m  File \u001b[0;32m\"<ipython-input-47-37751aaebd6f>\"\u001b[0;36m, line \u001b[0;32m1\u001b[0m\n\u001b[0;31m    'INFORMATION REQUESTED PER BEST EFFORTS' : 'NOT PROVIDED',\u001b[0m\n\u001b[0m                                                             ^\u001b[0m\n\u001b[0;31mSyntaxError\u001b[0m\u001b[0;31m:\u001b[0m invalid syntax\n"
          ]
        }
      ]
    },
    {
      "cell_type": "markdown",
      "metadata": {
        "id": "-ocNnUqLK9Or"
      },
      "source": [
        "pandas會在遇到Chained assignment的情況時，跳出這個SettingWithCopyWarning。Chained assignment指的是data[data.bidder == 'parakeet2004']['bidderrate'] = 100這樣的情況，即把兩個索引操作連在一起。\n",
        "\n",
        "data[data.bidder == 'parakeet2004']\n",
        "\n",
        "['bidderrate'] = 100\n",
        "\n",
        "這兩個連續操作是分別獨立執行的，一個結束後，另一個才開始。第一個操作是一個訪問（access）方法，這個方法會返回一個新的DataFrame。而第二個方法是一個賦值（assignment）方法，這個方法是作用在新產生的DataFrame上，所以這里的100是賦給了新的DataFrame，原始的DataFrame並沒有被更改。所以為了防止這樣的情況出現，pandas會发出SettingWithCopyWarning，讓我們檢查一下有沒有出錯。\n",
        "\n",
        "那就檢查一下唄，下面輸出fec.contbr_occupation，发現映射關系被正常執行了，所以這里的warning我們可以忽略"
      ]
    },
    {
      "cell_type": "code",
      "metadata": {
        "id": "wLkp4ShbLBdj",
        "outputId": "2d90f770-21d1-4ea0-81f1-30f114bf7bbe",
        "colab": {
          "base_uri": "https://localhost:8080/"
        }
      },
      "source": [
        "fec.contbr_occupation"
      ],
      "execution_count": 48,
      "outputs": [
        {
          "output_type": "execute_result",
          "data": {
            "text/plain": [
              "0                                         RETIRED\n",
              "1                                         RETIRED\n",
              "2                           INFORMATION REQUESTED\n",
              "3                                         RETIRED\n",
              "4                                         RETIRED\n",
              "                            ...                  \n",
              "1001726    INFORMATION REQUESTED PER BEST EFFORTS\n",
              "1001727                            BUSINESS OWNER\n",
              "1001728    INFORMATION REQUESTED PER BEST EFFORTS\n",
              "1001729              LONGWALL MAINTENANCE FOREMAN\n",
              "1001730    INFORMATION REQUESTED PER BEST EFFORTS\n",
              "Name: contbr_occupation, Length: 991475, dtype: object"
            ]
          },
          "metadata": {
            "tags": []
          },
          "execution_count": 48
        }
      ]
    },
    {
      "cell_type": "markdown",
      "metadata": {
        "id": "L-PXeCTFLDwF"
      },
      "source": [
        "**同样的映射处理**"
      ]
    },
    {
      "cell_type": "code",
      "metadata": {
        "id": "yrNBoaaOLG-M"
      },
      "source": [
        "emp_mapping = { \n",
        "    'INFORMATION REQUESTED PER BEST EFFORTS' : 'NOT PROVIDED', \n",
        "    'INFORMATION REQUESTED' : 'NOT PROVIDED', \n",
        "    'SELF' : 'SELF-EMPLOYED', \n",
        "    'SELF EMPLOYED' : 'SELF-EMPLOYED', \n",
        "}\n",
        "\n",
        "# If no mapping provided, return x \n",
        "f = lambda x: emp_mapping.get(x, x) \n",
        "fec.contbr_employer = fec.contbr_employer.map(f)"
      ],
      "execution_count": 50,
      "outputs": []
    },
    {
      "cell_type": "code",
      "metadata": {
        "id": "5pcqq_oVLSut",
        "outputId": "8801fbec-e76d-4f95-da18-35f6852de797",
        "colab": {
          "base_uri": "https://localhost:8080/"
        }
      },
      "source": [
        "fec.contbr_employer"
      ],
      "execution_count": 51,
      "outputs": [
        {
          "output_type": "execute_result",
          "data": {
            "text/plain": [
              "0                               RETIRED\n",
              "1                               RETIRED\n",
              "2                          NOT PROVIDED\n",
              "3                                  NONE\n",
              "4                                  NONE\n",
              "                       ...             \n",
              "1001726                    NOT PROVIDED\n",
              "1001727    DUFFY EQUIPMENT COMPANY INC.\n",
              "1001728                    NOT PROVIDED\n",
              "1001729                        T.A.C.C.\n",
              "1001730                    NOT PROVIDED\n",
              "Name: contbr_employer, Length: 991475, dtype: object"
            ]
          },
          "metadata": {
            "tags": []
          },
          "execution_count": 51
        }
      ]
    },
    {
      "cell_type": "markdown",
      "metadata": {
        "id": "rdEyaSsDLZRf"
      },
      "source": [
        "**我們可以用pivot_table，按政黨和職業對數據進行聚合，然後過濾下得到捐贈額大於兩百萬美元以上的職業**"
      ]
    },
    {
      "cell_type": "code",
      "metadata": {
        "id": "svtKPzpxLaJk"
      },
      "source": [
        "by_occupation = fec.pivot_table('contb_receipt_amt', \n",
        "                                index='contbr_occupation',\n",
        "                                columns='party',\n",
        "                                aggfunc='sum')"
      ],
      "execution_count": 53,
      "outputs": []
    },
    {
      "cell_type": "code",
      "metadata": {
        "id": "rizGpiAaLeA8",
        "outputId": "32bd342c-d283-48bc-8d5a-f30874b4f71f",
        "colab": {
          "base_uri": "https://localhost:8080/",
          "height": 450
        }
      },
      "source": [
        "over_2mm = by_occupation[by_occupation.sum(1) > 2000000]\n",
        "over_2mm"
      ],
      "execution_count": 54,
      "outputs": [
        {
          "output_type": "execute_result",
          "data": {
            "text/html": [
              "<div>\n",
              "<style scoped>\n",
              "    .dataframe tbody tr th:only-of-type {\n",
              "        vertical-align: middle;\n",
              "    }\n",
              "\n",
              "    .dataframe tbody tr th {\n",
              "        vertical-align: top;\n",
              "    }\n",
              "\n",
              "    .dataframe thead th {\n",
              "        text-align: right;\n",
              "    }\n",
              "</style>\n",
              "<table border=\"1\" class=\"dataframe\">\n",
              "  <thead>\n",
              "    <tr style=\"text-align: right;\">\n",
              "      <th>party</th>\n",
              "      <th>Democrat</th>\n",
              "      <th>Republican</th>\n",
              "    </tr>\n",
              "    <tr>\n",
              "      <th>contbr_occupation</th>\n",
              "      <th></th>\n",
              "      <th></th>\n",
              "    </tr>\n",
              "  </thead>\n",
              "  <tbody>\n",
              "    <tr>\n",
              "      <th>ATTORNEY</th>\n",
              "      <td>11141982.97</td>\n",
              "      <td>7.477194e+06</td>\n",
              "    </tr>\n",
              "    <tr>\n",
              "      <th>C.E.O.</th>\n",
              "      <td>1690.00</td>\n",
              "      <td>2.592983e+06</td>\n",
              "    </tr>\n",
              "    <tr>\n",
              "      <th>CEO</th>\n",
              "      <td>2073284.79</td>\n",
              "      <td>1.618057e+06</td>\n",
              "    </tr>\n",
              "    <tr>\n",
              "      <th>CONSULTANT</th>\n",
              "      <td>2459912.71</td>\n",
              "      <td>2.544725e+06</td>\n",
              "    </tr>\n",
              "    <tr>\n",
              "      <th>ENGINEER</th>\n",
              "      <td>951525.55</td>\n",
              "      <td>1.818374e+06</td>\n",
              "    </tr>\n",
              "    <tr>\n",
              "      <th>...</th>\n",
              "      <td>...</td>\n",
              "      <td>...</td>\n",
              "    </tr>\n",
              "    <tr>\n",
              "      <th>PRESIDENT</th>\n",
              "      <td>1878509.95</td>\n",
              "      <td>4.720924e+06</td>\n",
              "    </tr>\n",
              "    <tr>\n",
              "      <th>PROFESSOR</th>\n",
              "      <td>2165071.08</td>\n",
              "      <td>2.967027e+05</td>\n",
              "    </tr>\n",
              "    <tr>\n",
              "      <th>REAL ESTATE</th>\n",
              "      <td>528902.09</td>\n",
              "      <td>1.625902e+06</td>\n",
              "    </tr>\n",
              "    <tr>\n",
              "      <th>RETIRED</th>\n",
              "      <td>25305116.38</td>\n",
              "      <td>2.356124e+07</td>\n",
              "    </tr>\n",
              "    <tr>\n",
              "      <th>SELF-EMPLOYED</th>\n",
              "      <td>672393.40</td>\n",
              "      <td>1.640253e+06</td>\n",
              "    </tr>\n",
              "  </tbody>\n",
              "</table>\n",
              "<p>19 rows × 2 columns</p>\n",
              "</div>"
            ],
            "text/plain": [
              "party                 Democrat    Republican\n",
              "contbr_occupation                           \n",
              "ATTORNEY           11141982.97  7.477194e+06\n",
              "C.E.O.                 1690.00  2.592983e+06\n",
              "CEO                 2073284.79  1.618057e+06\n",
              "CONSULTANT          2459912.71  2.544725e+06\n",
              "ENGINEER             951525.55  1.818374e+06\n",
              "...                        ...           ...\n",
              "PRESIDENT           1878509.95  4.720924e+06\n",
              "PROFESSOR           2165071.08  2.967027e+05\n",
              "REAL ESTATE          528902.09  1.625902e+06\n",
              "RETIRED            25305116.38  2.356124e+07\n",
              "SELF-EMPLOYED        672393.40  1.640253e+06\n",
              "\n",
              "[19 rows x 2 columns]"
            ]
          },
          "metadata": {
            "tags": []
          },
          "execution_count": 54
        }
      ]
    },
    {
      "cell_type": "markdown",
      "metadata": {
        "id": "zyF3UlZBLguk"
      },
      "source": [
        "**畫出柱狀圖，barh表示水平柱狀圖**"
      ]
    },
    {
      "cell_type": "code",
      "metadata": {
        "id": "9NSl36yuLgGU"
      },
      "source": [
        "import seaborn as sns\n",
        "%matplotlib inline"
      ],
      "execution_count": 55,
      "outputs": []
    },
    {
      "cell_type": "code",
      "metadata": {
        "id": "5skPa1RFLpqd",
        "outputId": "1feed47b-31af-44ac-bf09-bdba5f480051",
        "colab": {
          "base_uri": "https://localhost:8080/",
          "height": 513
        }
      },
      "source": [
        "over_2mm.plot(kind='barh', figsize=(10, 8))"
      ],
      "execution_count": 56,
      "outputs": [
        {
          "output_type": "execute_result",
          "data": {
            "text/plain": [
              "<matplotlib.axes._subplots.AxesSubplot at 0x7fa952f8acf8>"
            ]
          },
          "metadata": {
            "tags": []
          },
          "execution_count": 56
        },
        {
          "output_type": "display_data",
          "data": {
            "image/png": "[encoded data removed]",
            "text/plain": [
              "<Figure size 720x576 with 1 Axes>"
            ]
          },
          "metadata": {
            "tags": [],
            "needs_background": "light"
          }
        }
      ]
    },
    {
      "cell_type": "markdown",
      "metadata": {
        "id": "SoriM_TBLxj5"
      },
      "source": [
        "**我們可以能對那些捐款給Obama和Romney的頂級捐助者職業，或頂級捐助公司感興趣。想要得到這些信息的話，可以按候選者名字進行分組，然後使用top方法的一個變形**"
      ]
    },
    {
      "cell_type": "code",
      "metadata": {
        "id": "7JSkV_JALypk"
      },
      "source": [
        "def get_top_amounts(group, key, n=5):\n",
        "    totals = group.groupby(key)['contb_receipt_amt'].sum()\n",
        "    return totals.nlargest(n)"
      ],
      "execution_count": 57,
      "outputs": []
    },
    {
      "cell_type": "markdown",
      "metadata": {
        "id": "6L1Fp9jWL1ll"
      },
      "source": [
        "**按職業和雇主聚合**"
      ]
    },
    {
      "cell_type": "code",
      "metadata": {
        "id": "GBiHUZzAL6lk",
        "outputId": "3b1f5b34-403d-4454-ed71-c6ad3e485f6e",
        "colab": {
          "base_uri": "https://localhost:8080/"
        }
      },
      "source": [
        "grouped = fec_mrbo.groupby('cand_nm')\n",
        "grouped"
      ],
      "execution_count": 58,
      "outputs": [
        {
          "output_type": "execute_result",
          "data": {
            "text/plain": [
              "<pandas.core.groupby.generic.DataFrameGroupBy object at 0x7fa952e79e80>"
            ]
          },
          "metadata": {
            "tags": []
          },
          "execution_count": 58
        }
      ]
    },
    {
      "cell_type": "code",
      "metadata": {
        "id": "JmostgzXL_Sl",
        "outputId": "5446fc78-c11c-4b6b-88f9-2dbdfef96309",
        "colab": {
          "base_uri": "https://localhost:8080/"
        }
      },
      "source": [
        "grouped.apply(get_top_amounts, 'contbr_occupation', n=7)"
      ],
      "execution_count": 59,
      "outputs": [
        {
          "output_type": "execute_result",
          "data": {
            "text/plain": [
              "cand_nm        contbr_occupation    \n",
              "Obama, Barack  RETIRED                  25305116.38\n",
              "               ATTORNEY                 11141982.97\n",
              "               INFORMATION REQUESTED     4866973.96\n",
              "               HOMEMAKER                 4248875.80\n",
              "               PHYSICIAN                 3735124.94\n",
              "                                           ...     \n",
              "Romney, Mitt   HOMEMAKER                 8147446.22\n",
              "               ATTORNEY                  5364718.82\n",
              "               PRESIDENT                 2491244.89\n",
              "               EXECUTIVE                 2300947.03\n",
              "               C.E.O.                    1968386.11\n",
              "Name: contb_receipt_amt, Length: 14, dtype: float64"
            ]
          },
          "metadata": {
            "tags": []
          },
          "execution_count": 59
        }
      ]
    },
    {
      "cell_type": "code",
      "metadata": {
        "id": "CAAKZX-XMCsA",
        "outputId": "3ce2ed04-4077-4ee4-f578-1711fc28521a",
        "colab": {
          "base_uri": "https://localhost:8080/"
        }
      },
      "source": [
        "grouped.apply(get_top_amounts, 'contbr_employer', n=10)"
      ],
      "execution_count": 60,
      "outputs": [
        {
          "output_type": "execute_result",
          "data": {
            "text/plain": [
              "cand_nm        contbr_employer      \n",
              "Obama, Barack  RETIRED                  22694358.85\n",
              "               SELF-EMPLOYED            17080985.96\n",
              "               NOT EMPLOYED              8586308.70\n",
              "               INFORMATION REQUESTED     5053480.37\n",
              "               HOMEMAKER                 2605408.54\n",
              "                                           ...     \n",
              "Romney, Mitt   CREDIT SUISSE              281150.00\n",
              "               MORGAN STANLEY             267266.00\n",
              "               GOLDMAN SACH & CO.         238250.00\n",
              "               BARCLAYS CAPITAL           162750.00\n",
              "               H.I.G. CAPITAL             139500.00\n",
              "Name: contb_receipt_amt, Length: 20, dtype: float64"
            ]
          },
          "metadata": {
            "tags": []
          },
          "execution_count": 60
        }
      ]
    },
    {
      "cell_type": "markdown",
      "metadata": {
        "id": "WfhVL9uKMFJk"
      },
      "source": [
        "# **Bucketing Donation Amounts**"
      ]
    },
    {
      "cell_type": "markdown",
      "metadata": {
        "id": "36HTkVPIMX0F"
      },
      "source": [
        "**一個分析這種數據的有用方法是使用cut函數，把捐贈額去中心化，按捐贈額大小分為多個桶**"
      ]
    },
    {
      "cell_type": "code",
      "metadata": {
        "id": "XOuUeXEqMeeo"
      },
      "source": [
        "bins = np.array([0, 1, 10, 100, 1000, 10000,\n",
        "                 100000, 1000000, 10000000])"
      ],
      "execution_count": 61,
      "outputs": []
    },
    {
      "cell_type": "code",
      "metadata": {
        "id": "fv9CVHP0MhSM",
        "outputId": "7d95de2b-9f1f-4ca1-bfcd-284bd13300fe",
        "colab": {
          "base_uri": "https://localhost:8080/"
        }
      },
      "source": [
        "labels = pd.cut(fec_mrbo.contb_receipt_amt, bins)\n",
        "labels"
      ],
      "execution_count": 62,
      "outputs": [
        {
          "output_type": "execute_result",
          "data": {
            "text/plain": [
              "411         (10, 100]\n",
              "412       (100, 1000]\n",
              "413       (100, 1000]\n",
              "414         (10, 100]\n",
              "415         (10, 100]\n",
              "             ...     \n",
              "701381      (10, 100]\n",
              "701382    (100, 1000]\n",
              "701383        (1, 10]\n",
              "701384      (10, 100]\n",
              "701385    (100, 1000]\n",
              "Name: contb_receipt_amt, Length: 694282, dtype: category\n",
              "Categories (8, interval[int64]): [(0, 1] < (1, 10] < (10, 100] < (100, 1000] < (1000, 10000] <\n",
              "                                  (10000, 100000] < (100000, 1000000] < (1000000, 10000000]]"
            ]
          },
          "metadata": {
            "tags": []
          },
          "execution_count": 62
        }
      ]
    },
    {
      "cell_type": "markdown",
      "metadata": {
        "id": "-7FCsGKCMmeH"
      },
      "source": [
        "我們可以按二人的名字和箱標簽（bin **label）分組，得到按不同捐贈額的直方圖**"
      ]
    },
    {
      "cell_type": "code",
      "metadata": {
        "id": "s1CyEPNQMjaE",
        "outputId": "6af27a58-63bc-48d1-9d38-b837d6228765",
        "colab": {
          "base_uri": "https://localhost:8080/",
          "height": 328
        }
      },
      "source": [
        "grouped = fec_mrbo.groupby(['cand_nm', labels])\n",
        "grouped.size().unstack(0)"
      ],
      "execution_count": 63,
      "outputs": [
        {
          "output_type": "execute_result",
          "data": {
            "text/html": [
              "<div>\n",
              "<style scoped>\n",
              "    .dataframe tbody tr th:only-of-type {\n",
              "        vertical-align: middle;\n",
              "    }\n",
              "\n",
              "    .dataframe tbody tr th {\n",
              "        vertical-align: top;\n",
              "    }\n",
              "\n",
              "    .dataframe thead th {\n",
              "        text-align: right;\n",
              "    }\n",
              "</style>\n",
              "<table border=\"1\" class=\"dataframe\">\n",
              "  <thead>\n",
              "    <tr style=\"text-align: right;\">\n",
              "      <th>cand_nm</th>\n",
              "      <th>Obama, Barack</th>\n",
              "      <th>Romney, Mitt</th>\n",
              "    </tr>\n",
              "    <tr>\n",
              "      <th>contb_receipt_amt</th>\n",
              "      <th></th>\n",
              "      <th></th>\n",
              "    </tr>\n",
              "  </thead>\n",
              "  <tbody>\n",
              "    <tr>\n",
              "      <th>(0, 1]</th>\n",
              "      <td>493</td>\n",
              "      <td>77</td>\n",
              "    </tr>\n",
              "    <tr>\n",
              "      <th>(1, 10]</th>\n",
              "      <td>40070</td>\n",
              "      <td>3681</td>\n",
              "    </tr>\n",
              "    <tr>\n",
              "      <th>(10, 100]</th>\n",
              "      <td>372280</td>\n",
              "      <td>31853</td>\n",
              "    </tr>\n",
              "    <tr>\n",
              "      <th>(100, 1000]</th>\n",
              "      <td>153991</td>\n",
              "      <td>43357</td>\n",
              "    </tr>\n",
              "    <tr>\n",
              "      <th>(1000, 10000]</th>\n",
              "      <td>22284</td>\n",
              "      <td>26186</td>\n",
              "    </tr>\n",
              "    <tr>\n",
              "      <th>(10000, 100000]</th>\n",
              "      <td>2</td>\n",
              "      <td>1</td>\n",
              "    </tr>\n",
              "    <tr>\n",
              "      <th>(100000, 1000000]</th>\n",
              "      <td>3</td>\n",
              "      <td>0</td>\n",
              "    </tr>\n",
              "    <tr>\n",
              "      <th>(1000000, 10000000]</th>\n",
              "      <td>4</td>\n",
              "      <td>0</td>\n",
              "    </tr>\n",
              "  </tbody>\n",
              "</table>\n",
              "</div>"
            ],
            "text/plain": [
              "cand_nm              Obama, Barack  Romney, Mitt\n",
              "contb_receipt_amt                               \n",
              "(0, 1]                         493            77\n",
              "(1, 10]                      40070          3681\n",
              "(10, 100]                   372280         31853\n",
              "(100, 1000]                 153991         43357\n",
              "(1000, 10000]                22284         26186\n",
              "(10000, 100000]                  2             1\n",
              "(100000, 1000000]                3             0\n",
              "(1000000, 10000000]              4             0"
            ]
          },
          "metadata": {
            "tags": []
          },
          "execution_count": 63
        }
      ]
    },
    {
      "cell_type": "markdown",
      "metadata": {
        "id": "HnK0Xr3JMwV9"
      },
      "source": [
        "**這份數據說明Obama收到的小額捐助是遠超Romney的。我們也可以對每一個箱進行歸一化，然後得到百分比數據**"
      ]
    },
    {
      "cell_type": "code",
      "metadata": {
        "id": "yx3vILULMxA1",
        "outputId": "b77f89d7-1371-4207-9b30-5ba589509154",
        "colab": {
          "base_uri": "https://localhost:8080/",
          "height": 328
        }
      },
      "source": [
        "bucket_sums = grouped.contb_receipt_amt.sum().unstack(0)\n",
        "bucket_sums"
      ],
      "execution_count": 64,
      "outputs": [
        {
          "output_type": "execute_result",
          "data": {
            "text/html": [
              "<div>\n",
              "<style scoped>\n",
              "    .dataframe tbody tr th:only-of-type {\n",
              "        vertical-align: middle;\n",
              "    }\n",
              "\n",
              "    .dataframe tbody tr th {\n",
              "        vertical-align: top;\n",
              "    }\n",
              "\n",
              "    .dataframe thead th {\n",
              "        text-align: right;\n",
              "    }\n",
              "</style>\n",
              "<table border=\"1\" class=\"dataframe\">\n",
              "  <thead>\n",
              "    <tr style=\"text-align: right;\">\n",
              "      <th>cand_nm</th>\n",
              "      <th>Obama, Barack</th>\n",
              "      <th>Romney, Mitt</th>\n",
              "    </tr>\n",
              "    <tr>\n",
              "      <th>contb_receipt_amt</th>\n",
              "      <th></th>\n",
              "      <th></th>\n",
              "    </tr>\n",
              "  </thead>\n",
              "  <tbody>\n",
              "    <tr>\n",
              "      <th>(0, 1]</th>\n",
              "      <td>318.24</td>\n",
              "      <td>77.00</td>\n",
              "    </tr>\n",
              "    <tr>\n",
              "      <th>(1, 10]</th>\n",
              "      <td>337267.62</td>\n",
              "      <td>29819.66</td>\n",
              "    </tr>\n",
              "    <tr>\n",
              "      <th>(10, 100]</th>\n",
              "      <td>20288981.41</td>\n",
              "      <td>1987783.76</td>\n",
              "    </tr>\n",
              "    <tr>\n",
              "      <th>(100, 1000]</th>\n",
              "      <td>54798531.46</td>\n",
              "      <td>22363381.69</td>\n",
              "    </tr>\n",
              "    <tr>\n",
              "      <th>(1000, 10000]</th>\n",
              "      <td>51753705.67</td>\n",
              "      <td>63942145.42</td>\n",
              "    </tr>\n",
              "    <tr>\n",
              "      <th>(10000, 100000]</th>\n",
              "      <td>59100.00</td>\n",
              "      <td>12700.00</td>\n",
              "    </tr>\n",
              "    <tr>\n",
              "      <th>(100000, 1000000]</th>\n",
              "      <td>1490683.08</td>\n",
              "      <td>NaN</td>\n",
              "    </tr>\n",
              "    <tr>\n",
              "      <th>(1000000, 10000000]</th>\n",
              "      <td>7148839.76</td>\n",
              "      <td>NaN</td>\n",
              "    </tr>\n",
              "  </tbody>\n",
              "</table>\n",
              "</div>"
            ],
            "text/plain": [
              "cand_nm              Obama, Barack  Romney, Mitt\n",
              "contb_receipt_amt                               \n",
              "(0, 1]                      318.24         77.00\n",
              "(1, 10]                  337267.62      29819.66\n",
              "(10, 100]              20288981.41    1987783.76\n",
              "(100, 1000]            54798531.46   22363381.69\n",
              "(1000, 10000]          51753705.67   63942145.42\n",
              "(10000, 100000]           59100.00      12700.00\n",
              "(100000, 1000000]       1490683.08           NaN\n",
              "(1000000, 10000000]     7148839.76           NaN"
            ]
          },
          "metadata": {
            "tags": []
          },
          "execution_count": 64
        }
      ]
    },
    {
      "cell_type": "code",
      "metadata": {
        "id": "d8nKSx7CM7EN",
        "outputId": "7363bd66-bc0c-40e9-be1e-b4bd79cbf787",
        "colab": {
          "base_uri": "https://localhost:8080/",
          "height": 328
        }
      },
      "source": [
        "normed_sums = bucket_sums.div(bucket_sums.sum(axis=1), axis=0)\n",
        "normed_sums"
      ],
      "execution_count": 65,
      "outputs": [
        {
          "output_type": "execute_result",
          "data": {
            "text/html": [
              "<div>\n",
              "<style scoped>\n",
              "    .dataframe tbody tr th:only-of-type {\n",
              "        vertical-align: middle;\n",
              "    }\n",
              "\n",
              "    .dataframe tbody tr th {\n",
              "        vertical-align: top;\n",
              "    }\n",
              "\n",
              "    .dataframe thead th {\n",
              "        text-align: right;\n",
              "    }\n",
              "</style>\n",
              "<table border=\"1\" class=\"dataframe\">\n",
              "  <thead>\n",
              "    <tr style=\"text-align: right;\">\n",
              "      <th>cand_nm</th>\n",
              "      <th>Obama, Barack</th>\n",
              "      <th>Romney, Mitt</th>\n",
              "    </tr>\n",
              "    <tr>\n",
              "      <th>contb_receipt_amt</th>\n",
              "      <th></th>\n",
              "      <th></th>\n",
              "    </tr>\n",
              "  </thead>\n",
              "  <tbody>\n",
              "    <tr>\n",
              "      <th>(0, 1]</th>\n",
              "      <td>0.805182</td>\n",
              "      <td>0.194818</td>\n",
              "    </tr>\n",
              "    <tr>\n",
              "      <th>(1, 10]</th>\n",
              "      <td>0.918767</td>\n",
              "      <td>0.081233</td>\n",
              "    </tr>\n",
              "    <tr>\n",
              "      <th>(10, 100]</th>\n",
              "      <td>0.910769</td>\n",
              "      <td>0.089231</td>\n",
              "    </tr>\n",
              "    <tr>\n",
              "      <th>(100, 1000]</th>\n",
              "      <td>0.710176</td>\n",
              "      <td>0.289824</td>\n",
              "    </tr>\n",
              "    <tr>\n",
              "      <th>(1000, 10000]</th>\n",
              "      <td>0.447326</td>\n",
              "      <td>0.552674</td>\n",
              "    </tr>\n",
              "    <tr>\n",
              "      <th>(10000, 100000]</th>\n",
              "      <td>0.823120</td>\n",
              "      <td>0.176880</td>\n",
              "    </tr>\n",
              "    <tr>\n",
              "      <th>(100000, 1000000]</th>\n",
              "      <td>1.000000</td>\n",
              "      <td>NaN</td>\n",
              "    </tr>\n",
              "    <tr>\n",
              "      <th>(1000000, 10000000]</th>\n",
              "      <td>1.000000</td>\n",
              "      <td>NaN</td>\n",
              "    </tr>\n",
              "  </tbody>\n",
              "</table>\n",
              "</div>"
            ],
            "text/plain": [
              "cand_nm              Obama, Barack  Romney, Mitt\n",
              "contb_receipt_amt                               \n",
              "(0, 1]                    0.805182      0.194818\n",
              "(1, 10]                   0.918767      0.081233\n",
              "(10, 100]                 0.910769      0.089231\n",
              "(100, 1000]               0.710176      0.289824\n",
              "(1000, 10000]             0.447326      0.552674\n",
              "(10000, 100000]           0.823120      0.176880\n",
              "(100000, 1000000]         1.000000           NaN\n",
              "(1000000, 10000000]       1.000000           NaN"
            ]
          },
          "metadata": {
            "tags": []
          },
          "execution_count": 65
        }
      ]
    },
    {
      "cell_type": "code",
      "metadata": {
        "id": "d15R330bNG90",
        "outputId": "0159b711-6e5c-4757-b00e-7ec8e7458bb2",
        "colab": {
          "base_uri": "https://localhost:8080/",
          "height": 500
        }
      },
      "source": [
        "normed_sums[:-2].plot(kind='barh', figsize=(10, 8))"
      ],
      "execution_count": 66,
      "outputs": [
        {
          "output_type": "execute_result",
          "data": {
            "text/plain": [
              "<matplotlib.axes._subplots.AxesSubplot at 0x7fa952e827f0>"
            ]
          },
          "metadata": {
            "tags": []
          },
          "execution_count": 66
        },
        {
          "output_type": "display_data",
          "data": {
            "image/png": "[encoded data removed]",
            "text/plain": [
              "<Figure size 720x576 with 1 Axes>"
            ]
          },
          "metadata": {
            "tags": [],
            "needs_background": "light"
          }
        }
      ]
    },
    {
      "cell_type": "markdown",
      "metadata": {
        "id": "7_gXkPGWNCiV"
      },
      "source": [
        "# **Donation Statistics by State**"
      ]
    },
    {
      "cell_type": "markdown",
      "metadata": {
        "id": "8_jc-m_sNcQV"
      },
      "source": [
        "**按州劃分也是一個比較常見的方法**"
      ]
    },
    {
      "cell_type": "code",
      "metadata": {
        "id": "GAcdfhOWNnBd"
      },
      "source": [
        "grouped = fec_mrbo.groupby(['cand_nm', 'contbr_st'])"
      ],
      "execution_count": 67,
      "outputs": []
    },
    {
      "cell_type": "code",
      "metadata": {
        "id": "qVQhqC-pNo8F",
        "outputId": "7a009960-91cd-46cb-ff6a-2ce164b08bbc",
        "colab": {
          "base_uri": "https://localhost:8080/",
          "height": 450
        }
      },
      "source": [
        "totals = grouped.contb_receipt_amt.sum().unstack(0).fillna(0)\n",
        "totals"
      ],
      "execution_count": 68,
      "outputs": [
        {
          "output_type": "execute_result",
          "data": {
            "text/html": [
              "<div>\n",
              "<style scoped>\n",
              "    .dataframe tbody tr th:only-of-type {\n",
              "        vertical-align: middle;\n",
              "    }\n",
              "\n",
              "    .dataframe tbody tr th {\n",
              "        vertical-align: top;\n",
              "    }\n",
              "\n",
              "    .dataframe thead th {\n",
              "        text-align: right;\n",
              "    }\n",
              "</style>\n",
              "<table border=\"1\" class=\"dataframe\">\n",
              "  <thead>\n",
              "    <tr style=\"text-align: right;\">\n",
              "      <th>cand_nm</th>\n",
              "      <th>Obama, Barack</th>\n",
              "      <th>Romney, Mitt</th>\n",
              "    </tr>\n",
              "    <tr>\n",
              "      <th>contbr_st</th>\n",
              "      <th></th>\n",
              "      <th></th>\n",
              "    </tr>\n",
              "  </thead>\n",
              "  <tbody>\n",
              "    <tr>\n",
              "      <th>AA</th>\n",
              "      <td>56405.00</td>\n",
              "      <td>135.00</td>\n",
              "    </tr>\n",
              "    <tr>\n",
              "      <th>AB</th>\n",
              "      <td>2048.00</td>\n",
              "      <td>0.00</td>\n",
              "    </tr>\n",
              "    <tr>\n",
              "      <th>AE</th>\n",
              "      <td>42973.75</td>\n",
              "      <td>5680.00</td>\n",
              "    </tr>\n",
              "    <tr>\n",
              "      <th>AK</th>\n",
              "      <td>281840.15</td>\n",
              "      <td>86204.24</td>\n",
              "    </tr>\n",
              "    <tr>\n",
              "      <th>AL</th>\n",
              "      <td>543123.48</td>\n",
              "      <td>527303.51</td>\n",
              "    </tr>\n",
              "    <tr>\n",
              "      <th>...</th>\n",
              "      <td>...</td>\n",
              "      <td>...</td>\n",
              "    </tr>\n",
              "    <tr>\n",
              "      <th>WI</th>\n",
              "      <td>1130155.46</td>\n",
              "      <td>270316.32</td>\n",
              "    </tr>\n",
              "    <tr>\n",
              "      <th>WV</th>\n",
              "      <td>169154.47</td>\n",
              "      <td>126725.12</td>\n",
              "    </tr>\n",
              "    <tr>\n",
              "      <th>WY</th>\n",
              "      <td>194046.74</td>\n",
              "      <td>252595.84</td>\n",
              "    </tr>\n",
              "    <tr>\n",
              "      <th>XX</th>\n",
              "      <td>0.00</td>\n",
              "      <td>400250.00</td>\n",
              "    </tr>\n",
              "    <tr>\n",
              "      <th>ZZ</th>\n",
              "      <td>5963.00</td>\n",
              "      <td>0.00</td>\n",
              "    </tr>\n",
              "  </tbody>\n",
              "</table>\n",
              "<p>67 rows × 2 columns</p>\n",
              "</div>"
            ],
            "text/plain": [
              "cand_nm    Obama, Barack  Romney, Mitt\n",
              "contbr_st                             \n",
              "AA              56405.00        135.00\n",
              "AB               2048.00          0.00\n",
              "AE              42973.75       5680.00\n",
              "AK             281840.15      86204.24\n",
              "AL             543123.48     527303.51\n",
              "...                  ...           ...\n",
              "WI            1130155.46     270316.32\n",
              "WV             169154.47     126725.12\n",
              "WY             194046.74     252595.84\n",
              "XX                  0.00     400250.00\n",
              "ZZ               5963.00          0.00\n",
              "\n",
              "[67 rows x 2 columns]"
            ]
          },
          "metadata": {
            "tags": []
          },
          "execution_count": 68
        }
      ]
    },
    {
      "cell_type": "code",
      "metadata": {
        "id": "wzccGZwhNq3F",
        "outputId": "4cc1e908-e3f8-4cb0-b236-da6524bdecb4",
        "colab": {
          "base_uri": "https://localhost:8080/",
          "height": 450
        }
      },
      "source": [
        "totals = totals[totals.sum(1) > 100000]\n",
        "totals"
      ],
      "execution_count": 69,
      "outputs": [
        {
          "output_type": "execute_result",
          "data": {
            "text/html": [
              "<div>\n",
              "<style scoped>\n",
              "    .dataframe tbody tr th:only-of-type {\n",
              "        vertical-align: middle;\n",
              "    }\n",
              "\n",
              "    .dataframe tbody tr th {\n",
              "        vertical-align: top;\n",
              "    }\n",
              "\n",
              "    .dataframe thead th {\n",
              "        text-align: right;\n",
              "    }\n",
              "</style>\n",
              "<table border=\"1\" class=\"dataframe\">\n",
              "  <thead>\n",
              "    <tr style=\"text-align: right;\">\n",
              "      <th>cand_nm</th>\n",
              "      <th>Obama, Barack</th>\n",
              "      <th>Romney, Mitt</th>\n",
              "    </tr>\n",
              "    <tr>\n",
              "      <th>contbr_st</th>\n",
              "      <th></th>\n",
              "      <th></th>\n",
              "    </tr>\n",
              "  </thead>\n",
              "  <tbody>\n",
              "    <tr>\n",
              "      <th>AK</th>\n",
              "      <td>281840.15</td>\n",
              "      <td>86204.24</td>\n",
              "    </tr>\n",
              "    <tr>\n",
              "      <th>AL</th>\n",
              "      <td>543123.48</td>\n",
              "      <td>527303.51</td>\n",
              "    </tr>\n",
              "    <tr>\n",
              "      <th>AR</th>\n",
              "      <td>359247.28</td>\n",
              "      <td>105556.00</td>\n",
              "    </tr>\n",
              "    <tr>\n",
              "      <th>AZ</th>\n",
              "      <td>1506476.98</td>\n",
              "      <td>1888436.23</td>\n",
              "    </tr>\n",
              "    <tr>\n",
              "      <th>CA</th>\n",
              "      <td>23824984.24</td>\n",
              "      <td>11237636.60</td>\n",
              "    </tr>\n",
              "    <tr>\n",
              "      <th>...</th>\n",
              "      <td>...</td>\n",
              "      <td>...</td>\n",
              "    </tr>\n",
              "    <tr>\n",
              "      <th>WA</th>\n",
              "      <td>4250933.16</td>\n",
              "      <td>1341521.56</td>\n",
              "    </tr>\n",
              "    <tr>\n",
              "      <th>WI</th>\n",
              "      <td>1130155.46</td>\n",
              "      <td>270316.32</td>\n",
              "    </tr>\n",
              "    <tr>\n",
              "      <th>WV</th>\n",
              "      <td>169154.47</td>\n",
              "      <td>126725.12</td>\n",
              "    </tr>\n",
              "    <tr>\n",
              "      <th>WY</th>\n",
              "      <td>194046.74</td>\n",
              "      <td>252595.84</td>\n",
              "    </tr>\n",
              "    <tr>\n",
              "      <th>XX</th>\n",
              "      <td>0.00</td>\n",
              "      <td>400250.00</td>\n",
              "    </tr>\n",
              "  </tbody>\n",
              "</table>\n",
              "<p>52 rows × 2 columns</p>\n",
              "</div>"
            ],
            "text/plain": [
              "cand_nm    Obama, Barack  Romney, Mitt\n",
              "contbr_st                             \n",
              "AK             281840.15      86204.24\n",
              "AL             543123.48     527303.51\n",
              "AR             359247.28     105556.00\n",
              "AZ            1506476.98    1888436.23\n",
              "CA           23824984.24   11237636.60\n",
              "...                  ...           ...\n",
              "WA            4250933.16    1341521.56\n",
              "WI            1130155.46     270316.32\n",
              "WV             169154.47     126725.12\n",
              "WY             194046.74     252595.84\n",
              "XX                  0.00     400250.00\n",
              "\n",
              "[52 rows x 2 columns]"
            ]
          },
          "metadata": {
            "tags": []
          },
          "execution_count": 69
        }
      ]
    },
    {
      "cell_type": "markdown",
      "metadata": {
        "id": "6w-e3o_qNtDt"
      },
      "source": [
        "**還可以得到每個州，兩個候選人獲得金額的百分比**"
      ]
    },
    {
      "cell_type": "code",
      "metadata": {
        "id": "FYa_YxKcNwPV",
        "outputId": "50e308ad-2856-4135-dad7-673cf4cba48e",
        "colab": {
          "base_uri": "https://localhost:8080/",
          "height": 390
        }
      },
      "source": [
        "percent = totals.div(totals.sum(1), axis=0)\n",
        "percent[:10]"
      ],
      "execution_count": 70,
      "outputs": [
        {
          "output_type": "execute_result",
          "data": {
            "text/html": [
              "<div>\n",
              "<style scoped>\n",
              "    .dataframe tbody tr th:only-of-type {\n",
              "        vertical-align: middle;\n",
              "    }\n",
              "\n",
              "    .dataframe tbody tr th {\n",
              "        vertical-align: top;\n",
              "    }\n",
              "\n",
              "    .dataframe thead th {\n",
              "        text-align: right;\n",
              "    }\n",
              "</style>\n",
              "<table border=\"1\" class=\"dataframe\">\n",
              "  <thead>\n",
              "    <tr style=\"text-align: right;\">\n",
              "      <th>cand_nm</th>\n",
              "      <th>Obama, Barack</th>\n",
              "      <th>Romney, Mitt</th>\n",
              "    </tr>\n",
              "    <tr>\n",
              "      <th>contbr_st</th>\n",
              "      <th></th>\n",
              "      <th></th>\n",
              "    </tr>\n",
              "  </thead>\n",
              "  <tbody>\n",
              "    <tr>\n",
              "      <th>AK</th>\n",
              "      <td>0.765778</td>\n",
              "      <td>0.234222</td>\n",
              "    </tr>\n",
              "    <tr>\n",
              "      <th>AL</th>\n",
              "      <td>0.507390</td>\n",
              "      <td>0.492610</td>\n",
              "    </tr>\n",
              "    <tr>\n",
              "      <th>AR</th>\n",
              "      <td>0.772902</td>\n",
              "      <td>0.227098</td>\n",
              "    </tr>\n",
              "    <tr>\n",
              "      <th>AZ</th>\n",
              "      <td>0.443745</td>\n",
              "      <td>0.556255</td>\n",
              "    </tr>\n",
              "    <tr>\n",
              "      <th>CA</th>\n",
              "      <td>0.679498</td>\n",
              "      <td>0.320502</td>\n",
              "    </tr>\n",
              "    <tr>\n",
              "      <th>CO</th>\n",
              "      <td>0.585970</td>\n",
              "      <td>0.414030</td>\n",
              "    </tr>\n",
              "    <tr>\n",
              "      <th>CT</th>\n",
              "      <td>0.371476</td>\n",
              "      <td>0.628524</td>\n",
              "    </tr>\n",
              "    <tr>\n",
              "      <th>DC</th>\n",
              "      <td>0.810113</td>\n",
              "      <td>0.189887</td>\n",
              "    </tr>\n",
              "    <tr>\n",
              "      <th>DE</th>\n",
              "      <td>0.802776</td>\n",
              "      <td>0.197224</td>\n",
              "    </tr>\n",
              "    <tr>\n",
              "      <th>FL</th>\n",
              "      <td>0.467417</td>\n",
              "      <td>0.532583</td>\n",
              "    </tr>\n",
              "  </tbody>\n",
              "</table>\n",
              "</div>"
            ],
            "text/plain": [
              "cand_nm    Obama, Barack  Romney, Mitt\n",
              "contbr_st                             \n",
              "AK              0.765778      0.234222\n",
              "AL              0.507390      0.492610\n",
              "AR              0.772902      0.227098\n",
              "AZ              0.443745      0.556255\n",
              "CA              0.679498      0.320502\n",
              "CO              0.585970      0.414030\n",
              "CT              0.371476      0.628524\n",
              "DC              0.810113      0.189887\n",
              "DE              0.802776      0.197224\n",
              "FL              0.467417      0.532583"
            ]
          },
          "metadata": {
            "tags": []
          },
          "execution_count": 70
        }
      ]
    }
  ]
}