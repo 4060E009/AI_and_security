{
  "nbformat": 4,
  "nbformat_minor": 0,
  "metadata": {
    "colab": {
      "name": "NUMPY課程大綱20201012",
      "provenance": [],
      "authorship_tag": "ABX9TyObZIG1KSFgUPN7GzBEW+Zp",
      "include_colab_link": true
    },
    "kernelspec": {
      "name": "python3",
      "display_name": "Python 3"
    },
    "accelerator": "GPU"
  },
  "cells": [
    {
      "cell_type": "markdown",
      "metadata": {
        "id": "view-in-github",
        "colab_type": "text"
      },
      "source": [
        "<a href=\"https://colab.research.google.com/github/4060E009/AI_and_security/blob/master/NUMPY%E8%AA%B2%E7%A8%8B%E5%A4%A7%E7%B6%B120201012.ipynb\" target=\"_parent\"><img src=\"https://colab.research.google.com/assets/colab-badge.svg\" alt=\"Open In Colab\"/></a>"
      ]
    },
    {
      "cell_type": "markdown",
      "metadata": {
        "id": "6Q4pWyPHzNjC"
      },
      "source": [
        "[1]numpy"
      ]
    },
    {
      "cell_type": "code",
      "metadata": {
        "id": "vivKWWwFy2bc"
      },
      "source": [
        "NumPy是Python語言的一個擴充程式庫。\n",
        "支援高階大量的維度陣列與矩陣運算\n",
        "針對陣列運算提供大量的數學函式函式庫。\n",
        "\n",
        "NumPy的前身Numeric最早是由Jim Hugunin與其它協作者共同開發\n",
        "2005年，Travis Oliphant在Numeric中結合了另一個同性質的程式庫Numarray的特色，\n",
        "並加入了其它擴充功能而開發了NumPy。\n",
        "NumPy為開放原始碼並且由許多協作者共同維護開發。"
      ],
      "execution_count": null,
      "outputs": []
    },
    {
      "cell_type": "markdown",
      "metadata": {
        "id": "IWyfy6y8zWEM"
      },
      "source": [
        "[2]Numpy **ndarray資料結構及其屬性**"
      ]
    },
    {
      "cell_type": "markdown",
      "metadata": {
        "id": "esQTkwpJzbLb"
      },
      "source": [
        "NUMPY ndarray(N-Dimensional Arrays)重要屬性:shape dimension"
      ]
    },
    {
      "cell_type": "markdown",
      "metadata": {
        "id": "T3_rOELczatP"
      },
      "source": [
        "軸 (axis) 與維度 (dimension)\n",
        "shape\n",
        "dtype 屬性"
      ]
    },
    {
      "cell_type": "code",
      "metadata": {
        "id": "tLYLs68XzYLl",
        "outputId": "6b698e41-0f16-4295-886f-58fdb55cbf64",
        "colab": {
          "base_uri": "https://localhost:8080/",
          "height": 34
        }
      },
      "source": [
        "import numpy as np\n",
        "ar2=np.array([[0,3,5],[2,8,7]])\n",
        "# ar2.shape\n",
        "ar2.ndim"
      ],
      "execution_count": 1,
      "outputs": [
        {
          "output_type": "execute_result",
          "data": {
            "text/plain": [
              "2"
            ]
          },
          "metadata": {
            "tags": []
          },
          "execution_count": 1
        }
      ]
    },
    {
      "cell_type": "markdown",
      "metadata": {
        "id": "BXF2WIU4znYA"
      },
      "source": [
        "ndarray資料型態(dtype)與型態轉換(astype)"
      ]
    },
    {
      "cell_type": "code",
      "metadata": {
        "id": "kW2BtYSizqAs",
        "outputId": "f5aef2e4-ae2e-4e71-f83c-d41479c741d7",
        "colab": {
          "base_uri": "https://localhost:8080/",
          "height": 34
        }
      },
      "source": [
        "ar=np.array([2,4,6,8]); \n",
        "ar.dtype"
      ],
      "execution_count": 2,
      "outputs": [
        {
          "output_type": "execute_result",
          "data": {
            "text/plain": [
              "dtype('int64')"
            ]
          },
          "metadata": {
            "tags": []
          },
          "execution_count": 2
        }
      ]
    },
    {
      "cell_type": "markdown",
      "metadata": {
        "id": "SK5V71v0zsT1"
      },
      "source": [
        "下列程式執行後的結果為何?"
      ]
    },
    {
      "cell_type": "code",
      "metadata": {
        "id": "RjacHgZ9zt_F",
        "outputId": "c71b452e-1142-48f9-9099-c1aaa283fc48",
        "colab": {
          "base_uri": "https://localhost:8080/",
          "height": 34
        }
      },
      "source": [
        "f_ar = np.array([13,-3,8.88])\n",
        "f_ar\n",
        "\n",
        "intf_ar=f_ar.astype(int)\n",
        "intf_ar"
      ],
      "execution_count": 3,
      "outputs": [
        {
          "output_type": "execute_result",
          "data": {
            "text/plain": [
              "array([13, -3,  8])"
            ]
          },
          "metadata": {
            "tags": []
          },
          "execution_count": 3
        }
      ]
    },
    {
      "cell_type": "markdown",
      "metadata": {
        "id": "UoxRK-6gzv-R"
      },
      "source": [
        "**[3]單一Numpy ndarray的各種運算**"
      ]
    },
    {
      "cell_type": "markdown",
      "metadata": {
        "id": "3hw-nfnLz2UI"
      },
      "source": [
        "1.使用Python內建的array()建立陣列"
      ]
    },
    {
      "cell_type": "code",
      "metadata": {
        "id": "ATRgQCETz8ed"
      },
      "source": [
        "import numpy as np\n",
        "x = np.array([[1,2.0],[0,0],(1+1j,3.)])"
      ],
      "execution_count": 6,
      "outputs": []
    },
    {
      "cell_type": "markdown",
      "metadata": {
        "id": "y0EZTAyB0Ba6"
      },
      "source": [
        "2.使用numpy提供的創建函數建立陣列"
      ]
    },
    {
      "cell_type": "code",
      "metadata": {
        "id": "BNRvLnBJ0Fkr",
        "outputId": "dd560cad-bca1-4a19-93bb-44c2f0ab7df6",
        "colab": {
          "base_uri": "https://localhost:8080/",
          "height": 68
        }
      },
      "source": [
        "import numpy as np\n",
        "ar9 = np.eye(3);\n",
        "ar9"
      ],
      "execution_count": 7,
      "outputs": [
        {
          "output_type": "execute_result",
          "data": {
            "text/plain": [
              "array([[1., 0., 0.],\n",
              "       [0., 1., 0.],\n",
              "       [0., 0., 1.]])"
            ]
          },
          "metadata": {
            "tags": []
          },
          "execution_count": 7
        }
      ]
    },
    {
      "cell_type": "markdown",
      "metadata": {
        "id": "6B9OUvgU0Gsa"
      },
      "source": [
        "使用np.zeros建立陣列"
      ]
    },
    {
      "cell_type": "code",
      "metadata": {
        "id": "xeIREyYk0Icf",
        "outputId": "7a7c6922-55b3-4385-efa2-83da2bf954ca",
        "colab": {
          "base_uri": "https://localhost:8080/",
          "height": 51
        }
      },
      "source": [
        "import numpy as np\n",
        "np.zeros((2, 3))"
      ],
      "execution_count": 8,
      "outputs": [
        {
          "output_type": "execute_result",
          "data": {
            "text/plain": [
              "array([[0., 0., 0.],\n",
              "       [0., 0., 0.]])"
            ]
          },
          "metadata": {
            "tags": []
          },
          "execution_count": 8
        }
      ]
    },
    {
      "cell_type": "markdown",
      "metadata": {
        "id": "B4SLcxCf0KU0"
      },
      "source": [
        "使用np.ones建立陣列"
      ]
    },
    {
      "cell_type": "code",
      "metadata": {
        "id": "qM6bCVDp0Ldu",
        "outputId": "05a3e59c-9925-4712-cbaf-b3dfaa3d6a53",
        "colab": {
          "base_uri": "https://localhost:8080/",
          "height": 85
        }
      },
      "source": [
        "import numpy as np\n",
        "np.ones((4, 7))"
      ],
      "execution_count": 9,
      "outputs": [
        {
          "output_type": "execute_result",
          "data": {
            "text/plain": [
              "array([[1., 1., 1., 1., 1., 1., 1.],\n",
              "       [1., 1., 1., 1., 1., 1., 1.],\n",
              "       [1., 1., 1., 1., 1., 1., 1.],\n",
              "       [1., 1., 1., 1., 1., 1., 1.]])"
            ]
          },
          "metadata": {
            "tags": []
          },
          "execution_count": 9
        }
      ]
    },
    {
      "cell_type": "markdown",
      "metadata": {
        "id": "UitkezkO0NZV"
      },
      "source": [
        "使用np.arange建立陣列"
      ]
    },
    {
      "cell_type": "code",
      "metadata": {
        "id": "x5nbmA2g0O8m",
        "outputId": "bfcf63db-c056-49a7-8be7-ad7f0aa83470",
        "colab": {
          "base_uri": "https://localhost:8080/",
          "height": 34
        }
      },
      "source": [
        "import numpy as np\n",
        "np.arange(2, 3, 0.1) # start, end, step"
      ],
      "execution_count": 10,
      "outputs": [
        {
          "output_type": "execute_result",
          "data": {
            "text/plain": [
              "array([2. , 2.1, 2.2, 2.3, 2.4, 2.5, 2.6, 2.7, 2.8, 2.9])"
            ]
          },
          "metadata": {
            "tags": []
          },
          "execution_count": 10
        }
      ]
    },
    {
      "cell_type": "markdown",
      "metadata": {
        "id": "4aEvo2xi0QzX"
      },
      "source": [
        "使用np.linspace建立陣列"
      ]
    },
    {
      "cell_type": "code",
      "metadata": {
        "id": "l4tjzcEJ0SFJ",
        "outputId": "ada02a6f-3345-4eee-a647-8e60252ec2c1",
        "colab": {
          "base_uri": "https://localhost:8080/",
          "height": 34
        }
      },
      "source": [
        "import numpy as np\n",
        "np.linspace(1., 4., 6) # start, end, num"
      ],
      "execution_count": 11,
      "outputs": [
        {
          "output_type": "execute_result",
          "data": {
            "text/plain": [
              "array([1. , 1.6, 2.2, 2.8, 3.4, 4. ])"
            ]
          },
          "metadata": {
            "tags": []
          },
          "execution_count": 11
        }
      ]
    },
    {
      "cell_type": "markdown",
      "metadata": {
        "id": "NojyNKvn0UAS"
      },
      "source": [
        "使用np.linspace建立陣列"
      ]
    },
    {
      "cell_type": "code",
      "metadata": {
        "id": "6UJ18HaN0VYu",
        "outputId": "57109f6b-9156-4cdf-f582-0e32f2791aea",
        "colab": {
          "base_uri": "https://localhost:8080/",
          "height": 34
        }
      },
      "source": [
        "import numpy as np\n",
        "np.linspace(2.0, 3.0, num=5)"
      ],
      "execution_count": 12,
      "outputs": [
        {
          "output_type": "execute_result",
          "data": {
            "text/plain": [
              "array([2.  , 2.25, 2.5 , 2.75, 3.  ])"
            ]
          },
          "metadata": {
            "tags": []
          },
          "execution_count": 12
        }
      ]
    },
    {
      "cell_type": "markdown",
      "metadata": {
        "id": "dxAzaPlv0XrT"
      },
      "source": [
        "使用np.linspace建立陣列"
      ]
    },
    {
      "cell_type": "code",
      "metadata": {
        "id": "IlVMsunL0Y84",
        "outputId": "665c2304-dbad-4506-d0de-754cc32a0427",
        "colab": {
          "base_uri": "https://localhost:8080/",
          "height": 34
        }
      },
      "source": [
        "import numpy as np\n",
        "np.linspace(2.0, 3.0, num=5, endpoint=False)"
      ],
      "execution_count": 13,
      "outputs": [
        {
          "output_type": "execute_result",
          "data": {
            "text/plain": [
              "array([2. , 2.2, 2.4, 2.6, 2.8])"
            ]
          },
          "metadata": {
            "tags": []
          },
          "execution_count": 13
        }
      ]
    },
    {
      "cell_type": "markdown",
      "metadata": {
        "id": "Y9slJZf10bNV"
      },
      "source": [
        "使用np.linspace建立陣列"
      ]
    },
    {
      "cell_type": "code",
      "metadata": {
        "id": "pBz6b8hL0ca1",
        "outputId": "2cfd8019-77d0-45b7-e792-cfbba501bbe8",
        "colab": {
          "base_uri": "https://localhost:8080/",
          "height": 34
        }
      },
      "source": [
        "import numpy as np\n",
        "np.linspace(2.0, 3.0, num=5, retstep=True)"
      ],
      "execution_count": 14,
      "outputs": [
        {
          "output_type": "execute_result",
          "data": {
            "text/plain": [
              "(array([2.  , 2.25, 2.5 , 2.75, 3.  ]), 0.25)"
            ]
          },
          "metadata": {
            "tags": []
          },
          "execution_count": 14
        }
      ]
    },
    {
      "cell_type": "markdown",
      "metadata": {
        "id": "bTnnqsQ-0eOT"
      },
      "source": [
        "使用np.indices建立陣列"
      ]
    },
    {
      "cell_type": "code",
      "metadata": {
        "id": "Qrqc2KG80f1B",
        "outputId": "3ce6a039-86d6-49a5-c689-05042b3169f8",
        "colab": {
          "base_uri": "https://localhost:8080/",
          "height": 136
        }
      },
      "source": [
        "import numpy as np\n",
        "np.indices((3, 3))"
      ],
      "execution_count": 15,
      "outputs": [
        {
          "output_type": "execute_result",
          "data": {
            "text/plain": [
              "array([[[0, 0, 0],\n",
              "        [1, 1, 1],\n",
              "        [2, 2, 2]],\n",
              "\n",
              "       [[0, 1, 2],\n",
              "        [0, 1, 2],\n",
              "        [0, 1, 2]]])"
            ]
          },
          "metadata": {
            "tags": []
          },
          "execution_count": 15
        }
      ]
    },
    {
      "cell_type": "markdown",
      "metadata": {
        "id": "5Si-lDFN0hkn"
      },
      "source": [
        "使用np.diag建立陣列"
      ]
    },
    {
      "cell_type": "code",
      "metadata": {
        "id": "wJNsszVr0jP_",
        "outputId": "1f7cc5e2-af0b-4527-e7c6-d6b217e13929",
        "colab": {
          "base_uri": "https://localhost:8080/",
          "height": 85
        }
      },
      "source": [
        "import numpy as np\n",
        "ar10=np.diag((2,1,4,6));\n",
        "ar10"
      ],
      "execution_count": 16,
      "outputs": [
        {
          "output_type": "execute_result",
          "data": {
            "text/plain": [
              "array([[2, 0, 0, 0],\n",
              "       [0, 1, 0, 0],\n",
              "       [0, 0, 4, 0],\n",
              "       [0, 0, 0, 6]])"
            ]
          },
          "metadata": {
            "tags": []
          },
          "execution_count": 16
        }
      ]
    },
    {
      "cell_type": "code",
      "metadata": {
        "id": "dqO-x7bO0lTs",
        "outputId": "39d0d9bc-f9ce-400d-ce5e-fa1bd04e72dc",
        "colab": {
          "base_uri": "https://localhost:8080/",
          "height": 34
        }
      },
      "source": [
        "import numpy as np\n",
        "a = np.array([0, 1, 2])\n",
        "np.tile(a, 2)"
      ],
      "execution_count": 17,
      "outputs": [
        {
          "output_type": "execute_result",
          "data": {
            "text/plain": [
              "array([0, 1, 2, 0, 1, 2])"
            ]
          },
          "metadata": {
            "tags": []
          },
          "execution_count": 17
        }
      ]
    },
    {
      "cell_type": "code",
      "metadata": {
        "id": "kUAa5ex40m1r",
        "outputId": "02c9c982-edcd-4353-ce8b-09ed2cdde4e4",
        "colab": {
          "base_uri": "https://localhost:8080/",
          "height": 51
        }
      },
      "source": [
        "import numpy as np\n",
        "a = np.array([0, 1, 2])\n",
        "np.tile(a, (2, 2))\n"
      ],
      "execution_count": 18,
      "outputs": [
        {
          "output_type": "execute_result",
          "data": {
            "text/plain": [
              "array([[0, 1, 2, 0, 1, 2],\n",
              "       [0, 1, 2, 0, 1, 2]])"
            ]
          },
          "metadata": {
            "tags": []
          },
          "execution_count": 18
        }
      ]
    },
    {
      "cell_type": "code",
      "metadata": {
        "id": "mETcYOeE0pGp",
        "outputId": "57f7536e-3e6a-48eb-f675-0a165cbabaac",
        "colab": {
          "base_uri": "https://localhost:8080/",
          "height": 68
        }
      },
      "source": [
        "import numpy as np\n",
        "a = np.array([0, 1, 2])\n",
        "np.tile(a, (2, 1, 2))"
      ],
      "execution_count": 19,
      "outputs": [
        {
          "output_type": "execute_result",
          "data": {
            "text/plain": [
              "array([[[0, 1, 2, 0, 1, 2]],\n",
              "\n",
              "       [[0, 1, 2, 0, 1, 2]]])"
            ]
          },
          "metadata": {
            "tags": []
          },
          "execution_count": 19
        }
      ]
    },
    {
      "cell_type": "markdown",
      "metadata": {
        "id": "flyZd29k0rAQ"
      },
      "source": [
        "3.直接生成使用genfromtxt()方法建立陣列"
      ]
    },
    {
      "cell_type": "code",
      "metadata": {
        "id": "ofczdsJ90tFg",
        "outputId": "3d55bf03-509f-4b28-ef3e-f0254db9cd15",
        "colab": {
          "base_uri": "https://localhost:8080/",
          "height": 85
        }
      },
      "source": [
        "import csv\n",
        "import numpy as np\n",
        "\n",
        "x = '''1,3,2,3,1,2,3,4\n",
        "2,4,5,0.6,5,6,7,8\n",
        "3,7,8,9,9,10,11,12\n",
        "4,1,1.1,1.2,13,14,15,16\n",
        "'''\n",
        "with open(\"abc.txt\",mode=\"w\",encoding=\"utf-8\") as file:\n",
        "  file.write(x)\n",
        "file.close()\n",
        "\n",
        "np.genfromtxt('abc.txt', delimiter=',', invalid_raise = False)"
      ],
      "execution_count": 20,
      "outputs": [
        {
          "output_type": "execute_result",
          "data": {
            "text/plain": [
              "array([[ 1. ,  3. ,  2. ,  3. ,  1. ,  2. ,  3. ,  4. ],\n",
              "       [ 2. ,  4. ,  5. ,  0.6,  5. ,  6. ,  7. ,  8. ],\n",
              "       [ 3. ,  7. ,  8. ,  9. ,  9. , 10. , 11. , 12. ],\n",
              "       [ 4. ,  1. ,  1.1,  1.2, 13. , 14. , 15. , 16. ]])"
            ]
          },
          "metadata": {
            "tags": []
          },
          "execution_count": 20
        }
      ]
    },
    {
      "cell_type": "markdown",
      "metadata": {
        "id": "Dq75-JB90vGp"
      },
      "source": [
        "下列程式執行後的結果為何?"
      ]
    },
    {
      "cell_type": "code",
      "metadata": {
        "id": "lIAeayoC0wOR",
        "outputId": "f74807df-c66a-46fb-ce6c-3daa3694f493",
        "colab": {
          "base_uri": "https://localhost:8080/",
          "height": 51
        }
      },
      "source": [
        "import numpy as np\n",
        "np.tile(np.array([[1,2],[6,7]]),3)"
      ],
      "execution_count": 21,
      "outputs": [
        {
          "output_type": "execute_result",
          "data": {
            "text/plain": [
              "array([[1, 2, 1, 2, 1, 2],\n",
              "       [6, 7, 6, 7, 6, 7]])"
            ]
          },
          "metadata": {
            "tags": []
          },
          "execution_count": 21
        }
      ]
    },
    {
      "cell_type": "code",
      "metadata": {
        "id": "ONRFhkYp0x3h",
        "outputId": "58361a16-9c0a-4900-c021-c3b7d5069b26",
        "colab": {
          "base_uri": "https://localhost:8080/",
          "height": 85
        }
      },
      "source": [
        "import numpy as np\n",
        "np.tile(np.array([[1,2],[6,7]]),(2,2))"
      ],
      "execution_count": 22,
      "outputs": [
        {
          "output_type": "execute_result",
          "data": {
            "text/plain": [
              "array([[1, 2, 1, 2],\n",
              "       [6, 7, 6, 7],\n",
              "       [1, 2, 1, 2],\n",
              "       [6, 7, 6, 7]])"
            ]
          },
          "metadata": {
            "tags": []
          },
          "execution_count": 22
        }
      ]
    },
    {
      "cell_type": "markdown",
      "metadata": {
        "id": "ubp6-O7X0zat"
      },
      "source": [
        "下列程式執行後的結果為何?"
      ]
    },
    {
      "cell_type": "code",
      "metadata": {
        "id": "xSigNzOC01vn",
        "outputId": "f9468fb2-4f11-407c-ea3c-ab363c26c18e",
        "colab": {
          "base_uri": "https://localhost:8080/",
          "height": 68
        }
      },
      "source": [
        "import numpy as np\n",
        "np.array([range(i, i + 3) for i in [2, 4, 6]])"
      ],
      "execution_count": 23,
      "outputs": [
        {
          "output_type": "execute_result",
          "data": {
            "text/plain": [
              "array([[2, 3, 4],\n",
              "       [4, 5, 6],\n",
              "       [6, 7, 8]])"
            ]
          },
          "metadata": {
            "tags": []
          },
          "execution_count": 23
        }
      ]
    },
    {
      "cell_type": "code",
      "metadata": {
        "id": "ay7QJnU903kK",
        "outputId": "293ab4ed-86e8-436a-a898-5cce4cd88f5b",
        "colab": {
          "base_uri": "https://localhost:8080/",
          "height": 51
        }
      },
      "source": [
        "import numpy as np\n",
        "np.tile(np.array([[1,2],[6,7]]),3)"
      ],
      "execution_count": 24,
      "outputs": [
        {
          "output_type": "execute_result",
          "data": {
            "text/plain": [
              "array([[1, 2, 1, 2, 1, 2],\n",
              "       [6, 7, 6, 7, 6, 7]])"
            ]
          },
          "metadata": {
            "tags": []
          },
          "execution_count": 24
        }
      ]
    },
    {
      "cell_type": "code",
      "metadata": {
        "id": "h9NbpzEL05Hp",
        "outputId": "f238004b-5318-4524-96cd-1c0cba385ecf",
        "colab": {
          "base_uri": "https://localhost:8080/",
          "height": 85
        }
      },
      "source": [
        "import numpy as np\n",
        "np.tile(np.array([[1,2],[6,7]]),(2,2))"
      ],
      "execution_count": 25,
      "outputs": [
        {
          "output_type": "execute_result",
          "data": {
            "text/plain": [
              "array([[1, 2, 1, 2],\n",
              "       [6, 7, 6, 7],\n",
              "       [1, 2, 1, 2],\n",
              "       [6, 7, 6, 7]])"
            ]
          },
          "metadata": {
            "tags": []
          },
          "execution_count": 25
        }
      ]
    },
    {
      "cell_type": "markdown",
      "metadata": {
        "id": "AnK00Pgp073s"
      },
      "source": [
        "**NUMPY ndarray 運算(Array shape manipulation)**"
      ]
    },
    {
      "cell_type": "markdown",
      "metadata": {
        "id": "q0rYRXl21XaB"
      },
      "source": [
        "reshape"
      ]
    },
    {
      "cell_type": "code",
      "metadata": {
        "id": "xJOmDAHF1Uqk",
        "outputId": "ed23ec8a-4c89-4e62-ca4c-338f2bb08c2a",
        "colab": {
          "base_uri": "https://localhost:8080/",
          "height": 51
        }
      },
      "source": [
        "import numpy as np\n",
        "x = np.arange(2,10).reshape(2,4)\n",
        "x"
      ],
      "execution_count": 27,
      "outputs": [
        {
          "output_type": "execute_result",
          "data": {
            "text/plain": [
              "array([[2, 3, 4, 5],\n",
              "       [6, 7, 8, 9]])"
            ]
          },
          "metadata": {
            "tags": []
          },
          "execution_count": 27
        }
      ]
    },
    {
      "cell_type": "code",
      "metadata": {
        "id": "UPptq3Wi1aIV",
        "outputId": "b85b42a5-7119-4d94-d6d3-c786fa0b0d9a",
        "colab": {
          "base_uri": "https://localhost:8080/",
          "height": 85
        }
      },
      "source": [
        "import numpy as np\n",
        "y = np.arange(2,10).reshape(4,2)\n",
        "y"
      ],
      "execution_count": 28,
      "outputs": [
        {
          "output_type": "execute_result",
          "data": {
            "text/plain": [
              "array([[2, 3],\n",
              "       [4, 5],\n",
              "       [6, 7],\n",
              "       [8, 9]])"
            ]
          },
          "metadata": {
            "tags": []
          },
          "execution_count": 28
        }
      ]
    },
    {
      "cell_type": "markdown",
      "metadata": {
        "id": "PIGOsoHa1bxP"
      },
      "source": [
        "ravel"
      ]
    },
    {
      "cell_type": "code",
      "metadata": {
        "id": "Vu_yUfBt1c5Q",
        "outputId": "bc427a6c-55bf-46cb-b6c3-588d56a91a98",
        "colab": {
          "base_uri": "https://localhost:8080/",
          "height": 51
        }
      },
      "source": [
        "import numpy as np\n",
        "ar=np.array([np.arange(1,6),np.arange(10,15)]); \n",
        "ar"
      ],
      "execution_count": 29,
      "outputs": [
        {
          "output_type": "execute_result",
          "data": {
            "text/plain": [
              "array([[ 1,  2,  3,  4,  5],\n",
              "       [10, 11, 12, 13, 14]])"
            ]
          },
          "metadata": {
            "tags": []
          },
          "execution_count": 29
        }
      ]
    },
    {
      "cell_type": "code",
      "metadata": {
        "id": "-ebA0zCo1epg",
        "outputId": "d832d92e-77d3-431e-dc2e-6069111296e0",
        "colab": {
          "base_uri": "https://localhost:8080/",
          "height": 34
        }
      },
      "source": [
        "import numpy as np\n",
        "ar=np.array([np.arange(1,6),np.arange(10,15)])\n",
        "ar.ravel()"
      ],
      "execution_count": 30,
      "outputs": [
        {
          "output_type": "execute_result",
          "data": {
            "text/plain": [
              "array([ 1,  2,  3,  4,  5, 10, 11, 12, 13, 14])"
            ]
          },
          "metadata": {
            "tags": []
          },
          "execution_count": 30
        }
      ]
    },
    {
      "cell_type": "markdown",
      "metadata": {
        "id": "OD6SpfdG1f-V"
      },
      "source": [
        "T"
      ]
    },
    {
      "cell_type": "code",
      "metadata": {
        "id": "YoOpnOCQ1hAB",
        "outputId": "f276f085-9130-4874-92dd-a79d57809b68",
        "colab": {
          "base_uri": "https://localhost:8080/",
          "height": 102
        }
      },
      "source": [
        "import numpy as np\n",
        "ar=np.array([np.arange(1,6),np.arange(10,15)])\n",
        "ar.T"
      ],
      "execution_count": 31,
      "outputs": [
        {
          "output_type": "execute_result",
          "data": {
            "text/plain": [
              "array([[ 1, 10],\n",
              "       [ 2, 11],\n",
              "       [ 3, 12],\n",
              "       [ 4, 13],\n",
              "       [ 5, 14]])"
            ]
          },
          "metadata": {
            "tags": []
          },
          "execution_count": 31
        }
      ]
    },
    {
      "cell_type": "markdown",
      "metadata": {
        "id": "MzAUm3Wa1jAB"
      },
      "source": [
        "newaxis"
      ]
    },
    {
      "cell_type": "code",
      "metadata": {
        "id": "DrOotzeD1kOX",
        "outputId": "f0008b20-27b0-4f41-8bb8-e1829452be47",
        "colab": {
          "base_uri": "https://localhost:8080/",
          "height": 68
        }
      },
      "source": [
        "import numpy as np\n",
        "ar=ar[:, np.newaxis]; ar.shape\n",
        "ar"
      ],
      "execution_count": 32,
      "outputs": [
        {
          "output_type": "execute_result",
          "data": {
            "text/plain": [
              "array([[[ 1,  2,  3,  4,  5]],\n",
              "\n",
              "       [[10, 11, 12, 13, 14]]])"
            ]
          },
          "metadata": {
            "tags": []
          },
          "execution_count": 32
        }
      ]
    },
    {
      "cell_type": "markdown",
      "metadata": {
        "id": "9Mfqo1_S1lvQ"
      },
      "source": [
        "下列程式執行後的結果為何?"
      ]
    },
    {
      "cell_type": "code",
      "metadata": {
        "id": "QzdTkFqm1nHV",
        "outputId": "72940236-08e4-4ef3-9254-ee764b18a7cf",
        "colab": {
          "base_uri": "https://localhost:8080/",
          "height": 34
        }
      },
      "source": [
        "import numpy as np\n",
        "ar=np.array([np.arange(1,6),np.arange(10,15)])\n",
        "ar.T.ravel()"
      ],
      "execution_count": 33,
      "outputs": [
        {
          "output_type": "execute_result",
          "data": {
            "text/plain": [
              "array([ 1, 10,  2, 11,  3, 12,  4, 13,  5, 14])"
            ]
          },
          "metadata": {
            "tags": []
          },
          "execution_count": 33
        }
      ]
    },
    {
      "cell_type": "code",
      "metadata": {
        "id": "UxxT8WMw1pKA",
        "outputId": "96b90dbd-62c5-48e5-9873-d1931ec731fc",
        "colab": {
          "base_uri": "https://localhost:8080/",
          "height": 34
        }
      },
      "source": [
        "import numpy as np\n",
        "ar=np.array([14,15,16])\n",
        "ar=ar[:, np.newaxis]\n",
        "ar.shape"
      ],
      "execution_count": 34,
      "outputs": [
        {
          "output_type": "execute_result",
          "data": {
            "text/plain": [
              "(3, 1)"
            ]
          },
          "metadata": {
            "tags": []
          },
          "execution_count": 34
        }
      ]
    },
    {
      "cell_type": "markdown",
      "metadata": {
        "id": "aXzfRmhb1qwi"
      },
      "source": [
        "**ndarray的索引(index)與切片運算(slice)**"
      ]
    },
    {
      "cell_type": "markdown",
      "metadata": {
        "id": "6qQzS91z1uCT"
      },
      "source": [
        "1.索引(index)"
      ]
    },
    {
      "cell_type": "code",
      "metadata": {
        "id": "_yGdVlkR1s8n",
        "outputId": "c0e7034f-50ff-4496-ca1c-96010671e3e9",
        "colab": {
          "base_uri": "https://localhost:8080/",
          "height": 68
        }
      },
      "source": [
        "import numpy as np\n",
        "x = np.arange(2,10)\n",
        "# x\n",
        "print(x[0])\n",
        "print(x[-2])\n",
        "print(x[-1])"
      ],
      "execution_count": 35,
      "outputs": [
        {
          "output_type": "stream",
          "text": [
            "2\n",
            "8\n",
            "9\n"
          ],
          "name": "stdout"
        }
      ]
    },
    {
      "cell_type": "code",
      "metadata": {
        "id": "6te_IVSy1xDm",
        "outputId": "babd05c2-26c2-4a17-af5e-1406735ec638",
        "colab": {
          "base_uri": "https://localhost:8080/",
          "height": 34
        }
      },
      "source": [
        "import numpy as np\n",
        "ar = np.array([[2,3,4],[9,8,7],[11,12,13]])\n",
        "ar[1,2]"
      ],
      "execution_count": 36,
      "outputs": [
        {
          "output_type": "execute_result",
          "data": {
            "text/plain": [
              "7"
            ]
          },
          "metadata": {
            "tags": []
          },
          "execution_count": 36
        }
      ]
    },
    {
      "cell_type": "markdown",
      "metadata": {
        "id": "KWceXl_91yor"
      },
      "source": [
        "2.切片運算(slice)"
      ]
    },
    {
      "cell_type": "code",
      "metadata": {
        "id": "camzjABG1zo5",
        "outputId": "c00ca55c-c5ce-41fc-df49-4f5dba171775",
        "colab": {
          "base_uri": "https://localhost:8080/",
          "height": 34
        }
      },
      "source": [
        "import numpy as np\n",
        "ar=2*np.arange(6)\n",
        "# ar\n",
        "ar[1:5:2]"
      ],
      "execution_count": 37,
      "outputs": [
        {
          "output_type": "execute_result",
          "data": {
            "text/plain": [
              "array([2, 6])"
            ]
          },
          "metadata": {
            "tags": []
          },
          "execution_count": 37
        }
      ]
    },
    {
      "cell_type": "code",
      "metadata": {
        "id": "YTtmeD-s11S6",
        "outputId": "b95dfd0f-8982-49ab-cc31-66ad2780391a",
        "colab": {
          "base_uri": "https://localhost:8080/",
          "height": 34
        }
      },
      "source": [
        "import numpy as np\n",
        "ar=2*np.arange(6)\n",
        "# ar\n",
        "ar[1:6:2]"
      ],
      "execution_count": 38,
      "outputs": [
        {
          "output_type": "execute_result",
          "data": {
            "text/plain": [
              "array([ 2,  6, 10])"
            ]
          },
          "metadata": {
            "tags": []
          },
          "execution_count": 38
        }
      ]
    },
    {
      "cell_type": "code",
      "metadata": {
        "id": "fKfF1Wcb12pH",
        "outputId": "8da38e64-4207-4e70-9617-9fc7a2557cba",
        "colab": {
          "base_uri": "https://localhost:8080/",
          "height": 34
        }
      },
      "source": [
        "import numpy as np\n",
        "ar=2*np.arange(6)\n",
        "# ar\n",
        "ar[:4]"
      ],
      "execution_count": 39,
      "outputs": [
        {
          "output_type": "execute_result",
          "data": {
            "text/plain": [
              "array([0, 2, 4, 6])"
            ]
          },
          "metadata": {
            "tags": []
          },
          "execution_count": 39
        }
      ]
    },
    {
      "cell_type": "markdown",
      "metadata": {
        "id": "uodj4mKi18Cp"
      },
      "source": [
        "[小測驗]下列程式執行後的結果為何?"
      ]
    },
    {
      "cell_type": "code",
      "metadata": {
        "id": "jPg-wUyw16Mw",
        "outputId": "81210d7c-50b1-420e-ea95-6dc1d6c5ed15",
        "colab": {
          "base_uri": "https://localhost:8080/",
          "height": 34
        }
      },
      "source": [
        "import numpy as np\n",
        "ar = np.array([[2,3,4],[9,8,7],[11,12,13]])\n",
        "# ar\n",
        "ar[2,:] "
      ],
      "execution_count": 40,
      "outputs": [
        {
          "output_type": "execute_result",
          "data": {
            "text/plain": [
              "array([11, 12, 13])"
            ]
          },
          "metadata": {
            "tags": []
          },
          "execution_count": 40
        }
      ]
    },
    {
      "cell_type": "code",
      "metadata": {
        "id": "-i-do63t1-r-",
        "outputId": "303c8701-229c-4c5d-fe44-42d017f3612f",
        "colab": {
          "base_uri": "https://localhost:8080/",
          "height": 34
        }
      },
      "source": [
        "import numpy as np\n",
        "ar = np.array([[2,3,4],[9,8,7],[11,12,13]])\n",
        "# ar\n",
        "ar[:,1]  "
      ],
      "execution_count": 41,
      "outputs": [
        {
          "output_type": "execute_result",
          "data": {
            "text/plain": [
              "array([ 3,  8, 12])"
            ]
          },
          "metadata": {
            "tags": []
          },
          "execution_count": 41
        }
      ]
    },
    {
      "cell_type": "code",
      "metadata": {
        "id": "pGA8t5242AIj",
        "outputId": "7966bc6a-e797-4c09-bd6b-146195d21e2f",
        "colab": {
          "base_uri": "https://localhost:8080/",
          "height": 34
        }
      },
      "source": [
        "import numpy as np\n",
        "ar = np.array([[2,3,4],[9,8,7],[11,12,13]])\n",
        "# ar\n",
        "ar[2,-1]"
      ],
      "execution_count": 42,
      "outputs": [
        {
          "output_type": "execute_result",
          "data": {
            "text/plain": [
              "13"
            ]
          },
          "metadata": {
            "tags": []
          },
          "execution_count": 42
        }
      ]
    },
    {
      "cell_type": "code",
      "metadata": {
        "id": "sG1Nwpv92Buu",
        "outputId": "b859f84e-077b-426f-bb00-8610a4dce122",
        "colab": {
          "base_uri": "https://localhost:8080/",
          "height": 34
        }
      },
      "source": [
        "import numpy as np\n",
        "ar=2*np.arange(6)\n",
        "# ar\n",
        "ar[::3]"
      ],
      "execution_count": 43,
      "outputs": [
        {
          "output_type": "execute_result",
          "data": {
            "text/plain": [
              "array([0, 6])"
            ]
          },
          "metadata": {
            "tags": []
          },
          "execution_count": 43
        }
      ]
    },
    {
      "cell_type": "code",
      "metadata": {
        "id": "43tBb2-B2DQD",
        "outputId": "0bb6f704-9f8f-421c-e090-97a8c082ddc4",
        "colab": {
          "base_uri": "https://localhost:8080/",
          "height": 34
        }
      },
      "source": [
        "import numpy as np\n",
        "ar=2*np.arange(6)\n",
        "# ar\n",
        "ar[:3]=1\n",
        "ar"
      ],
      "execution_count": 44,
      "outputs": [
        {
          "output_type": "execute_result",
          "data": {
            "text/plain": [
              "array([ 1,  1,  1,  6,  8, 10])"
            ]
          },
          "metadata": {
            "tags": []
          },
          "execution_count": 44
        }
      ]
    },
    {
      "cell_type": "code",
      "metadata": {
        "id": "9wy8JGW92E0-",
        "outputId": "74459b7a-b952-4069-dfaf-604a6e598e29",
        "colab": {
          "base_uri": "https://localhost:8080/",
          "height": 34
        }
      },
      "source": [
        "import numpy as np\n",
        "ar=2*np.arange(6)\n",
        "# ar\n",
        "ar[2:]=np.ones(4)\n",
        "ar"
      ],
      "execution_count": 45,
      "outputs": [
        {
          "output_type": "execute_result",
          "data": {
            "text/plain": [
              "array([0, 2, 1, 1, 1, 1])"
            ]
          },
          "metadata": {
            "tags": []
          },
          "execution_count": 45
        }
      ]
    },
    {
      "cell_type": "markdown",
      "metadata": {
        "id": "h1DMjD4A2Gdn"
      },
      "source": [
        "ndarray的Reduction 運算:prod()|sum()|mean()|median()"
      ]
    },
    {
      "cell_type": "code",
      "metadata": {
        "id": "4tAvY8pS2Hs3",
        "outputId": "bfa91f98-48fb-4c53-85bf-93ccb4ef9dee",
        "colab": {
          "base_uri": "https://localhost:8080/",
          "height": 34
        }
      },
      "source": [
        "import numpy as np\n",
        "ar=np.arange(1,5)\n",
        "ar.prod()"
      ],
      "execution_count": 46,
      "outputs": [
        {
          "output_type": "execute_result",
          "data": {
            "text/plain": [
              "24"
            ]
          },
          "metadata": {
            "tags": []
          },
          "execution_count": 46
        }
      ]
    },
    {
      "cell_type": "code",
      "metadata": {
        "id": "3Mq6Rcb02JpC",
        "outputId": "15c11b7e-8b2e-4914-edd4-40df9ca3a484",
        "colab": {
          "base_uri": "https://localhost:8080/",
          "height": 34
        }
      },
      "source": [
        "import numpy as np\n",
        "ar=np.array([[2,3,4],[5,6,7],[8,9,10]])\n",
        "ar.sum()"
      ],
      "execution_count": 47,
      "outputs": [
        {
          "output_type": "execute_result",
          "data": {
            "text/plain": [
              "54"
            ]
          },
          "metadata": {
            "tags": []
          },
          "execution_count": 47
        }
      ]
    },
    {
      "cell_type": "code",
      "metadata": {
        "id": "jDvcimVm2LCE",
        "outputId": "8fc3f5c5-d0df-45fb-c800-0a254b772c36",
        "colab": {
          "base_uri": "https://localhost:8080/",
          "height": 34
        }
      },
      "source": [
        "import numpy as np\n",
        "ar=np.array([[2,3,4],[5,6,7],[8,9,10]])\n",
        "ar.mean()"
      ],
      "execution_count": 48,
      "outputs": [
        {
          "output_type": "execute_result",
          "data": {
            "text/plain": [
              "6.0"
            ]
          },
          "metadata": {
            "tags": []
          },
          "execution_count": 48
        }
      ]
    },
    {
      "cell_type": "code",
      "metadata": {
        "id": "Yq_t5Qr-2Mkr",
        "outputId": "e7a41ca7-7ec0-4f70-ab12-c72dd755bd17",
        "colab": {
          "base_uri": "https://localhost:8080/",
          "height": 34
        }
      },
      "source": [
        "import numpy as np\n",
        "ar=np.array([[2,3,4],[5,6,7],[8,9,10]])\n",
        "np.median(ar)"
      ],
      "execution_count": 49,
      "outputs": [
        {
          "output_type": "execute_result",
          "data": {
            "text/plain": [
              "6.0"
            ]
          },
          "metadata": {
            "tags": []
          },
          "execution_count": 49
        }
      ]
    },
    {
      "cell_type": "markdown",
      "metadata": {
        "id": "9b7VhbgM2Ods"
      },
      "source": [
        "[小測驗]下列程式執行後的結果為何?"
      ]
    },
    {
      "cell_type": "code",
      "metadata": {
        "id": "E0S0nQxI2QS6",
        "outputId": "f7530610-5f76-41cd-ddd2-0f34443e335d",
        "colab": {
          "base_uri": "https://localhost:8080/",
          "height": 34
        }
      },
      "source": [
        "ar=np.array([np.arange(1,6),np.arange(1,6)])\n",
        "# ar\n",
        "np.prod(ar,axis=0)"
      ],
      "execution_count": 50,
      "outputs": [
        {
          "output_type": "execute_result",
          "data": {
            "text/plain": [
              "array([ 1,  4,  9, 16, 25])"
            ]
          },
          "metadata": {
            "tags": []
          },
          "execution_count": 50
        }
      ]
    },
    {
      "cell_type": "code",
      "metadata": {
        "id": "Qt-w29aK2SH4",
        "outputId": "549a448e-0df0-4b29-c87c-2417a79a2a86",
        "colab": {
          "base_uri": "https://localhost:8080/",
          "height": 34
        }
      },
      "source": [
        "ar=np.array([np.arange(1,6),np.arange(1,6)])\n",
        "# ar\n",
        "np.prod(ar,axis=1)"
      ],
      "execution_count": 51,
      "outputs": [
        {
          "output_type": "execute_result",
          "data": {
            "text/plain": [
              "array([120, 120])"
            ]
          },
          "metadata": {
            "tags": []
          },
          "execution_count": 51
        }
      ]
    },
    {
      "cell_type": "markdown",
      "metadata": {
        "id": "kdoiaEfi2Tu_"
      },
      "source": [
        "**超重要的ufunc(Universal Functions):Fast Element-Wise Array Functions**"
      ]
    },
    {
      "cell_type": "markdown",
      "metadata": {
        "id": "A5c7QLlz2ZEj"
      },
      "source": [
        "sqrt"
      ]
    },
    {
      "cell_type": "code",
      "metadata": {
        "id": "-lq6zPiL2bXR",
        "outputId": "9e4e8ff2-c053-461d-c5a8-3de0daeba122",
        "colab": {
          "base_uri": "https://localhost:8080/",
          "height": 51
        }
      },
      "source": [
        "import numpy as np\n",
        "arr = np.arange(10)\n",
        "np.sqrt(arr)"
      ],
      "execution_count": 52,
      "outputs": [
        {
          "output_type": "execute_result",
          "data": {
            "text/plain": [
              "array([0.        , 1.        , 1.41421356, 1.73205081, 2.        ,\n",
              "       2.23606798, 2.44948974, 2.64575131, 2.82842712, 3.        ])"
            ]
          },
          "metadata": {
            "tags": []
          },
          "execution_count": 52
        }
      ]
    },
    {
      "cell_type": "markdown",
      "metadata": {
        "id": "7pbivvks2eZ5"
      },
      "source": [
        "exp"
      ]
    },
    {
      "cell_type": "code",
      "metadata": {
        "id": "k3voPYkF2dBy",
        "outputId": "dce65e18-a8ac-43cf-8da9-e6ad597e3e8f",
        "colab": {
          "base_uri": "https://localhost:8080/",
          "height": 68
        }
      },
      "source": [
        "import numpy as np\n",
        "arr = np.arange(10)\n",
        "np.exp(arr)"
      ],
      "execution_count": 53,
      "outputs": [
        {
          "output_type": "execute_result",
          "data": {
            "text/plain": [
              "array([1.00000000e+00, 2.71828183e+00, 7.38905610e+00, 2.00855369e+01,\n",
              "       5.45981500e+01, 1.48413159e+02, 4.03428793e+02, 1.09663316e+03,\n",
              "       2.98095799e+03, 8.10308393e+03])"
            ]
          },
          "metadata": {
            "tags": []
          },
          "execution_count": 53
        }
      ]
    },
    {
      "cell_type": "markdown",
      "metadata": {
        "id": "CVoa1XdQ2hQ_"
      },
      "source": [
        "**[5]多Numpy ndarray的各種運算(A矩陣與B矩陣間的運算)**"
      ]
    },
    {
      "cell_type": "markdown",
      "metadata": {
        "id": "9tPvEvnO2lGB"
      },
      "source": [
        "加法運算"
      ]
    },
    {
      "cell_type": "code",
      "metadata": {
        "id": "QQjsVPoo2jrP",
        "outputId": "f33b8fe4-d69b-45c2-c99b-1d508d511dfd",
        "colab": {
          "base_uri": "https://localhost:8080/",
          "height": 51
        }
      },
      "source": [
        "import numpy as np\n",
        "arr = np.array([[1., 2., 3.], [4., 5., 6.]])\n",
        "# arr\n",
        "arr+arr"
      ],
      "execution_count": 54,
      "outputs": [
        {
          "output_type": "execute_result",
          "data": {
            "text/plain": [
              "array([[ 2.,  4.,  6.],\n",
              "       [ 8., 10., 12.]])"
            ]
          },
          "metadata": {
            "tags": []
          },
          "execution_count": 54
        }
      ]
    },
    {
      "cell_type": "markdown",
      "metadata": {
        "id": "ZS5at5FR2nbI"
      },
      "source": [
        "乘法運算"
      ]
    },
    {
      "cell_type": "code",
      "metadata": {
        "id": "T8UUnZ_c2ob6",
        "outputId": "b5b61c28-6813-479b-ae90-cc663e5db72f",
        "colab": {
          "base_uri": "https://localhost:8080/",
          "height": 51
        }
      },
      "source": [
        "import numpy as np\n",
        "arr = np.array([[1., 2., 3.], [4., 5., 6.]])\n",
        "# arr\n",
        "arr*arr"
      ],
      "execution_count": 55,
      "outputs": [
        {
          "output_type": "execute_result",
          "data": {
            "text/plain": [
              "array([[ 1.,  4.,  9.],\n",
              "       [16., 25., 36.]])"
            ]
          },
          "metadata": {
            "tags": []
          },
          "execution_count": 55
        }
      ]
    },
    {
      "cell_type": "code",
      "metadata": {
        "id": "iYMzurCF2saC",
        "outputId": "b40d3ea8-f8a8-4924-fb6e-ccbff6faee8b",
        "colab": {
          "base_uri": "https://localhost:8080/",
          "height": 51
        }
      },
      "source": [
        "import numpy as np\n",
        "ar=np.array([[1,1],[1,1]])\n",
        "ar2=np.array([[2,2],[2,2]])\n",
        "ar*ar2"
      ],
      "execution_count": 56,
      "outputs": [
        {
          "output_type": "execute_result",
          "data": {
            "text/plain": [
              "array([[2, 2],\n",
              "       [2, 2]])"
            ]
          },
          "metadata": {
            "tags": []
          },
          "execution_count": 56
        }
      ]
    },
    {
      "cell_type": "markdown",
      "metadata": {
        "id": "sc5b_LVP2tSa"
      },
      "source": [
        "dot運算"
      ]
    },
    {
      "cell_type": "code",
      "metadata": {
        "id": "fuBAuIu02udg",
        "outputId": "94e013b7-47c0-4378-e049-b7342933b25a",
        "colab": {
          "base_uri": "https://localhost:8080/",
          "height": 51
        }
      },
      "source": [
        "import numpy as np\n",
        "ar=np.array([[1,1],[1,1]])\n",
        "ar2=np.array([[2,2],[2,2]])\n",
        "ar.dot(ar2)"
      ],
      "execution_count": 57,
      "outputs": [
        {
          "output_type": "execute_result",
          "data": {
            "text/plain": [
              "array([[4, 4],\n",
              "       [4, 4]])"
            ]
          },
          "metadata": {
            "tags": []
          },
          "execution_count": 57
        }
      ]
    },
    {
      "cell_type": "markdown",
      "metadata": {
        "id": "B4pAWL2c2wHV"
      },
      "source": [
        "**[小測驗]下列程式執行後的結果為何?**"
      ]
    },
    {
      "cell_type": "code",
      "metadata": {
        "id": "MWI4uh9h2zDS",
        "outputId": "9846be5f-c2b7-49be-de37-9698e07cbee2",
        "colab": {
          "base_uri": "https://localhost:8080/",
          "height": 51
        }
      },
      "source": [
        "import numpy as np\n",
        "arr = np.array([[1., 2., 3.], [4., 5., 6.]])\n",
        "# arr\n",
        "arr-arr"
      ],
      "execution_count": 58,
      "outputs": [
        {
          "output_type": "execute_result",
          "data": {
            "text/plain": [
              "array([[0., 0., 0.],\n",
              "       [0., 0., 0.]])"
            ]
          },
          "metadata": {
            "tags": []
          },
          "execution_count": 58
        }
      ]
    },
    {
      "cell_type": "code",
      "metadata": {
        "id": "n03o7_hA203U",
        "outputId": "a12a92e0-41dc-4c0a-85b9-0803893c6af4",
        "colab": {
          "base_uri": "https://localhost:8080/",
          "height": 51
        }
      },
      "source": [
        "import numpy as np\n",
        "arr = np.array([[1., 2., 3.], [4., 5., 6.]])\n",
        "# arr\n",
        "1/arr"
      ],
      "execution_count": 59,
      "outputs": [
        {
          "output_type": "execute_result",
          "data": {
            "text/plain": [
              "array([[1.        , 0.5       , 0.33333333],\n",
              "       [0.25      , 0.2       , 0.16666667]])"
            ]
          },
          "metadata": {
            "tags": []
          },
          "execution_count": 59
        }
      ]
    },
    {
      "cell_type": "code",
      "metadata": {
        "id": "Per1jloN22WJ",
        "outputId": "92de1a7f-aac9-454b-e923-ac42d47f0c2a",
        "colab": {
          "base_uri": "https://localhost:8080/",
          "height": 51
        }
      },
      "source": [
        "import numpy as np\n",
        "arr = np.array([[1., 2., 3.], [4., 5., 6.]])\n",
        "# arr\n",
        "arr ** 0.5"
      ],
      "execution_count": 60,
      "outputs": [
        {
          "output_type": "execute_result",
          "data": {
            "text/plain": [
              "array([[1.        , 1.41421356, 1.73205081],\n",
              "       [2.        , 2.23606798, 2.44948974]])"
            ]
          },
          "metadata": {
            "tags": []
          },
          "execution_count": 60
        }
      ]
    },
    {
      "cell_type": "code",
      "metadata": {
        "id": "JL0-SORt23y6",
        "outputId": "a13b1e93-8f69-4bc7-8a60-ebe512447c93",
        "colab": {
          "base_uri": "https://localhost:8080/",
          "height": 34
        }
      },
      "source": [
        "import numpy as np\n",
        "xarr = np.array([1.1, 1.2, 1.3, 1.4, 1.5])\n",
        "yarr = np.array([2.1, 2.2, 2.3, 2.4, 2.5])\n",
        "cond = np.array([True, False, True, True, False])\n",
        "result = [(x if c else y)\n",
        "          for x, y, c in zip(xarr, yarr, cond)]\n",
        "result"
      ],
      "execution_count": 61,
      "outputs": [
        {
          "output_type": "execute_result",
          "data": {
            "text/plain": [
              "[1.1, 2.2, 1.3, 1.4, 2.5]"
            ]
          },
          "metadata": {
            "tags": []
          },
          "execution_count": 61
        }
      ]
    },
    {
      "cell_type": "code",
      "metadata": {
        "id": "OHgwX8wd25aQ",
        "outputId": "671d2c53-871a-40f0-be60-e4d8bd4243f7",
        "colab": {
          "base_uri": "https://localhost:8080/",
          "height": 34
        }
      },
      "source": [
        "import numpy as np\n",
        "xarr = np.array([1.1, 1.2, 1.3, 1.4, 1.5])\n",
        "yarr = np.array([2.1, 2.2, 2.3, 2.4, 2.5])\n",
        "cond = np.array([True, False, True, True, False])\n",
        "result = np.where(cond, xarr, yarr)\n",
        "result"
      ],
      "execution_count": 62,
      "outputs": [
        {
          "output_type": "execute_result",
          "data": {
            "text/plain": [
              "array([1.1, 2.2, 1.3, 1.4, 2.5])"
            ]
          },
          "metadata": {
            "tags": []
          },
          "execution_count": 62
        }
      ]
    },
    {
      "cell_type": "markdown",
      "metadata": {
        "id": "QheereRN268f"
      },
      "source": [
        "**[6]ndarray 運算的Broadcasting(廣播機制)**"
      ]
    },
    {
      "cell_type": "code",
      "metadata": {
        "id": "EqeZmEQ029Ib",
        "outputId": "bb638f8b-38dd-4e96-b708-b72c545a6776",
        "colab": {
          "base_uri": "https://localhost:8080/",
          "height": 68
        }
      },
      "source": [
        "import numpy as np\n",
        "x1 = np.arange(9.0).reshape((3, 3))\n",
        "x2 = np.arange(3.0)\n",
        "np.multiply(x1, x2)"
      ],
      "execution_count": 63,
      "outputs": [
        {
          "output_type": "execute_result",
          "data": {
            "text/plain": [
              "array([[ 0.,  1.,  4.],\n",
              "       [ 0.,  4., 10.],\n",
              "       [ 0.,  7., 16.]])"
            ]
          },
          "metadata": {
            "tags": []
          },
          "execution_count": 63
        }
      ]
    },
    {
      "cell_type": "code",
      "metadata": {
        "id": "t_3mC4Is2_F3",
        "outputId": "86a2f88b-649e-4e76-81d5-d5281281df54",
        "colab": {
          "base_uri": "https://localhost:8080/",
          "height": 34
        }
      },
      "source": [
        "import numpy as np\n",
        "np.arange(3) + 5"
      ],
      "execution_count": 64,
      "outputs": [
        {
          "output_type": "execute_result",
          "data": {
            "text/plain": [
              "array([5, 6, 7])"
            ]
          },
          "metadata": {
            "tags": []
          },
          "execution_count": 64
        }
      ]
    },
    {
      "cell_type": "code",
      "metadata": {
        "id": "UjJhxz613Adu",
        "outputId": "d7e5d948-5c15-40e3-c005-5bc4664010e5",
        "colab": {
          "base_uri": "https://localhost:8080/",
          "height": 68
        }
      },
      "source": [
        "import numpy as np\n",
        "np.ones((3, 3)) + np.arange(3)"
      ],
      "execution_count": 65,
      "outputs": [
        {
          "output_type": "execute_result",
          "data": {
            "text/plain": [
              "array([[1., 2., 3.],\n",
              "       [1., 2., 3.],\n",
              "       [1., 2., 3.]])"
            ]
          },
          "metadata": {
            "tags": []
          },
          "execution_count": 65
        }
      ]
    },
    {
      "cell_type": "markdown",
      "metadata": {
        "id": "8Ylr2TEd3HSE"
      },
      "source": [
        "**[小測驗]下列程式執行後的結果為何?**"
      ]
    },
    {
      "cell_type": "code",
      "metadata": {
        "id": "Owep800U3IBf",
        "outputId": "eb65082c-d51f-4f48-f714-eb76db5d65c5",
        "colab": {
          "base_uri": "https://localhost:8080/",
          "height": 68
        }
      },
      "source": [
        "import numpy as np\n",
        "np.arange(3).reshape((3, 1)) + np.arange(3)"
      ],
      "execution_count": 66,
      "outputs": [
        {
          "output_type": "execute_result",
          "data": {
            "text/plain": [
              "array([[0, 1, 2],\n",
              "       [1, 2, 3],\n",
              "       [2, 3, 4]])"
            ]
          },
          "metadata": {
            "tags": []
          },
          "execution_count": 66
        }
      ]
    },
    {
      "cell_type": "markdown",
      "metadata": {
        "id": "9xdZ-b5g3LLX"
      },
      "source": [
        "**[7]自主學習主題**"
      ]
    },
    {
      "cell_type": "markdown",
      "metadata": {
        "id": "fQXgDXci3SJQ"
      },
      "source": [
        "使用<Numpy random模組>產生隨機資料"
      ]
    },
    {
      "cell_type": "code",
      "metadata": {
        "id": "j_-8yodP3P-B",
        "outputId": "5c373643-3e9d-4218-cb8a-45bf5f104405",
        "colab": {
          "base_uri": "https://localhost:8080/",
          "height": 34
        }
      },
      "source": [
        "import numpy\n",
        "numpy.random.randint(low=0, high=100, size=5)\n",
        "\n",
        "# seed\n",
        "# random.randint\n"
      ],
      "execution_count": 77,
      "outputs": [
        {
          "output_type": "execute_result",
          "data": {
            "text/plain": [
              "array([86, 12, 26, 46, 94])"
            ]
          },
          "metadata": {
            "tags": []
          },
          "execution_count": 77
        }
      ]
    },
    {
      "cell_type": "code",
      "metadata": {
        "id": "Ys5_A-Fc6Fdt",
        "outputId": "462c3a93-f0f3-4c6c-c53e-ed78c92797f0",
        "colab": {
          "base_uri": "https://localhost:8080/",
          "height": 34
        }
      },
      "source": [
        "import numpy as np\n",
        "np.random.randint(1,5)"
      ],
      "execution_count": 78,
      "outputs": [
        {
          "output_type": "execute_result",
          "data": {
            "text/plain": [
              "3"
            ]
          },
          "metadata": {
            "tags": []
          },
          "execution_count": 78
        }
      ]
    },
    {
      "cell_type": "code",
      "metadata": {
        "id": "saSr-5fK6GcN",
        "outputId": "3343c60e-f09a-401b-d346-0f666f999dc5",
        "colab": {
          "base_uri": "https://localhost:8080/",
          "height": 51
        }
      },
      "source": [
        "import numpy as np\n",
        "np.random.randint(-5,5,size=(2,2))"
      ],
      "execution_count": 79,
      "outputs": [
        {
          "output_type": "execute_result",
          "data": {
            "text/plain": [
              "array([[ 4,  0],\n",
              "       [-4,  2]])"
            ]
          },
          "metadata": {
            "tags": []
          },
          "execution_count": 79
        }
      ]
    },
    {
      "cell_type": "code",
      "metadata": {
        "id": "DgQz0UWi6IC5",
        "outputId": "232b2b7f-c7ec-4829-8523-8a4c966d13f8",
        "colab": {
          "base_uri": "https://localhost:8080/",
          "height": 34
        }
      },
      "source": [
        "import numpy as np\n",
        "np.random.seed(0)\n",
        "x1 = np.random.randint(10, size=6) \n",
        "x1"
      ],
      "execution_count": 80,
      "outputs": [
        {
          "output_type": "execute_result",
          "data": {
            "text/plain": [
              "array([5, 0, 3, 3, 7, 9])"
            ]
          },
          "metadata": {
            "tags": []
          },
          "execution_count": 80
        }
      ]
    },
    {
      "cell_type": "code",
      "metadata": {
        "id": "eOzMM59v6Jj3",
        "outputId": "af62eae8-d4ac-4680-93f5-b534d640870b",
        "colab": {
          "base_uri": "https://localhost:8080/",
          "height": 68
        }
      },
      "source": [
        "import numpy as np\n",
        "np.random.seed(0)\n",
        "x2 = np.random.randint(10, size=(3, 4))\n",
        "x2"
      ],
      "execution_count": 81,
      "outputs": [
        {
          "output_type": "execute_result",
          "data": {
            "text/plain": [
              "array([[5, 0, 3, 3],\n",
              "       [7, 9, 3, 5],\n",
              "       [2, 4, 7, 6]])"
            ]
          },
          "metadata": {
            "tags": []
          },
          "execution_count": 81
        }
      ]
    },
    {
      "cell_type": "code",
      "metadata": {
        "id": "wpxkg5pr6K8i",
        "outputId": "1f11bf92-a93f-4bc9-a392-5c36eb2f0f29",
        "colab": {
          "base_uri": "https://localhost:8080/",
          "height": 255
        }
      },
      "source": [
        "import numpy as np\n",
        "np.random.seed(0)\n",
        "x3 = np.random.randint(10, size=(3, 4, 5))\n",
        "x3"
      ],
      "execution_count": 82,
      "outputs": [
        {
          "output_type": "execute_result",
          "data": {
            "text/plain": [
              "array([[[5, 0, 3, 3, 7],\n",
              "        [9, 3, 5, 2, 4],\n",
              "        [7, 6, 8, 8, 1],\n",
              "        [6, 7, 7, 8, 1]],\n",
              "\n",
              "       [[5, 9, 8, 9, 4],\n",
              "        [3, 0, 3, 5, 0],\n",
              "        [2, 3, 8, 1, 3],\n",
              "        [3, 3, 7, 0, 1]],\n",
              "\n",
              "       [[9, 9, 0, 4, 7],\n",
              "        [3, 2, 7, 2, 0],\n",
              "        [0, 4, 5, 5, 6],\n",
              "        [8, 4, 1, 4, 9]]])"
            ]
          },
          "metadata": {
            "tags": []
          },
          "execution_count": 82
        }
      ]
    },
    {
      "cell_type": "markdown",
      "metadata": {
        "id": "zKAs45pE6Oc3"
      },
      "source": [
        "**[小測驗]下列程式執行後的結果為何?**"
      ]
    },
    {
      "cell_type": "code",
      "metadata": {
        "id": "Cb41iGZT6Q_E",
        "outputId": "787523a0-f48c-4398-adfa-6637ed1c54eb",
        "colab": {
          "base_uri": "https://localhost:8080/",
          "height": 34
        }
      },
      "source": [
        "import numpy as np\n",
        "np.random.randint(1,size=5)"
      ],
      "execution_count": 83,
      "outputs": [
        {
          "output_type": "execute_result",
          "data": {
            "text/plain": [
              "array([0, 0, 0, 0, 0])"
            ]
          },
          "metadata": {
            "tags": []
          },
          "execution_count": 83
        }
      ]
    },
    {
      "cell_type": "markdown",
      "metadata": {
        "id": "fJZha68r6TNI"
      },
      "source": [
        "NUMPY ndarray 運算(A矩陣與B矩陣間的convolute運算)"
      ]
    },
    {
      "cell_type": "code",
      "metadata": {
        "id": "Cmhg3bZv6z63",
        "outputId": "0983b070-05a3-4f94-bd72-3aa2cec4acec",
        "colab": {
          "base_uri": "https://localhost:8080/",
          "height": 34
        }
      },
      "source": [
        "a = [1, 2, 3]\n",
        "v = [0, 1, 0.5]\n",
        "\n",
        "numpy.convolve(a,v,mode='full')\n",
        "\n",
        "# convolve"
      ],
      "execution_count": 96,
      "outputs": [
        {
          "output_type": "execute_result",
          "data": {
            "text/plain": [
              "array([0. , 1. , 2.5, 4. , 1.5])"
            ]
          },
          "metadata": {
            "tags": []
          },
          "execution_count": 96
        }
      ]
    },
    {
      "cell_type": "code",
      "metadata": {
        "id": "Tf9zqHWh8aOE",
        "outputId": "e7f5bcda-6259-43a1-f959-149c6498065a",
        "colab": {
          "base_uri": "https://localhost:8080/",
          "height": 34
        }
      },
      "source": [
        "import numpy as np\n",
        "np.convolve([1, 2, 3], [0, 1, 0.5])"
      ],
      "execution_count": 97,
      "outputs": [
        {
          "output_type": "execute_result",
          "data": {
            "text/plain": [
              "array([0. , 1. , 2.5, 4. , 1.5])"
            ]
          },
          "metadata": {
            "tags": []
          },
          "execution_count": 97
        }
      ]
    },
    {
      "cell_type": "code",
      "metadata": {
        "id": "qamsAVxC8bc2",
        "outputId": "a3277217-ee80-45a5-b1e7-c86775e4de95",
        "colab": {
          "base_uri": "https://localhost:8080/",
          "height": 34
        }
      },
      "source": [
        "import numpy as np\n",
        "np.convolve([1,2,3],[0,1,0.5], 'same')"
      ],
      "execution_count": 98,
      "outputs": [
        {
          "output_type": "execute_result",
          "data": {
            "text/plain": [
              "array([1. , 2.5, 4. ])"
            ]
          },
          "metadata": {
            "tags": []
          },
          "execution_count": 98
        }
      ]
    },
    {
      "cell_type": "code",
      "metadata": {
        "id": "9G4qWtr38dK6",
        "outputId": "b8247d76-ae83-4a3f-b052-cc26f4fa17ac",
        "colab": {
          "base_uri": "https://localhost:8080/",
          "height": 34
        }
      },
      "source": [
        "import numpy as np\n",
        "np.convolve([1,2,3],[0,1,0.5], 'valid')"
      ],
      "execution_count": 99,
      "outputs": [
        {
          "output_type": "execute_result",
          "data": {
            "text/plain": [
              "array([2.5])"
            ]
          },
          "metadata": {
            "tags": []
          },
          "execution_count": 99
        }
      ]
    },
    {
      "cell_type": "markdown",
      "metadata": {
        "id": "cYXTaEvO8fG6"
      },
      "source": [
        "**[小測驗]下列程式執行後的結果為何?**"
      ]
    },
    {
      "cell_type": "code",
      "metadata": {
        "id": "MqYL-S8p8ihf",
        "outputId": "be60ee78-71d9-4370-d086-7a6b7e1082b7",
        "colab": {
          "base_uri": "https://localhost:8080/",
          "height": 34
        }
      },
      "source": [
        "import numpy as np\n",
        "np.convolve([1, 2, 3], [0, 1, 0.5])"
      ],
      "execution_count": 100,
      "outputs": [
        {
          "output_type": "execute_result",
          "data": {
            "text/plain": [
              "array([0. , 1. , 2.5, 4. , 1.5])"
            ]
          },
          "metadata": {
            "tags": []
          },
          "execution_count": 100
        }
      ]
    },
    {
      "cell_type": "markdown",
      "metadata": {
        "id": "NGvaylHE80uP"
      },
      "source": [
        "**NUMPY ndarray(N-Dimensional Arrays)檔案輸入與輸出**"
      ]
    },
    {
      "cell_type": "markdown",
      "metadata": {
        "id": "95F8k0V983o9"
      },
      "source": [
        "https://ithelp.ithome.com.tw/articles/10196167"
      ]
    },
    {
      "cell_type": "markdown",
      "metadata": {
        "id": "jFiCXJJA8yBb"
      },
      "source": [
        "**NUMPY ndarray 運算 - 排序sort**"
      ]
    },
    {
      "cell_type": "markdown",
      "metadata": {
        "id": "4DnbsRJc89fE"
      },
      "source": [
        "https://github.com/femibyte/mastering_pandas/blob/master/MasteringPandas-chap3_DataStructures.ipynb"
      ]
    },
    {
      "cell_type": "code",
      "metadata": {
        "id": "aXn-1evg9AiR",
        "outputId": "3559a77a-3579-4f4b-fe2f-bf1ee99ec113",
        "colab": {
          "base_uri": "https://localhost:8080/",
          "height": 51
        }
      },
      "source": [
        "import numpy as np\n",
        "ar=np.array([[3,2],[10,-1]])\n",
        "# ar\n",
        "ar.sort(axis=1)\n",
        "ar"
      ],
      "execution_count": 101,
      "outputs": [
        {
          "output_type": "execute_result",
          "data": {
            "text/plain": [
              "array([[ 2,  3],\n",
              "       [-1, 10]])"
            ]
          },
          "metadata": {
            "tags": []
          },
          "execution_count": 101
        }
      ]
    },
    {
      "cell_type": "markdown",
      "metadata": {
        "id": "u-YInfE_8-eH"
      },
      "source": [
        "**[小測驗]下列程式執行後的結果為何?**"
      ]
    },
    {
      "cell_type": "code",
      "metadata": {
        "id": "zbUWmcuD9Dnb",
        "outputId": "18d4f394-8615-47a6-8162-21078699a426",
        "colab": {
          "base_uri": "https://localhost:8080/",
          "height": 51
        }
      },
      "source": [
        "import numpy as np\n",
        "ar=np.array([[3,2],[10,-1]])\n",
        "# ar\n",
        "ar.sort(axis=0)\n",
        "ar"
      ],
      "execution_count": 102,
      "outputs": [
        {
          "output_type": "execute_result",
          "data": {
            "text/plain": [
              "array([[ 3, -1],\n",
              "       [10,  2]])"
            ]
          },
          "metadata": {
            "tags": []
          },
          "execution_count": 102
        }
      ]
    },
    {
      "cell_type": "code",
      "metadata": {
        "id": "DSETGHcQ9HaW",
        "outputId": "c587c19a-9056-4efc-c027-f8ddd1a212b4",
        "colab": {
          "base_uri": "https://localhost:8080/",
          "height": 34
        }
      },
      "source": [
        "import numpy as np\n",
        "ar=np.random.randint(10,size=5)\n",
        "ar.sort()\n",
        "ar[::-1]"
      ],
      "execution_count": 103,
      "outputs": [
        {
          "output_type": "execute_result",
          "data": {
            "text/plain": [
              "array([9, 8, 7, 1, 1])"
            ]
          },
          "metadata": {
            "tags": []
          },
          "execution_count": 103
        }
      ]
    },
    {
      "cell_type": "markdown",
      "metadata": {
        "id": "azXrPjwH9Kma"
      },
      "source": [
        "**說明底下程式的處理邏輯**"
      ]
    },
    {
      "cell_type": "code",
      "metadata": {
        "id": "z955h7sQ9L76",
        "outputId": "c9c1d58a-7a56-4662-a7c6-af40aef08954",
        "colab": {
          "base_uri": "https://localhost:8080/",
          "height": 68
        }
      },
      "source": [
        "import random as rand\n",
        "\n",
        "list1 = rand.sample(range(1,50), 7)\n",
        "\n",
        "special = list1.pop()\n",
        "\n",
        "list1.sort()\n",
        "\n",
        "print(\"龍大大 我的億 大樂透 開獎中心\")\n",
        "print(\"本期大樂透中獎號碼為：\", end=\"\")\n",
        "for i in range(0,6):\n",
        "    if i == 5:    print(str(list1[i]))\n",
        "    else:    print(str(list1[i]), end=\", \")\n",
        "print(\"本期大樂透特別號為：\" + str(special))"
      ],
      "execution_count": 104,
      "outputs": [
        {
          "output_type": "stream",
          "text": [
            "龍大大 我的億 大樂透 開獎中心\n",
            "本期大樂透中獎號碼為：4, 27, 34, 37, 45, 47\n",
            "本期大樂透特別號為：22\n"
          ],
          "name": "stdout"
        }
      ]
    },
    {
      "cell_type": "markdown",
      "metadata": {
        "id": "8xCnq6iX9TM1"
      },
      "source": [
        "[1]產生從1到49的7個不重複的整數\n",
        "\n",
        "[2]設定中獎號法\n",
        "挑出一個當作 特別號\n",
        "剩下六個當作 中獎號碼\n",
        "\n",
        "[3]印出 特殊格式輸出 的 中獎單"
      ]
    }
  ]
}