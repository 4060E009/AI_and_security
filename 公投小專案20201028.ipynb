{
  "nbformat": 4,
  "nbformat_minor": 0,
  "metadata": {
    "colab": {
      "name": "公投小專案20201028.ipynb",
      "provenance": [],
      "collapsed_sections": [],
      "authorship_tag": "ABX9TyMBmxTVy3Ej/QpnsbPM7NXT",
      "include_colab_link": true
    },
    "kernelspec": {
      "name": "python3",
      "display_name": "Python 3"
    }
  },
  "cells": [
    {
      "cell_type": "markdown",
      "metadata": {
        "id": "view-in-github",
        "colab_type": "text"
      },
      "source": [
        "<a href=\"https://colab.research.google.com/github/4060E009/AI_and_security/blob/master/%E5%85%AC%E6%8A%95%E5%B0%8F%E5%B0%88%E6%A1%8820201028.ipynb\" target=\"_parent\"><img src=\"https://colab.research.google.com/assets/colab-badge.svg\" alt=\"Open In Colab\"/></a>"
      ]
    },
    {
      "cell_type": "markdown",
      "metadata": {
        "id": "N_MzrHGDyGc4"
      },
      "source": [
        "**資料來源:拿公投統計資料學 Pandas**\n",
        "\n",
        "https://newtoypia.blogspot.com/2018/12/pandas.html"
      ]
    },
    {
      "cell_type": "markdown",
      "metadata": {
        "id": "jTRWIRFP0niH"
      },
      "source": [
        "**資料愈處理 **\n",
        "\n",
        "搜尋csv遇到亂碼怎麼辦"
      ]
    },
    {
      "cell_type": "markdown",
      "metadata": {
        "id": "i86emF2szGFu"
      },
      "source": [
        "import pandas as pd\n",
        "\n",
        "refm = pd.read_csv('referendum.csv')\n",
        "\n",
        "refm['同意票數']\n",
        "\n",
        "x=refm['同意票數']+refm['不同意票數']-refm['有效票數']\n",
        "\n",
        "x.describe()\n",
        "\n",
        "x=refm['有效票數']+refm['無效票數']-refm['投票數']\n",
        "\n",
        "x.describe()"
      ]
    },
    {
      "cell_type": "code",
      "metadata": {
        "id": "3NMcRH5hyPjG",
        "outputId": "11d02936-51a8-4556-a498-cd0f445af5d6",
        "colab": {
          "base_uri": "https://localhost:8080/",
          "height": 204
        }
      },
      "source": [
        "!wget https://raw.githubusercontent.com/MyDearGreatTeacher/AI_and_security_2020/master/referendum2.csv"
      ],
      "execution_count": 1,
      "outputs": [
        {
          "output_type": "stream",
          "text": [
            "--2020-10-28 01:24:58--  https://raw.githubusercontent.com/MyDearGreatTeacher/AI_and_security_2020/master/referendum2.csv\n",
            "Resolving raw.githubusercontent.com (raw.githubusercontent.com)... 151.101.0.133, 151.101.64.133, 151.101.128.133, ...\n",
            "Connecting to raw.githubusercontent.com (raw.githubusercontent.com)|151.101.0.133|:443... connected.\n",
            "HTTP request sent, awaiting response... 200 OK\n",
            "Length: 219621 (214K) [text/plain]\n",
            "Saving to: ‘referendum2.csv’\n",
            "\n",
            "\rreferendum2.csv       0%[                    ]       0  --.-KB/s               \rreferendum2.csv     100%[===================>] 214.47K  --.-KB/s    in 0.05s   \n",
            "\n",
            "2020-10-28 01:24:58 (3.82 MB/s) - ‘referendum2.csv’ saved [219621/219621]\n",
            "\n"
          ],
          "name": "stdout"
        }
      ]
    },
    {
      "cell_type": "code",
      "metadata": {
        "id": "0Dt8nwgy0AxP"
      },
      "source": [
        "cat referendum2.csv"
      ],
      "execution_count": null,
      "outputs": []
    },
    {
      "cell_type": "code",
      "metadata": {
        "id": "IeGd_vdQ1X02"
      },
      "source": [
        "import pandas as pd\n",
        "refm = pd.read_csv('referendum2.csv')\n"
      ],
      "execution_count": 8,
      "outputs": []
    },
    {
      "cell_type": "code",
      "metadata": {
        "id": "sFOq5_4N1a7O",
        "outputId": "cb186b76-5d49-4b0d-9fb5-afc0b870eaa1",
        "colab": {
          "base_uri": "https://localhost:8080/",
          "height": 419
        }
      },
      "source": [
        "refm"
      ],
      "execution_count": 9,
      "outputs": [
        {
          "output_type": "execute_result",
          "data": {
            "text/html": [
              "<div>\n",
              "<style scoped>\n",
              "    .dataframe tbody tr th:only-of-type {\n",
              "        vertical-align: middle;\n",
              "    }\n",
              "\n",
              "    .dataframe tbody tr th {\n",
              "        vertical-align: top;\n",
              "    }\n",
              "\n",
              "    .dataframe thead th {\n",
              "        text-align: right;\n",
              "    }\n",
              "</style>\n",
              "<table border=\"1\" class=\"dataframe\">\n",
              "  <thead>\n",
              "    <tr style=\"text-align: right;\">\n",
              "      <th></th>\n",
              "      <th>案件</th>\n",
              "      <th>縣市</th>\n",
              "      <th>鄉鎮市區</th>\n",
              "      <th>同意票數</th>\n",
              "      <th>不同意票數</th>\n",
              "      <th>有效票數</th>\n",
              "      <th>無效票數</th>\n",
              "      <th>投票數</th>\n",
              "      <th>投票權人數</th>\n",
              "    </tr>\n",
              "  </thead>\n",
              "  <tbody>\n",
              "    <tr>\n",
              "      <th>0</th>\n",
              "      <td>c07</td>\n",
              "      <td>全國</td>\n",
              "      <td>NaN</td>\n",
              "      <td>7955753</td>\n",
              "      <td>2109157</td>\n",
              "      <td>10064910</td>\n",
              "      <td>715140</td>\n",
              "      <td>10780050</td>\n",
              "      <td>19757067</td>\n",
              "    </tr>\n",
              "    <tr>\n",
              "      <th>1</th>\n",
              "      <td>c07</td>\n",
              "      <td>南投縣</td>\n",
              "      <td>NaN</td>\n",
              "      <td>187162</td>\n",
              "      <td>41641</td>\n",
              "      <td>228803</td>\n",
              "      <td>15881</td>\n",
              "      <td>244684</td>\n",
              "      <td>427089</td>\n",
              "    </tr>\n",
              "    <tr>\n",
              "      <th>2</th>\n",
              "      <td>c07</td>\n",
              "      <td>南投縣</td>\n",
              "      <td>中寮鄉</td>\n",
              "      <td>5701</td>\n",
              "      <td>1272</td>\n",
              "      <td>6973</td>\n",
              "      <td>633</td>\n",
              "      <td>7606</td>\n",
              "      <td>13181</td>\n",
              "    </tr>\n",
              "    <tr>\n",
              "      <th>3</th>\n",
              "      <td>c07</td>\n",
              "      <td>南投縣</td>\n",
              "      <td>仁愛鄉</td>\n",
              "      <td>5087</td>\n",
              "      <td>1090</td>\n",
              "      <td>6177</td>\n",
              "      <td>467</td>\n",
              "      <td>6644</td>\n",
              "      <td>12589</td>\n",
              "    </tr>\n",
              "    <tr>\n",
              "      <th>4</th>\n",
              "      <td>c07</td>\n",
              "      <td>南投縣</td>\n",
              "      <td>信義鄉</td>\n",
              "      <td>5246</td>\n",
              "      <td>1259</td>\n",
              "      <td>6505</td>\n",
              "      <td>961</td>\n",
              "      <td>7466</td>\n",
              "      <td>13299</td>\n",
              "    </tr>\n",
              "    <tr>\n",
              "      <th>...</th>\n",
              "      <td>...</td>\n",
              "      <td>...</td>\n",
              "      <td>...</td>\n",
              "      <td>...</td>\n",
              "      <td>...</td>\n",
              "      <td>...</td>\n",
              "      <td>...</td>\n",
              "      <td>...</td>\n",
              "      <td>...</td>\n",
              "    </tr>\n",
              "    <tr>\n",
              "      <th>3905</th>\n",
              "      <td>c16</td>\n",
              "      <td>高雄市</td>\n",
              "      <td>阿蓮區</td>\n",
              "      <td>6890</td>\n",
              "      <td>5125</td>\n",
              "      <td>12015</td>\n",
              "      <td>1066</td>\n",
              "      <td>13081</td>\n",
              "      <td>24534</td>\n",
              "    </tr>\n",
              "    <tr>\n",
              "      <th>3906</th>\n",
              "      <td>c16</td>\n",
              "      <td>高雄市</td>\n",
              "      <td>鳥松區</td>\n",
              "      <td>12625</td>\n",
              "      <td>9306</td>\n",
              "      <td>21931</td>\n",
              "      <td>1688</td>\n",
              "      <td>23619</td>\n",
              "      <td>39191</td>\n",
              "    </tr>\n",
              "    <tr>\n",
              "      <th>3907</th>\n",
              "      <td>c16</td>\n",
              "      <td>高雄市</td>\n",
              "      <td>鳳山區</td>\n",
              "      <td>99747</td>\n",
              "      <td>64662</td>\n",
              "      <td>164409</td>\n",
              "      <td>12511</td>\n",
              "      <td>176920</td>\n",
              "      <td>300510</td>\n",
              "    </tr>\n",
              "    <tr>\n",
              "      <th>3908</th>\n",
              "      <td>c16</td>\n",
              "      <td>高雄市</td>\n",
              "      <td>鹽埕區</td>\n",
              "      <td>6495</td>\n",
              "      <td>4957</td>\n",
              "      <td>11452</td>\n",
              "      <td>718</td>\n",
              "      <td>12170</td>\n",
              "      <td>21617</td>\n",
              "    </tr>\n",
              "    <tr>\n",
              "      <th>3909</th>\n",
              "      <td>c16</td>\n",
              "      <td>高雄市</td>\n",
              "      <td>鼓山區</td>\n",
              "      <td>38075</td>\n",
              "      <td>24959</td>\n",
              "      <td>63034</td>\n",
              "      <td>4429</td>\n",
              "      <td>67463</td>\n",
              "      <td>114979</td>\n",
              "    </tr>\n",
              "  </tbody>\n",
              "</table>\n",
              "<p>3910 rows × 9 columns</p>\n",
              "</div>"
            ],
            "text/plain": [
              "       案件   縣市 鄉鎮市區     同意票數    不同意票數      有效票數    無效票數       投票數     投票權人數\n",
              "0     c07   全國  NaN  7955753  2109157  10064910  715140  10780050  19757067\n",
              "1     c07  南投縣  NaN   187162    41641    228803   15881    244684    427089\n",
              "2     c07  南投縣  中寮鄉     5701     1272      6973     633      7606     13181\n",
              "3     c07  南投縣  仁愛鄉     5087     1090      6177     467      6644     12589\n",
              "4     c07  南投縣  信義鄉     5246     1259      6505     961      7466     13299\n",
              "...   ...  ...  ...      ...      ...       ...     ...       ...       ...\n",
              "3905  c16  高雄市  阿蓮區     6890     5125     12015    1066     13081     24534\n",
              "3906  c16  高雄市  鳥松區    12625     9306     21931    1688     23619     39191\n",
              "3907  c16  高雄市  鳳山區    99747    64662    164409   12511    176920    300510\n",
              "3908  c16  高雄市  鹽埕區     6495     4957     11452     718     12170     21617\n",
              "3909  c16  高雄市  鼓山區    38075    24959     63034    4429     67463    114979\n",
              "\n",
              "[3910 rows x 9 columns]"
            ]
          },
          "metadata": {
            "tags": []
          },
          "execution_count": 9
        }
      ]
    },
    {
      "cell_type": "markdown",
      "metadata": {
        "id": "lo5d0F5y1i-j"
      },
      "source": [
        "**同意票數**"
      ]
    },
    {
      "cell_type": "code",
      "metadata": {
        "id": "7giBCnFO1mMV",
        "outputId": "0877e4ee-0f93-47c5-dd80-eba7d4b9c786",
        "colab": {
          "base_uri": "https://localhost:8080/",
          "height": 221
        }
      },
      "source": [
        "refm['同意票數']"
      ],
      "execution_count": 10,
      "outputs": [
        {
          "output_type": "execute_result",
          "data": {
            "text/plain": [
              "0       7955753\n",
              "1        187162\n",
              "2          5701\n",
              "3          5087\n",
              "4          5246\n",
              "         ...   \n",
              "3905       6890\n",
              "3906      12625\n",
              "3907      99747\n",
              "3908       6495\n",
              "3909      38075\n",
              "Name: 同意票數, Length: 3910, dtype: int64"
            ]
          },
          "metadata": {
            "tags": []
          },
          "execution_count": 10
        }
      ]
    },
    {
      "cell_type": "markdown",
      "metadata": {
        "id": "Ogl6qUkU14b2"
      },
      "source": [
        "**x=refm['同意票數']+refm['不同意票數']-refm['有效票數']**"
      ]
    },
    {
      "cell_type": "code",
      "metadata": {
        "id": "CKUD8O7-1-7u",
        "outputId": "ddbe9947-896d-43a8-c933-377a39e48c97",
        "colab": {
          "base_uri": "https://localhost:8080/",
          "height": 221
        }
      },
      "source": [
        "x=refm['同意票數']+refm['不同意票數']-refm['有效票數']\n",
        "x"
      ],
      "execution_count": 11,
      "outputs": [
        {
          "output_type": "execute_result",
          "data": {
            "text/plain": [
              "0       0\n",
              "1       0\n",
              "2       0\n",
              "3       0\n",
              "4       0\n",
              "       ..\n",
              "3905    0\n",
              "3906    0\n",
              "3907    0\n",
              "3908    0\n",
              "3909    0\n",
              "Length: 3910, dtype: int64"
            ]
          },
          "metadata": {
            "tags": []
          },
          "execution_count": 11
        }
      ]
    },
    {
      "cell_type": "markdown",
      "metadata": {
        "id": "kGMY-GV82FKG"
      },
      "source": [
        "**寫出統計**"
      ]
    },
    {
      "cell_type": "code",
      "metadata": {
        "id": "m8ZWifNU2Lqm",
        "outputId": "29b3e971-a246-45e2-f8aa-650c02825bf4",
        "colab": {
          "base_uri": "https://localhost:8080/",
          "height": 170
        }
      },
      "source": [
        "x.describe()"
      ],
      "execution_count": 12,
      "outputs": [
        {
          "output_type": "execute_result",
          "data": {
            "text/plain": [
              "count    3910.0\n",
              "mean        0.0\n",
              "std         0.0\n",
              "min         0.0\n",
              "25%         0.0\n",
              "50%         0.0\n",
              "75%         0.0\n",
              "max         0.0\n",
              "dtype: float64"
            ]
          },
          "metadata": {
            "tags": []
          },
          "execution_count": 12
        }
      ]
    },
    {
      "cell_type": "markdown",
      "metadata": {
        "id": "z88663X82NBe"
      },
      "source": [
        "**x=refm['有效票數']+refm['無效票數']-refm['投票數']**"
      ]
    },
    {
      "cell_type": "code",
      "metadata": {
        "id": "ULYr-YlX2QJm",
        "outputId": "b50e6e8f-92c6-456c-ba75-807c7a7b22a7",
        "colab": {
          "base_uri": "https://localhost:8080/",
          "height": 221
        }
      },
      "source": [
        "x=refm['有效票數']+refm['無效票數']-refm['投票數']\n",
        "x"
      ],
      "execution_count": 13,
      "outputs": [
        {
          "output_type": "execute_result",
          "data": {
            "text/plain": [
              "0       0\n",
              "1       0\n",
              "2       0\n",
              "3       0\n",
              "4       0\n",
              "       ..\n",
              "3905    0\n",
              "3906    0\n",
              "3907    0\n",
              "3908    0\n",
              "3909    0\n",
              "Length: 3910, dtype: int64"
            ]
          },
          "metadata": {
            "tags": []
          },
          "execution_count": 13
        }
      ]
    },
    {
      "cell_type": "code",
      "metadata": {
        "id": "ykgMY0a12Wn_",
        "outputId": "139becdc-bcfd-42eb-daaa-26807a81e5f0",
        "colab": {
          "base_uri": "https://localhost:8080/",
          "height": 170
        }
      },
      "source": [
        "x.describe()"
      ],
      "execution_count": 14,
      "outputs": [
        {
          "output_type": "execute_result",
          "data": {
            "text/plain": [
              "count    3910.0\n",
              "mean        0.0\n",
              "std         0.0\n",
              "min         0.0\n",
              "25%         0.0\n",
              "50%         0.0\n",
              "75%         0.0\n",
              "max         0.0\n",
              "dtype: float64"
            ]
          },
          "metadata": {
            "tags": []
          },
          "execution_count": 14
        }
      ]
    }
  ]
}